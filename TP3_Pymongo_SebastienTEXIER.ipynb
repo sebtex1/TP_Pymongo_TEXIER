{
 "cells": [
  {
   "cell_type": "code",
   "execution_count": 1,
   "metadata": {},
   "outputs": [
    {
     "name": "stdout",
     "output_type": "stream",
     "text": [
      "connexion success\n"
     ]
    }
   ],
   "source": [
    "from pymongo import MongoClient\n",
    "\n",
    "client = MongoClient('mongodb://localhost:27017/')\n",
    "db = client.db_agg\n",
    "people = db.people\n",
    "print('connexion success')\n"
   ]
  },
  {
   "cell_type": "code",
   "execution_count": 4,
   "metadata": {},
   "outputs": [
    {
     "name": "stderr",
     "output_type": "stream",
     "text": [
      "<ipython-input-4-2559ea3c6ce4>:1: DeprecationWarning: insert is deprecated. Use insert_one or insert_many instead.\n",
      "  db.people.insert([\n"
     ]
    },
    {
     "data": {
      "text/plain": [
       "[ObjectId('600fd10f6b61282c2b8e5715'),\n",
       " ObjectId('600fd10f6b61282c2b8e5716'),\n",
       " ObjectId('600fd10f6b61282c2b8e5717'),\n",
       " ObjectId('600fd10f6b61282c2b8e5718')]"
      ]
     },
     "execution_count": 4,
     "metadata": {},
     "output_type": "execute_result"
    }
   ],
   "source": [
    "db.people.insert([\n",
    "\t{\"name\" : \"Ada\", \"age\" : 20},\n",
    "\t{\"name\" : \"Fred\", \"age\" : 35},\n",
    "\t{\"name\" : \"Susan\", \"age\" : 60},\n",
    "\t{\"name\" : \"Andy\", \"age\" : 35}\n",
    "])"
   ]
  },
  {
   "cell_type": "code",
   "execution_count": 2,
   "metadata": {},
   "outputs": [
    {
     "name": "stdout",
     "output_type": "stream",
     "text": [
      "{'name': 'Andy'}\n",
      "{'name': 'Fred'}\n"
     ]
    }
   ],
   "source": [
    "# Qry classique SQL\n",
    "# SELECT name FROM people WHERE age = 35 ORDER BY name\n",
    "\n",
    "request = people.find({\"age\": 35}, {\"name\": 1, \"_id\": 0}).sort(\"name\")\n",
    "for pp in request:\n",
    "    print(pp)"
   ]
  },
  {
   "cell_type": "code",
   "execution_count": 3,
   "metadata": {},
   "outputs": [
    {
     "name": "stdout",
     "output_type": "stream",
     "text": [
      "{'name': 'Andy'}\n",
      "{'name': 'Fred'}\n"
     ]
    }
   ],
   "source": [
    "# La Qry avec aggregate => même résultat\n",
    "# La fonction \"aggregate()\" permet de spécifier des chaînes d’opérations, appelées pipeline d’agrégation ou encore stage.\n",
    "\n",
    "request = db.people.aggregate( [\n",
    "    { \"$match\" : {\n",
    "        \"age\":35\n",
    "    }},\n",
    "    { \"$project\" : {\n",
    "        \"name\":1, \"_id\":0\n",
    "    }},\n",
    "    { \"$sort\" : {\n",
    "        \"name\":1\n",
    "    }}\n",
    "] )\n",
    "for pp in request:\n",
    "    print(pp)"
   ]
  },
  {
   "cell_type": "code",
   "execution_count": 4,
   "metadata": {},
   "outputs": [
    {
     "name": "stdout",
     "output_type": "stream",
     "text": [
      "{'name': 'Andy', 'age': 35}\n",
      "{'name': 'Fred', 'age': 35}\n"
     ]
    }
   ],
   "source": [
    "# Q : Cmnt alléger l'écrirure de la Qry ?\n",
    "# R1 : Passer par des vars !!!\n",
    "\n",
    "varMatch = { \"$match\" : { \"age\":35} }\n",
    "varProject = { \"$project\" : {\"name\":1, \"age\":1, \"_id\":0} }\n",
    "varSort = { \"$sort\" : {\"name\":1} }\n",
    "\n",
    "request = db.people.aggregate( [varMatch, varProject, varSort] )\n",
    "for pp in request:\n",
    "    print(pp)"
   ]
  },
  {
   "cell_type": "code",
   "execution_count": 26,
   "metadata": {},
   "outputs": [
    {
     "name": "stdout",
     "output_type": "stream",
     "text": [
      "{'_id': 'Bronx', 'nbResto': 2338}\n",
      "{'_id': 'Manhattan', 'nbResto': 10258}\n",
      "{'_id': 'Missing', 'nbResto': 51}\n",
      "{'_id': 'Staten Island', 'nbResto': 969}\n",
      "{'_id': 'Queens', 'nbResto': 5656}\n",
      "{'_id': 'Brooklyn', 'nbResto': 6085}\n"
     ]
    }
   ],
   "source": [
    "# Exo Restaurants\n",
    "# Q : La répartition des restaurants par quartier ?\n",
    "\n",
    "restaurants = db.restaurants\n",
    "\n",
    "request = restaurants.aggregate( [\n",
    "    { \"$group\" : {\n",
    "        \"_id\": \"$borough\",\n",
    "        \"nbResto\": {\"$sum\": 1}\n",
    "    }}\n",
    "] )\n",
    "for pp in request:\n",
    "    print(pp)"
   ]
  },
  {
   "cell_type": "code",
   "execution_count": 27,
   "metadata": {},
   "outputs": [
    {
     "name": "stdout",
     "output_type": "stream",
     "text": [
      "{'_id': 'Bronx', 'nbResto': 27}\n",
      "{'_id': 'Brooklyn', 'nbResto': 56}\n",
      "{'_id': 'Manhattan', 'nbResto': 83}\n",
      "{'_id': 'Queens', 'nbResto': 47}\n",
      "{'_id': 'Staten Island', 'nbResto': 7}\n"
     ]
    }
   ],
   "source": [
    "# Q : La répartition des restaurants dont la dernière inspection a donné un grade \"C\" par quartier ?\n",
    "\n",
    "match_grade_C = {\"$match\": {\"grades.0.grade\": \"C\"}}\n",
    "project = {\"$project\": {\"name\": 1, \"borough\": 1, \"_id\": 0}}\n",
    "tri = {\"$sort\": {\"_id\": 1}}\n",
    "repart_quartier = { \"$group\" : {\n",
    "        \"_id\": \"$borough\",\n",
    "        \"nbResto\": {\"$sum\": 1}\n",
    "    }}\n",
    "    \n",
    "request = restaurants.aggregate([match_grade_C, project, repart_quartier, tri])\n",
    "for pp in request:\n",
    "    print(pp)"
   ]
  },
  {
   "cell_type": "code",
   "execution_count": 29,
   "metadata": {},
   "outputs": [
    {
     "name": "stdout",
     "output_type": "stream",
     "text": [
      "{'_id': 'Queens', 'moyenne': 11.634865110930088}\n",
      "{'_id': 'Brooklyn', 'moyenne': 11.447723132969035}\n",
      "{'_id': 'Manhattan', 'moyenne': 11.41823125728344}\n",
      "{'_id': 'Staten Island', 'moyenne': 11.370957711442786}\n",
      "{'_id': 'Bronx', 'moyenne': 11.036186099942562}\n",
      "{'_id': 'Missing', 'moyenne': 9.632911392405063}\n"
     ]
    }
   ],
   "source": [
    "# Q : Calculer le score moyen des resto par quartier et trier par score décroissant ?\n",
    "\n",
    "eclater_liste = {\"$unwind\" : \"$grades\"}\n",
    "avg_quartier = {\"$group\" : {\"_id\":\"$borough\",\"moyenne\":{\"$avg\":\"$grades.score\"}}}\n",
    "tri = {\"$sort\": {\"moyenne\":-1}}\n",
    "\n",
    "request = restaurants.aggregate([eclater_liste, avg_quartier, tri])\n",
    "for pp in request:\n",
    "    print(pp)"
   ]
  },
  {
   "cell_type": "code",
   "execution_count": 39,
   "metadata": {},
   "outputs": [
    {
     "name": "stdout",
     "output_type": "stream",
     "text": [
      "{'_id': 'Total', 'Total': 1230}\n"
     ]
    }
   ],
   "source": [
    "# Exercice  Aggréger des transactions\n",
    "# Q : Créer une collection \"transactions\" à partir du fichier transactions.json et répondre aux questions suivantes :\n",
    "\n",
    "# Q-1. Calculer le montant total des paiements ?\n",
    "\n",
    "transactions = db.transactions\n",
    "\n",
    "match = {\"$match\": {\"Payment.Success\": True}}\n",
    "group = {\"$group\": {\"_id\": \"Total\", \"Total\": {\"$sum\": \"$Payment.Total\"}}}\n",
    "\n",
    "\n",
    "request = transactions.aggregate([match, group])\n",
    "for pp in request:\n",
    "    print(pp)"
   ]
  },
  {
   "cell_type": "code",
   "execution_count": 65,
   "metadata": {},
   "outputs": [
    {
     "name": "stdout",
     "output_type": "stream",
     "text": [
      "{'_id': 'tran2', 'Total': 410}\n",
      "{'_id': 'tran1', 'Total': 410}\n",
      "{'_id': 'tran3', 'Total': 410}\n",
      "{'_id': 'tran4', 'Total': 410}\n"
     ]
    }
   ],
   "source": [
    "# Q-2. Calculer le montant total par transactions (montant total du panier) ?\n",
    "\n",
    "unwind = {\"$unwind\": \"$Panier\"}\n",
    "group = {\"$group\": {\"_id\": \"$TransactionId\", \"Total\": {\"$sum\": \"$Panier.price\"}}}\n",
    "\n",
    "request = transactions.aggregate([unwind, group])\n",
    "for pp in request:\n",
    "    print(pp)"
   ]
  },
  {
   "cell_type": "code",
   "execution_count": 45,
   "metadata": {},
   "outputs": [
    {
     "name": "stdout",
     "output_type": "stream",
     "text": [
      "{'_id': 'Debit-Card', 'Total': 410}\n",
      "{'_id': 'Credit-Card', 'Total': 820}\n"
     ]
    }
   ],
   "source": [
    "# Q-3. Calculate total payments (Payment.Total) for each payment type (Payment.Type) ?\n",
    "\n",
    "match = {\"$match\": {\"Payment.Success\": True}}\n",
    "group = {\"$group\": {\"_id\": \"$Payment.Type\", \"Total\": {\"$sum\": \"$Payment.Total\"}}}\n",
    "\n",
    "\n",
    "request = transactions.aggregate([match, group])\n",
    "for pp in request:\n",
    "    print(pp)"
   ]
  },
  {
   "cell_type": "code",
   "execution_count": 63,
   "metadata": {},
   "outputs": [
    {
     "name": "stdout",
     "output_type": "stream",
     "text": [
      "{'_id': ObjectId('60100058ad0f7231a8821eb2'), 'Id': 103, 'Name': 'Dylan', 'TransactionId': 'tran4', 'Panier': [{'ItemId': 'a100', 'price': 200}, {'ItemId': 'a110', 'price': 210}], 'Subscriber': True, 'Payment': None, 'Note': 'Payment is Null'}\n"
     ]
    }
   ],
   "source": [
    "# Q-4. Trouver l'Id le plus élevé.\n",
    "\n",
    "sort = {\"$sort\": {\"Id\": -1}}\n",
    "limit = {\"$limit\": 1}\n",
    "\n",
    "request = transactions.aggregate([sort, limit])\n",
    "for pp in request:\n",
    "    print(pp)"
   ]
  },
  {
   "cell_type": "code",
   "execution_count": 71,
   "metadata": {},
   "outputs": [
    {
     "name": "stdout",
     "output_type": "stream",
     "text": [
      "{'Panier': {'price': 210}}\n"
     ]
    }
   ],
   "source": [
    "# Q-5. Find the max price (Transaction.price) ?\n",
    "\n",
    "unwind = {\"$unwind\": \"$Panier\"}\n",
    "project = {\"$project\": {\"Panier.price\": 1, \"_id\": 0}}\n",
    "sort = {\"$sort\": {\"Panier.price\": -1}}\n",
    "limit = {\"$limit\": 1}\n",
    "\n",
    "request = transactions.aggregate([unwind, sort, project, limit])\n",
    "for pp in request:\n",
    "    print(pp)"
   ]
  },
  {
   "cell_type": "code",
   "execution_count": 73,
   "metadata": {},
   "outputs": [
    {
     "name": "stdout",
     "output_type": "stream",
     "text": [
      "20\n",
      "35\n",
      "60\n"
     ]
    }
   ],
   "source": [
    "# Distinct\n",
    "# Q : Age unique => distinct ?\n",
    "\n",
    "request = people.distinct(\"age\")\n",
    "for pp in request:\n",
    "    print(pp)"
   ]
  },
  {
   "cell_type": "code",
   "execution_count": 87,
   "metadata": {},
   "outputs": [
    {
     "ename": "InvalidDocument",
     "evalue": "cannot encode object: <function mapFunction at 0x00000237404253A0>, of type: <class 'function'>",
     "output_type": "error",
     "traceback": [
      "\u001b[1;31m---------------------------------------------------------------------------\u001b[0m",
      "\u001b[1;31mInvalidDocument\u001b[0m                           Traceback (most recent call last)",
      "\u001b[1;32m<ipython-input-87-cd8f3f135a01>\u001b[0m in \u001b[0;36m<module>\u001b[1;34m\u001b[0m\n\u001b[0;32m      9\u001b[0m }\n\u001b[0;32m     10\u001b[0m \u001b[1;33m\u001b[0m\u001b[0m\n\u001b[1;32m---> 11\u001b[1;33m request = people.map_reduce(\n\u001b[0m\u001b[0;32m     12\u001b[0m    \u001b[0mmapFunction\u001b[0m\u001b[1;33m,\u001b[0m\u001b[1;33m\u001b[0m\u001b[1;33m\u001b[0m\u001b[0m\n\u001b[0;32m     13\u001b[0m    \u001b[0mreduceFunction\u001b[0m\u001b[1;33m,\u001b[0m\u001b[1;33m\u001b[0m\u001b[1;33m\u001b[0m\u001b[0m\n",
      "\u001b[1;32m~\\anaconda3\\lib\\site-packages\\pymongo\\collection.py\u001b[0m in \u001b[0;36mmap_reduce\u001b[1;34m(self, map, reduce, out, full_response, session, **kwargs)\u001b[0m\n\u001b[0;32m   2848\u001b[0m                             \"%s or a mapping\" % (string_type.__name__,))\n\u001b[0;32m   2849\u001b[0m \u001b[1;33m\u001b[0m\u001b[0m\n\u001b[1;32m-> 2850\u001b[1;33m         response = self._map_reduce(map, reduce, out, session,\n\u001b[0m\u001b[0;32m   2851\u001b[0m                                     ReadPreference.PRIMARY, **kwargs)\n\u001b[0;32m   2852\u001b[0m \u001b[1;33m\u001b[0m\u001b[0m\n",
      "\u001b[1;32m~\\anaconda3\\lib\\site-packages\\pymongo\\collection.py\u001b[0m in \u001b[0;36m_map_reduce\u001b[1;34m(self, map, reduce, out, session, read_pref, **kwargs)\u001b[0m\n\u001b[0;32m   2782\u001b[0m                 \u001b[0mwrite_concern\u001b[0m \u001b[1;33m=\u001b[0m \u001b[1;32mNone\u001b[0m\u001b[1;33m\u001b[0m\u001b[1;33m\u001b[0m\u001b[0m\n\u001b[0;32m   2783\u001b[0m \u001b[1;33m\u001b[0m\u001b[0m\n\u001b[1;32m-> 2784\u001b[1;33m             return self._command(\n\u001b[0m\u001b[0;32m   2785\u001b[0m                 \u001b[0msock_info\u001b[0m\u001b[1;33m,\u001b[0m \u001b[0mcmd\u001b[0m\u001b[1;33m,\u001b[0m \u001b[0mslave_ok\u001b[0m\u001b[1;33m,\u001b[0m \u001b[0mread_pref\u001b[0m\u001b[1;33m,\u001b[0m\u001b[1;33m\u001b[0m\u001b[1;33m\u001b[0m\u001b[0m\n\u001b[0;32m   2786\u001b[0m                 \u001b[0mread_concern\u001b[0m\u001b[1;33m=\u001b[0m\u001b[0mread_concern\u001b[0m\u001b[1;33m,\u001b[0m\u001b[1;33m\u001b[0m\u001b[1;33m\u001b[0m\u001b[0m\n",
      "\u001b[1;32m~\\anaconda3\\lib\\site-packages\\pymongo\\collection.py\u001b[0m in \u001b[0;36m_command\u001b[1;34m(self, sock_info, command, slave_ok, read_preference, codec_options, check, allowable_errors, read_concern, write_concern, collation, session, retryable_write, user_fields)\u001b[0m\n\u001b[0;32m    236\u001b[0m         \"\"\"\n\u001b[0;32m    237\u001b[0m         \u001b[1;32mwith\u001b[0m \u001b[0mself\u001b[0m\u001b[1;33m.\u001b[0m\u001b[0m__database\u001b[0m\u001b[1;33m.\u001b[0m\u001b[0mclient\u001b[0m\u001b[1;33m.\u001b[0m\u001b[0m_tmp_session\u001b[0m\u001b[1;33m(\u001b[0m\u001b[0msession\u001b[0m\u001b[1;33m)\u001b[0m \u001b[1;32mas\u001b[0m \u001b[0ms\u001b[0m\u001b[1;33m:\u001b[0m\u001b[1;33m\u001b[0m\u001b[1;33m\u001b[0m\u001b[0m\n\u001b[1;32m--> 238\u001b[1;33m             return sock_info.command(\n\u001b[0m\u001b[0;32m    239\u001b[0m                 \u001b[0mself\u001b[0m\u001b[1;33m.\u001b[0m\u001b[0m__database\u001b[0m\u001b[1;33m.\u001b[0m\u001b[0mname\u001b[0m\u001b[1;33m,\u001b[0m\u001b[1;33m\u001b[0m\u001b[1;33m\u001b[0m\u001b[0m\n\u001b[0;32m    240\u001b[0m                 \u001b[0mcommand\u001b[0m\u001b[1;33m,\u001b[0m\u001b[1;33m\u001b[0m\u001b[1;33m\u001b[0m\u001b[0m\n",
      "\u001b[1;32m~\\anaconda3\\lib\\site-packages\\pymongo\\pool.py\u001b[0m in \u001b[0;36mcommand\u001b[1;34m(self, dbname, spec, slave_ok, read_preference, codec_options, check, allowable_errors, check_keys, read_concern, write_concern, parse_write_concern_error, collation, session, client, retryable_write, publish_events, user_fields, exhaust_allowed)\u001b[0m\n\u001b[0;32m    697\u001b[0m         \u001b[1;31m# Catch socket.error, KeyboardInterrupt, etc. and close ourselves.\u001b[0m\u001b[1;33m\u001b[0m\u001b[1;33m\u001b[0m\u001b[1;33m\u001b[0m\u001b[0m\n\u001b[0;32m    698\u001b[0m         \u001b[1;32mexcept\u001b[0m \u001b[0mBaseException\u001b[0m \u001b[1;32mas\u001b[0m \u001b[0merror\u001b[0m\u001b[1;33m:\u001b[0m\u001b[1;33m\u001b[0m\u001b[1;33m\u001b[0m\u001b[0m\n\u001b[1;32m--> 699\u001b[1;33m             \u001b[0mself\u001b[0m\u001b[1;33m.\u001b[0m\u001b[0m_raise_connection_failure\u001b[0m\u001b[1;33m(\u001b[0m\u001b[0merror\u001b[0m\u001b[1;33m)\u001b[0m\u001b[1;33m\u001b[0m\u001b[1;33m\u001b[0m\u001b[0m\n\u001b[0m\u001b[0;32m    700\u001b[0m \u001b[1;33m\u001b[0m\u001b[0m\n\u001b[0;32m    701\u001b[0m     \u001b[1;32mdef\u001b[0m \u001b[0msend_message\u001b[0m\u001b[1;33m(\u001b[0m\u001b[0mself\u001b[0m\u001b[1;33m,\u001b[0m \u001b[0mmessage\u001b[0m\u001b[1;33m,\u001b[0m \u001b[0mmax_doc_size\u001b[0m\u001b[1;33m)\u001b[0m\u001b[1;33m:\u001b[0m\u001b[1;33m\u001b[0m\u001b[1;33m\u001b[0m\u001b[0m\n",
      "\u001b[1;32m~\\anaconda3\\lib\\site-packages\\pymongo\\pool.py\u001b[0m in \u001b[0;36mcommand\u001b[1;34m(self, dbname, spec, slave_ok, read_preference, codec_options, check, allowable_errors, check_keys, read_concern, write_concern, parse_write_concern_error, collation, session, client, retryable_write, publish_events, user_fields, exhaust_allowed)\u001b[0m\n\u001b[0;32m    681\u001b[0m             \u001b[0mself\u001b[0m\u001b[1;33m.\u001b[0m\u001b[0m_raise_if_not_writable\u001b[0m\u001b[1;33m(\u001b[0m\u001b[0munacknowledged\u001b[0m\u001b[1;33m)\u001b[0m\u001b[1;33m\u001b[0m\u001b[1;33m\u001b[0m\u001b[0m\n\u001b[0;32m    682\u001b[0m         \u001b[1;32mtry\u001b[0m\u001b[1;33m:\u001b[0m\u001b[1;33m\u001b[0m\u001b[1;33m\u001b[0m\u001b[0m\n\u001b[1;32m--> 683\u001b[1;33m             return command(self, dbname, spec, slave_ok,\n\u001b[0m\u001b[0;32m    684\u001b[0m                            \u001b[0mself\u001b[0m\u001b[1;33m.\u001b[0m\u001b[0mis_mongos\u001b[0m\u001b[1;33m,\u001b[0m \u001b[0mread_preference\u001b[0m\u001b[1;33m,\u001b[0m \u001b[0mcodec_options\u001b[0m\u001b[1;33m,\u001b[0m\u001b[1;33m\u001b[0m\u001b[1;33m\u001b[0m\u001b[0m\n\u001b[0;32m    685\u001b[0m                            \u001b[0msession\u001b[0m\u001b[1;33m,\u001b[0m \u001b[0mclient\u001b[0m\u001b[1;33m,\u001b[0m \u001b[0mcheck\u001b[0m\u001b[1;33m,\u001b[0m \u001b[0mallowable_errors\u001b[0m\u001b[1;33m,\u001b[0m\u001b[1;33m\u001b[0m\u001b[1;33m\u001b[0m\u001b[0m\n",
      "\u001b[1;32m~\\anaconda3\\lib\\site-packages\\pymongo\\network.py\u001b[0m in \u001b[0;36mcommand\u001b[1;34m(sock_info, dbname, spec, slave_ok, is_mongos, read_preference, codec_options, session, client, check, allowable_errors, address, check_keys, listeners, max_bson_size, read_concern, parse_write_concern_error, collation, compression_ctx, use_op_msg, unacknowledged, user_fields, exhaust_allowed)\u001b[0m\n\u001b[0;32m    118\u001b[0m         \u001b[0mflags\u001b[0m \u001b[1;33m=\u001b[0m \u001b[0m_OpMsg\u001b[0m\u001b[1;33m.\u001b[0m\u001b[0mMORE_TO_COME\u001b[0m \u001b[1;32mif\u001b[0m \u001b[0munacknowledged\u001b[0m \u001b[1;32melse\u001b[0m \u001b[1;36m0\u001b[0m\u001b[1;33m\u001b[0m\u001b[1;33m\u001b[0m\u001b[0m\n\u001b[0;32m    119\u001b[0m         \u001b[0mflags\u001b[0m \u001b[1;33m|=\u001b[0m \u001b[0m_OpMsg\u001b[0m\u001b[1;33m.\u001b[0m\u001b[0mEXHAUST_ALLOWED\u001b[0m \u001b[1;32mif\u001b[0m \u001b[0mexhaust_allowed\u001b[0m \u001b[1;32melse\u001b[0m \u001b[1;36m0\u001b[0m\u001b[1;33m\u001b[0m\u001b[1;33m\u001b[0m\u001b[0m\n\u001b[1;32m--> 120\u001b[1;33m         request_id, msg, size, max_doc_size = message._op_msg(\n\u001b[0m\u001b[0;32m    121\u001b[0m             \u001b[0mflags\u001b[0m\u001b[1;33m,\u001b[0m \u001b[0mspec\u001b[0m\u001b[1;33m,\u001b[0m \u001b[0mdbname\u001b[0m\u001b[1;33m,\u001b[0m \u001b[0mread_preference\u001b[0m\u001b[1;33m,\u001b[0m \u001b[0mslave_ok\u001b[0m\u001b[1;33m,\u001b[0m \u001b[0mcheck_keys\u001b[0m\u001b[1;33m,\u001b[0m\u001b[1;33m\u001b[0m\u001b[1;33m\u001b[0m\u001b[0m\n\u001b[0;32m    122\u001b[0m             codec_options, ctx=compression_ctx)\n",
      "\u001b[1;32m~\\anaconda3\\lib\\site-packages\\pymongo\\message.py\u001b[0m in \u001b[0;36m_op_msg\u001b[1;34m(flags, command, dbname, read_preference, slave_ok, check_keys, opts, ctx)\u001b[0m\n\u001b[0;32m    712\u001b[0m             return _op_msg_compressed(\n\u001b[0;32m    713\u001b[0m                 flags, command, identifier, docs, check_keys, opts, ctx)\n\u001b[1;32m--> 714\u001b[1;33m         return _op_msg_uncompressed(\n\u001b[0m\u001b[0;32m    715\u001b[0m             flags, command, identifier, docs, check_keys, opts)\n\u001b[0;32m    716\u001b[0m     \u001b[1;32mfinally\u001b[0m\u001b[1;33m:\u001b[0m\u001b[1;33m\u001b[0m\u001b[1;33m\u001b[0m\u001b[0m\n",
      "\u001b[1;31mInvalidDocument\u001b[0m: cannot encode object: <function mapFunction at 0x00000237404253A0>, of type: <class 'function'>"
     ]
    }
   ],
   "source": [
    "from bson.code import Code\n",
    "\n",
    "def mapFunction(): {\n",
    "   emit(this.name, this.age)\n",
    "}\n",
    "\n",
    "def reduceFunction(keyName, valueAge): {\n",
    "   print (Array.sum(valueAge))\n",
    "}\n",
    "\n",
    "request = people.map_reduce(\n",
    "   mapFunction,\n",
    "   reduceFunction,\n",
    "   \"map_reduce_example\"\n",
    ")\n",
    "\n",
    "for pp in request.find():\n",
    "    print(pp)"
   ]
  },
  {
   "cell_type": "code",
   "execution_count": null,
   "metadata": {},
   "outputs": [],
   "source": []
  }
 ],
 "metadata": {
  "kernelspec": {
   "display_name": "Python 3",
   "language": "python",
   "name": "python3"
  },
  "language_info": {
   "codemirror_mode": {
    "name": "ipython",
    "version": 3
   },
   "file_extension": ".py",
   "mimetype": "text/x-python",
   "name": "python",
   "nbconvert_exporter": "python",
   "pygments_lexer": "ipython3",
   "version": "3.8.5"
  }
 },
 "nbformat": 4,
 "nbformat_minor": 4
}
