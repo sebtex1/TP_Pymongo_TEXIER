{
 "cells": [
  {
   "cell_type": "code",
   "execution_count": 12,
   "metadata": {},
   "outputs": [
    {
     "name": "stdout",
     "output_type": "stream",
     "text": [
      "connexion success\n",
      "['Sportifs', 'Gymnases']\n",
      "Nombre de gymnases:\n",
      "28\n",
      "Nombre de sportifs:\n",
      "150\n",
      "{'_id': '566eec69662b388eba464299', 'IdGymnase': 1, 'NomGymnase': 'PAUL ELUARD', 'Adresse': '2 rue des pépines', 'Ville': 'STAINS', 'Surface': 200, 'Seances': [{'IdSportifEntraineur': 149, 'Jour': 'Samedi', 'Horaire': 9.0, 'Duree': 60, 'Libelle': 'Basket ball'}, {'IdSportifEntraineur': 1, 'Jour': 'Lundi', 'Horaire': 9.0, 'Duree': 60, 'Libelle': 'Hand ball'}, {'IdSportifEntraineur': 1, 'Jour': 'Lundi', 'Horaire': 10.0, 'Duree': 60, 'Libelle': 'Hand ball'}, {'IdSportifEntraineur': 1, 'Jour': 'Lundi', 'Horaire': 11.3, 'Duree': 60, 'Libelle': 'Hand ball'}, {'IdSportifEntraineur': 1, 'Jour': 'Lundi', 'Horaire': 14.0, 'Duree': 90, 'Libelle': 'Hand ball'}, {'IdSportifEntraineur': 1, 'Jour': 'lundi', 'Horaire': 17.3, 'Duree': 120, 'Libelle': 'Hand ball'}, {'IdSportifEntraineur': 1, 'Jour': 'Lundi', 'Horaire': 19.3, 'Duree': 120, 'Libelle': 'Hand ball'}, {'IdSportifEntraineur': 2, 'Jour': 'Dimanche', 'Horaire': 17.3, 'Duree': 120, 'Libelle': 'Hand ball'}, {'IdSportifEntraineur': 2, 'Jour': 'Dimanche', 'Horaire': 19.3, 'Duree': 120, 'Libelle': 'Hand ball'}, {'IdSportifEntraineur': 2, 'Jour': 'mardi', 'Horaire': 17.3, 'Duree': 120, 'Libelle': 'Hand ball'}, {'IdSportifEntraineur': 2, 'Jour': 'mercredi', 'Horaire': 17.3, 'Duree': 120, 'Libelle': 'Hand ball'}, {'IdSportifEntraineur': 2, 'Jour': 'Samedi', 'Horaire': 15.3, 'Duree': 60, 'Libelle': 'Hand ball'}, {'IdSportifEntraineur': 2, 'Jour': 'Samedi', 'Horaire': 16.3, 'Duree': 60, 'Libelle': 'Hand ball'}, {'IdSportifEntraineur': 2, 'Jour': 'Samedi', 'Horaire': 17.3, 'Duree': 120, 'Libelle': 'Hand ball'}, {'IdSportifEntraineur': 3, 'Jour': 'jeudi', 'Horaire': 20.0, 'Duree': 30, 'Libelle': 'Hand ball'}, {'IdSportifEntraineur': 3, 'Jour': 'lundi', 'Horaire': 14.0, 'Duree': 60, 'Libelle': 'Hand ball'}, {'IdSportifEntraineur': 3, 'Jour': 'lundi', 'Horaire': 18.0, 'Duree': 30, 'Libelle': 'Hand ball'}, {'IdSportifEntraineur': 3, 'Jour': 'lundi', 'Horaire': 19.0, 'Duree': 30, 'Libelle': 'Hand ball'}, {'IdSportifEntraineur': 3, 'Jour': 'lundi', 'Horaire': 20.0, 'Duree': 30, 'Libelle': 'Hand ball'}, {'IdSportifEntraineur': 7, 'Jour': 'mercredi', 'Horaire': 17.0, 'Duree': 90, 'Libelle': 'Hockey'}]}\n",
      "{'_id': '566eec5f662b388eba464203', 'IdSportif': 1, 'Nom': 'BOUTAHAR', 'Prenom': 'Abderahim', 'Sexe': 'm', 'Age': 30, 'Sports': {'Jouer': ['Volley ball', 'Tennis', 'Football'], 'Arbitrer': ['Basket ball', 'Volley ball', 'Hockey'], 'Entrainer': ['Basket ball', 'Volley ball', 'Hand ball', 'Hockey', 'Badmington']}}\n"
     ]
    },
    {
     "name": "stderr",
     "output_type": "stream",
     "text": [
      "<ipython-input-12-3a4576625bef>:9: DeprecationWarning: collection_names is deprecated. Use list_collection_names instead.\n",
      "  print(db.collection_names())\n",
      "<ipython-input-12-3a4576625bef>:13: DeprecationWarning: count is deprecated. Use Collection.count_documents instead.\n",
      "  print(request.count())\n",
      "<ipython-input-12-3a4576625bef>:16: DeprecationWarning: count is deprecated. Use Collection.count_documents instead.\n",
      "  print(request.count())\n"
     ]
    }
   ],
   "source": [
    "from pymongo import MongoClient\n",
    "\n",
    "client = MongoClient('mongodb://localhost:27017/')\n",
    "db = client.gym\n",
    "gymnases = db.Gymnases\n",
    "sportifs = db.Sportifs\n",
    "print('connexion success')\n",
    "\n",
    "# 1) Afficher toutes les collections de la base, Compter le nombre de documents ds chacune des collections, Afficher un document de chacune des collections ?\n",
    "\n",
    "print(\"Collections :\")\n",
    "print(db.collection_names())\n",
    "\n",
    "request = gymnases.find()\n",
    "print(\"Nombre de gymnases:\")\n",
    "print(request.count())\n",
    "request = sportifs.find()\n",
    "print(\"Nombre de sportifs:\")\n",
    "print(request.count())\n",
    "\n",
    "print(gymnases.find_one())\n",
    "print(sportifs.find_one())"
   ]
  },
  {
   "cell_type": "code",
   "execution_count": 110,
   "metadata": {},
   "outputs": [
    {
     "name": "stdout",
     "output_type": "stream",
     "text": [
      "{'_id': '566eec5f662b388eba464204', 'IdSportif': 2, 'Nom': 'KERVADEC', 'Prenom': 'Yann', 'Sexe': 'M', 'Age': 28, 'IdSportifConseiller': 1, 'Sports': {'Jouer': ['Basket ball', 'Volley ball', 'Ping pong', 'Football'], 'Arbitrer': ['Hockey', 'Football'], 'Entrainer': ['Basket ball', 'Volley ball', 'Hand ball', 'Tennis', 'Hockey', 'Badmington', 'Ping pong', 'Boxe']}}\n"
     ]
    }
   ],
   "source": [
    "# 2) On cherche le (ou les) conseiller(s) s’appelant \"KERVADEC\" ?\n",
    "\n",
    "request = sportifs.find({\"Nom\": \"KERVADEC\"})\n",
    "for pp in request:\n",
    "    print(pp)"
   ]
  },
  {
   "cell_type": "code",
   "execution_count": 26,
   "metadata": {},
   "outputs": [
    {
     "name": "stdout",
     "output_type": "stream",
     "text": [
      "{'_id': '566eec5f662b388eba464206', 'IdSportif': 4, 'Nom': 'DORLEANS', 'Prenom': 'Jean-michel', 'Sexe': 'M', 'Age': 32, 'IdSportifConseiller': 1, 'Sports': {'Jouer': ['Volley ball', 'Football'], 'Arbitrer': ['Basket ball', 'Volley ball', 'Ping pong', 'Boxe'], 'Entrainer': ['Basket ball', 'Ping pong', 'Boxe']}}\n",
      "{'_id': '566eec5f662b388eba46421d', 'IdSportif': 28, 'Nom': 'RABAHI', 'Prenom': 'Rabah', 'Sexe': 'M', 'Age': 40, 'IdSportifConseiller': 4, 'Sports': {'Jouer': ['Basket ball', 'Volley ball', 'Hand ball', 'Ping pong', 'Football']}}\n",
      "{'_id': '566eec60662b388eba46423d', 'IdSportif': 60, 'Nom': 'TIZEGHAT', 'Prenom': 'Benamar', 'Sexe': 'M', 'Age': 32, 'IdSportifConseiller': 3, 'Sports': {'Jouer': ['Hand ball', 'Tennis', 'Football'], 'Arbitrer': 'Volley ball', 'Entrainer': ['Volley ball', 'Tennis', 'Ping pong']}}\n",
      "{'_id': '566eec60662b388eba46423f', 'IdSportif': 62, 'Nom': 'BAZOUD', 'Prenom': 'Jérôme', 'Sexe': 'M', 'Age': 32, 'IdSportifConseiller': 3, 'Sports': {'Jouer': 'Football'}}\n",
      "{'_id': '566eec60662b388eba464253', 'IdSportif': 82, 'Nom': 'HOUEL', 'Prenom': 'Jean-louis', 'Sexe': 'M', 'Age': 40, 'IdSportifConseiller': 14, 'Sports': {'Jouer': 'Football'}}\n",
      "{'_id': '566eec60662b388eba464264', 'IdSportif': 99, 'Nom': 'BONE', 'Prenom': 'Guy', 'Sexe': 'M', 'Age': 32, 'Sports': {'Jouer': 'Football'}}\n"
     ]
    }
   ],
   "source": [
    "# 3) On cherche les sportifs qui ont ou bien 32 ans ou 40 ans ?\n",
    "\n",
    "request = sportifs.find({\"$or\": [{\"Age\": 32}, {\"Age\": 40}]})\n",
    "for pp in request:\n",
    "    print(pp)"
   ]
  },
  {
   "cell_type": "code",
   "execution_count": 32,
   "metadata": {},
   "outputs": [
    {
     "name": "stdout",
     "output_type": "stream",
     "text": [
      "{'_id': '566eec5f662b388eba464204', 'IdSportif': 2, 'Nom': 'KERVADEC', 'Prenom': 'Yann', 'Sexe': 'M', 'Age': 28, 'IdSportifConseiller': 1, 'Sports': {'Jouer': ['Basket ball', 'Volley ball', 'Ping pong', 'Football'], 'Arbitrer': ['Hockey', 'Football'], 'Entrainer': ['Basket ball', 'Volley ball', 'Hand ball', 'Tennis', 'Hockey', 'Badmington', 'Ping pong', 'Boxe']}}\n",
      "{'_id': '566eec5f662b388eba464207', 'IdSportif': 5, 'Nom': 'COMES', 'Prenom': 'Sylvie', 'Sexe': 'F', 'Age': 22, 'IdSportifConseiller': 1, 'Sports': {'Jouer': ['Basket ball', 'Volley ball', 'Badmington', 'Ping pong'], 'Arbitrer': 'Ping pong'}}\n",
      "{'_id': '566eec5f662b388eba464208', 'IdSportif': 6, 'Nom': 'RETALDI', 'Prenom': 'Sophie', 'Sexe': 'F', 'Age': 30, 'IdSportifConseiller': 3, 'Sports': {'Jouer': ['Basket ball', 'Volley ball', 'Hand ball', 'Ping pong'], 'Arbitrer': ['Basket ball', 'Hockey', 'Ping pong'], 'Entrainer': ['Hockey', 'Ping pong', 'Boxe']}}\n",
      "{'_id': '566eec5f662b388eba46420f', 'IdSportif': 14, 'Nom': 'CAILLIOT', 'Prenom': 'Stéphanie', 'Sexe': 'F', 'Age': 24, 'IdSportifConseiller': 1, 'Sports': {'Jouer': ['Basket ball', 'Volley ball', 'Ping pong']}}\n",
      "{'_id': '566eec5f662b388eba464215', 'IdSportif': 20, 'Nom': 'TIENER', 'Prenom': 'Thomas', 'Sexe': 'M', 'Age': 25, 'IdSportifConseiller': 2, 'Sports': {'Jouer': ['Basket ball', 'Volley ball', 'Hand ball', 'Ping pong', 'Football'], 'Arbitrer': 'Volley ball'}}\n",
      "{'_id': '566eec5f662b388eba464217', 'IdSportif': 22, 'Nom': 'LEDUFAUD', 'Prenom': 'Pierre', 'Sexe': 'M', 'Age': 25, 'IdSportifConseiller': 3, 'Sports': {'Jouer': ['Basket ball', 'Volley ball', 'Ping pong', 'Football']}}\n",
      "{'_id': '566eec5f662b388eba464219', 'IdSportif': 24, 'Nom': 'LEJEUNE', 'Prenom': 'Sylvaine', 'Sexe': 'F', 'Age': 23, 'IdSportifConseiller': 7, 'Sports': {'Jouer': ['Basket ball', 'Volley ball', 'Badmington', 'Ping pong']}}\n",
      "{'_id': '566eec5f662b388eba46421d', 'IdSportif': 28, 'Nom': 'RABAHI', 'Prenom': 'Rabah', 'Sexe': 'M', 'Age': 40, 'IdSportifConseiller': 4, 'Sports': {'Jouer': ['Basket ball', 'Volley ball', 'Hand ball', 'Ping pong', 'Football']}}\n",
      "{'_id': '566eec5f662b388eba464221', 'IdSportif': 32, 'Nom': 'VAN CAUTER', 'Prenom': 'Vincent', 'Sexe': 'M', 'Age': 23, 'IdSportifConseiller': 3, 'Sports': {'Jouer': ['Basket ball', 'Volley ball', 'Hand ball', 'Badmington', 'Ping pong', 'Football'], 'Arbitrer': 'Ping pong', 'Entrainer': 'Ping pong'}}\n",
      "{'_id': '566eec60662b388eba464224', 'IdSportif': 35, 'Nom': 'TANQUE', 'Prenom': 'Yann', 'Sexe': 'M', 'Age': 24, 'IdSportifConseiller': 4, 'Sports': {'Jouer': ['Basket ball', 'Volley ball', 'Hand ball', 'Ping pong', 'Football'], 'Arbitrer': 'Badmington', 'Entrainer': ['Badmington', 'Ping pong']}}\n",
      "{'_id': '566eec60662b388eba464225', 'IdSportif': 36, 'Nom': 'DJELOUDANE', 'Prenom': 'Zinedine', 'Sexe': 'M', 'Age': 28, 'IdSportifConseiller': 1, 'Sports': {'Jouer': ['Basket ball', 'Volley ball', 'Ping pong', 'Football'], 'Entrainer': 'Badmington'}}\n",
      "{'_id': '566eec60662b388eba464229', 'IdSportif': 40, 'Nom': 'VALIN', 'Prenom': 'Yann', 'Sexe': 'M', 'Age': 23, 'IdSportifConseiller': 2, 'Sports': {'Jouer': ['Basket ball', 'Hand ball', 'Badmington', 'Ping pong', 'Football'], 'Entrainer': ['Badmington', 'Ping pong']}}\n",
      "{'_id': '566eec60662b388eba46422d', 'IdSportif': 44, 'Nom': 'ADIBO', 'Prenom': 'Senamé', 'Sexe': 'M', 'Age': 28, 'IdSportifConseiller': 21, 'Sports': {'Jouer': ['Basket ball', 'Ping pong', 'Football']}}\n",
      "{'_id': '566eec60662b388eba464231', 'IdSportif': 48, 'Nom': 'HEDDI', 'Prenom': 'Zohra', 'Sexe': 'F', 'Age': 23, 'IdSportifConseiller': 2, 'Sports': {'Jouer': ['Basket ball', 'Badmington', 'Ping pong'], 'Entrainer': 'Badmington'}}\n",
      "{'_id': '566eec60662b388eba464232', 'IdSportif': 49, 'Nom': 'JOUVE', 'Prenom': 'Sandra', 'Sexe': 'F', 'Age': 24, 'IdSportifConseiller': 5, 'Sports': {'Jouer': ['Basket ball', 'Ping pong']}}\n",
      "{'_id': '566eec60662b388eba464233', 'IdSportif': 50, 'Nom': 'KALOMBO', 'Prenom': 'Yannick', 'Sexe': 'M', 'Age': 22, 'IdSportifConseiller': 2, 'Sports': {'Jouer': ['Basket ball', 'Badmington', 'Ping pong', 'Football'], 'Entrainer': 'Badmington'}}\n",
      "{'_id': '566eec60662b388eba464234', 'IdSportif': 51, 'Nom': 'LOPEZ', 'Prenom': 'Thibaud', 'Sexe': 'M', 'Age': 24, 'IdSportifConseiller': 5, 'Sports': {'Jouer': ['Basket ball', 'Hand ball', 'Ping pong', 'Football']}}\n",
      "{'_id': '566eec60662b388eba464235', 'IdSportif': 52, 'Nom': 'DANDOIS', 'Prenom': 'Régis', 'Sexe': 'M', 'Age': 22, 'IdSportifConseiller': 5, 'Sports': {'Jouer': ['Basket ball', 'Badmington', 'Ping pong', 'Football']}}\n",
      "{'_id': '566eec60662b388eba464236', 'IdSportif': 53, 'Nom': 'DEMMER', 'Prenom': 'Thomas', 'Sexe': 'M', 'Age': 22, 'IdSportifConseiller': 1, 'Sports': {'Jouer': ['Basket ball', 'Badmington', 'Ping pong', 'Football']}}\n",
      "{'_id': '566eec60662b388eba464239', 'IdSportif': 56, 'Nom': 'GUERRAOUI', 'Prenom': 'Zohra', 'Sexe': 'F', 'Age': 25, 'IdSportifConseiller': 1, 'Sports': {'Jouer': ['Basket ball', 'Ping pong'], 'Entrainer': 'Badmington'}}\n",
      "{'_id': '566eec60662b388eba46423b', 'IdSportif': 58, 'Nom': 'GUIGUI', 'Prenom': 'Vincent', 'Sexe': 'M', 'Age': 23, 'IdSportifConseiller': 4, 'Sports': {'Jouer': ['Basket ball', 'Badmington', 'Ping pong', 'Football'], 'Entrainer': ['Volley ball', 'Tennis']}}\n",
      "{'_id': '566eec60662b388eba46423c', 'IdSportif': 59, 'Nom': 'CLERICE', 'Prenom': 'Stéphanie', 'Sexe': 'F', 'Age': 23, 'Sports': {'Jouer': ['Basket ball', 'Badmington', 'Ping pong'], 'Arbitrer': 'Tennis', 'Entrainer': ['Volley ball', 'Tennis']}}\n",
      "{'_id': '566eec60662b388eba464240', 'IdSportif': 63, 'Nom': 'AMAND', 'Prenom': 'Patrick', 'Sexe': 'M', 'Age': 30, 'IdSportifConseiller': 1, 'Sports': {'Jouer': ['Basket ball', 'Ping pong', 'Football']}}\n",
      "{'_id': '566eec60662b388eba464246', 'IdSportif': 69, 'Nom': 'MARIE', 'Prenom': 'Paule', 'Sexe': 'F', 'Age': 25, 'IdSportifConseiller': 7, 'Sports': {'Jouer': ['Basket ball', 'Hand ball', 'Ping pong']}}\n",
      "{'_id': '566eec60662b388eba46424e', 'IdSportif': 77, 'Nom': 'HEON', 'Prenom': 'Philippe', 'Sexe': 'M', 'Age': 30, 'IdSportifConseiller': 1, 'Sports': {'Jouer': ['Basket ball', 'Ping pong', 'Football']}}\n",
      "{'_id': '566eec60662b388eba464251', 'IdSportif': 80, 'Nom': 'HOCHET', 'Prenom': 'Pierre', 'Sexe': 'M', 'Age': 30, 'IdSportifConseiller': 1, 'Sports': {'Jouer': ['Basket ball', 'Ping pong', 'Football']}}\n",
      "{'_id': '566eec60662b388eba464256', 'IdSportif': 85, 'Nom': 'HAMARD', 'Prenom': 'Romain', 'Sexe': 'M', 'Age': 30, 'IdSportifConseiller': 2, 'Sports': {'Jouer': ['Basket ball', 'Ping pong', 'Football']}}\n",
      "{'_id': '566eec60662b388eba464259', 'IdSportif': 88, 'Nom': 'LEJEUNE', 'Prenom': 'Richard', 'Sexe': 'M', 'Age': 30, 'IdSportifConseiller': 8, 'Sports': {'Jouer': ['Basket ball', 'Ping pong', 'Football']}}\n",
      "{'_id': '566eec60662b388eba46425c', 'IdSportif': 91, 'Nom': 'LECHEVALIER', 'Prenom': 'Patrick', 'Sexe': 'M', 'Age': 30, 'IdSportifConseiller': 98, 'Sports': {'Jouer': ['Basket ball', 'Ping pong', 'Football']}}\n",
      "{'_id': '566eec60662b388eba46425f', 'IdSportif': 94, 'Nom': 'LEROUX', 'Prenom': 'Paule', 'Sexe': 'M', 'Age': 36, 'IdSportifConseiller': 4, 'Sports': {'Jouer': ['Basket ball', 'Hand ball', 'Ping pong', 'Football'], 'Arbitrer': 'Basket ball'}}\n",
      "{'_id': '566eec60662b388eba464263', 'IdSportif': 98, 'Nom': 'RICHARD', 'Prenom': 'William', 'Sexe': 'M', 'Age': 30, 'IdSportifConseiller': 2, 'Sports': {'Jouer': ['Basket ball', 'Hand ball', 'Ping pong', 'Football'], 'Arbitrer': 'Basket ball'}}\n",
      "{'_id': '566eec60662b388eba46426a', 'IdSportif': 105, 'Nom': 'STILO', 'Prenom': 'Philippe', 'Sexe': 'M', 'Age': 30, 'IdSportifConseiller': 3, 'Sports': {'Jouer': ['Basket ball', 'Hand ball', 'Ping pong', 'Football'], 'Arbitrer': 'Basket ball'}}\n",
      "{'_id': '566eec60662b388eba46426d', 'IdSportif': 108, 'Nom': 'LAURENCE', 'Prenom': 'Serge', 'Sexe': 'M', 'Age': 30, 'IdSportifConseiller': 4, 'Sports': {'Jouer': ['Basket ball', 'Ping pong', 'Football']}}\n",
      "{'_id': '566eec60662b388eba46426e', 'IdSportif': 109, 'Nom': 'SAUVAGE', 'Prenom': 'Patrick', 'Sexe': 'M', 'Age': 30, 'IdSportifConseiller': 5, 'Sports': {'Jouer': ['Basket ball', 'Hand ball', 'Ping pong', 'Football']}}\n",
      "{'_id': '566eec60662b388eba464277', 'IdSportif': 118, 'Nom': 'FROMENT', 'Prenom': 'Philippe', 'Sexe': 'M', 'Age': 30, 'IdSportifConseiller': 2, 'Sports': {'Jouer': ['Basket ball', 'Ping pong', 'Football']}}\n",
      "{'_id': '566eec60662b388eba46427c', 'IdSportif': 123, 'Nom': 'LETHIMONNIER', 'Prenom': 'Victor', 'Sexe': 'M', 'Age': 30, 'IdSportifConseiller': 6, 'Sports': {'Jouer': ['Basket ball', 'Hand ball', 'Ping pong', 'Football']}}\n",
      "{'_id': '566eec60662b388eba46427e', 'IdSportif': 125, 'Nom': 'JALON', 'Prenom': 'Patrick', 'Sexe': 'M', 'Age': 30, 'IdSportifConseiller': 2, 'Sports': {'Jouer': ['Basket ball', 'Ping pong', 'Football']}}\n",
      "{'_id': '566eec60662b388eba464282', 'IdSportif': 129, 'Nom': 'DABON', 'Prenom': 'Richard', 'Sexe': 'M', 'Age': 30, 'IdSportifConseiller': 3, 'Sports': {'Jouer': ['Basket ball', 'Ping pong', 'Football']}}\n",
      "{'_id': '566eec60662b388eba464285', 'IdSportif': 132, 'Nom': 'DORON', 'Prenom': 'Yannick', 'Sexe': 'M', 'Age': 30, 'IdSportifConseiller': 1, 'Sports': {'Jouer': ['Basket ball', 'Ping pong', 'Football']}}\n",
      "{'_id': '566eec60662b388eba464296', 'IdSportif': 149, 'Nom': 'BELZ', 'Prenom': 'Sylvianne', 'Sexe': 'F', 'Age': 27, 'IdSportifConseiller': 7, 'Sports': {'Jouer': 'Basket ball', 'Arbitrer': 'Basket ball', 'Entrainer': 'Basket ball'}}\n",
      "{'_id': '566eec60662b388eba464298', 'IdSportif': 151, 'Nom': 'HENRY', 'Prenom': 'Maël', 'Sexe': 'M', 'Age': 25, 'IdSportifConseiller': 2, 'Sports': {'Jouer': ['Basket ball', 'Hand ball'], 'Arbitrer': ['Basket ball', 'Hand ball'], 'Entrainer': ['Basket ball', 'Hand ball']}}\n"
     ]
    }
   ],
   "source": [
    "# 4) On cherche les sportifs jouant au Basket-ball ?\n",
    "\n",
    "request = sportifs.find({\"Sports.Jouer\": {\"$eq\": \"Basket ball\"}})\n",
    "for pp in request:\n",
    "    print(pp)"
   ]
  },
  {
   "cell_type": "code",
   "execution_count": 40,
   "metadata": {},
   "outputs": [
    {
     "name": "stdout",
     "output_type": "stream",
     "text": [
      "{'_id': '566eec5f662b388eba464205', 'IdSportif': 3, 'Nom': 'HUE', 'Prenom': 'Pascale', 'Sexe': 'F', 'Age': 25, 'IdSportifConseiller': 1, 'Sports': {'Jouer': ['Volley ball', 'Ping pong'], 'Arbitrer': ['Volley ball', 'Badmington', 'Ping pong'], 'Entrainer': ['Basket ball', 'Volley ball', 'Hand ball', 'Badmington']}}\n",
      "{'_id': '566eec5f662b388eba464206', 'IdSportif': 4, 'Nom': 'DORLEANS', 'Prenom': 'Jean-michel', 'Sexe': 'M', 'Age': 32, 'IdSportifConseiller': 1, 'Sports': {'Jouer': ['Volley ball', 'Football'], 'Arbitrer': ['Basket ball', 'Volley ball', 'Ping pong', 'Boxe'], 'Entrainer': ['Basket ball', 'Ping pong', 'Boxe']}}\n",
      "{'_id': '566eec5f662b388eba464207', 'IdSportif': 5, 'Nom': 'COMES', 'Prenom': 'Sylvie', 'Sexe': 'F', 'Age': 22, 'IdSportifConseiller': 1, 'Sports': {'Jouer': ['Basket ball', 'Volley ball', 'Badmington', 'Ping pong'], 'Arbitrer': 'Ping pong'}}\n",
      "{'_id': '566eec5f662b388eba464208', 'IdSportif': 6, 'Nom': 'RETALDI', 'Prenom': 'Sophie', 'Sexe': 'F', 'Age': 30, 'IdSportifConseiller': 3, 'Sports': {'Jouer': ['Basket ball', 'Volley ball', 'Hand ball', 'Ping pong'], 'Arbitrer': ['Basket ball', 'Hockey', 'Ping pong'], 'Entrainer': ['Hockey', 'Ping pong', 'Boxe']}}\n",
      "{'_id': '566eec5f662b388eba46420a', 'IdSportif': 9, 'Nom': 'ANTUNES', 'Prenom': 'Gaêlle', 'Sexe': 'F', 'Age': 23, 'IdSportifConseiller': 4, 'Sports': {'Jouer': ['Volley ball', 'Tennis', 'Badmington']}}\n",
      "{'_id': '566eec5f662b388eba46420f', 'IdSportif': 14, 'Nom': 'CAILLIOT', 'Prenom': 'Stéphanie', 'Sexe': 'F', 'Age': 24, 'IdSportifConseiller': 1, 'Sports': {'Jouer': ['Basket ball', 'Volley ball', 'Ping pong']}}\n",
      "{'_id': '566eec5f662b388eba464213', 'IdSportif': 18, 'Nom': 'HOSNI', 'Prenom': 'Leila', 'Sexe': 'F', 'Age': 25, 'IdSportifConseiller': 5, 'Sports': {'Jouer': 'Volley ball'}}\n",
      "{'_id': '566eec5f662b388eba464219', 'IdSportif': 24, 'Nom': 'LEJEUNE', 'Prenom': 'Sylvaine', 'Sexe': 'F', 'Age': 23, 'IdSportifConseiller': 7, 'Sports': {'Jouer': ['Basket ball', 'Volley ball', 'Badmington', 'Ping pong']}}\n",
      "{'_id': '566eec5f662b388eba46421b', 'IdSportif': 26, 'Nom': 'MICHEL', 'Prenom': 'Frédérique', 'Sexe': 'F', 'Age': 23, 'IdSportifConseiller': 3, 'Sports': {'Jouer': ['Volley ball', 'Hand ball', 'Tennis', 'Badmington']}}\n",
      "{'_id': '566eec5f662b388eba46421d', 'IdSportif': 28, 'Nom': 'RABAHI', 'Prenom': 'Rabah', 'Sexe': 'M', 'Age': 40, 'IdSportifConseiller': 4, 'Sports': {'Jouer': ['Basket ball', 'Volley ball', 'Hand ball', 'Ping pong', 'Football']}}\n",
      "{'_id': '566eec5f662b388eba46421e', 'IdSportif': 29, 'Nom': 'ROUSSEL', 'Prenom': 'Nadège', 'Sexe': 'F', 'Age': 22, 'IdSportifConseiller': 5, 'Sports': {'Jouer': ['Volley ball', 'Hand ball', 'Badmington', 'Ping pong'], 'Arbitrer': 'Ping pong', 'Entrainer': 'Ping pong'}}\n",
      "{'_id': '566eec60662b388eba464226', 'IdSportif': 37, 'Nom': 'LAZZARI', 'Prenom': 'Magali', 'Sexe': 'F', 'Age': 25, 'IdSportifConseiller': 44, 'Sports': {'Jouer': 'Volley ball'}}\n",
      "{'_id': '566eec60662b388eba46422a', 'IdSportif': 41, 'Nom': 'DELOVINA', 'Prenom': 'Elina', 'Sexe': 'F', 'Age': 22, 'IdSportifConseiller': 7, 'Sports': {'Jouer': ['Tennis', 'Badmington']}}\n",
      "{'_id': '566eec60662b388eba46422c', 'IdSportif': 43, 'Nom': 'MATHIEU', 'Prenom': 'Denise', 'Sexe': 'F', 'Age': 23, 'IdSportifConseiller': 6, 'Sports': {'Jouer': ['Hand ball', 'Tennis', 'Badmington']}}\n",
      "{'_id': '566eec60662b388eba464230', 'IdSportif': 47, 'Nom': 'GROEN', 'Prenom': 'Céline', 'Sexe': 'F', 'Age': 25, 'IdSportifConseiller': 2, 'Sports': {'Jouer': 'Tennis'}}\n",
      "{'_id': '566eec60662b388eba464231', 'IdSportif': 48, 'Nom': 'HEDDI', 'Prenom': 'Zohra', 'Sexe': 'F', 'Age': 23, 'IdSportifConseiller': 2, 'Sports': {'Jouer': ['Basket ball', 'Badmington', 'Ping pong'], 'Entrainer': 'Badmington'}}\n",
      "{'_id': '566eec60662b388eba464232', 'IdSportif': 49, 'Nom': 'JOUVE', 'Prenom': 'Sandra', 'Sexe': 'F', 'Age': 24, 'IdSportifConseiller': 5, 'Sports': {'Jouer': ['Basket ball', 'Ping pong']}}\n",
      "{'_id': '566eec60662b388eba464239', 'IdSportif': 56, 'Nom': 'GUERRAOUI', 'Prenom': 'Zohra', 'Sexe': 'F', 'Age': 25, 'IdSportifConseiller': 1, 'Sports': {'Jouer': ['Basket ball', 'Ping pong'], 'Entrainer': 'Badmington'}}\n",
      "{'_id': '566eec60662b388eba46423c', 'IdSportif': 59, 'Nom': 'CLERICE', 'Prenom': 'Stéphanie', 'Sexe': 'F', 'Age': 23, 'Sports': {'Jouer': ['Basket ball', 'Badmington', 'Ping pong'], 'Arbitrer': 'Tennis', 'Entrainer': ['Volley ball', 'Tennis']}}\n",
      "{'_id': '566eec60662b388eba46423d', 'IdSportif': 60, 'Nom': 'TIZEGHAT', 'Prenom': 'Benamar', 'Sexe': 'M', 'Age': 32, 'IdSportifConseiller': 3, 'Sports': {'Jouer': ['Hand ball', 'Tennis', 'Football'], 'Arbitrer': 'Volley ball', 'Entrainer': ['Volley ball', 'Tennis', 'Ping pong']}}\n",
      "{'_id': '566eec60662b388eba46423f', 'IdSportif': 62, 'Nom': 'BAZOUD', 'Prenom': 'Jérôme', 'Sexe': 'M', 'Age': 32, 'IdSportifConseiller': 3, 'Sports': {'Jouer': 'Football'}}\n",
      "{'_id': '566eec60662b388eba464241', 'IdSportif': 64, 'Nom': 'LANOE', 'Prenom': 'Françoise', 'Sexe': 'F', 'Age': 30, 'IdSportifConseiller': 2, 'Sports': {'Jouer': 'Tennis'}}\n",
      "{'_id': '566eec60662b388eba464244', 'IdSportif': 67, 'Nom': 'VONTHRON', 'Prenom': 'Dominique', 'Sexe': 'F', 'Age': 26, 'IdSportifConseiller': 2, 'Sports': {'Jouer': ['Hand ball', 'Tennis']}}\n",
      "{'_id': '566eec60662b388eba464245', 'IdSportif': 68, 'Nom': 'REGNAULD', 'Prenom': 'Jeanne', 'Sexe': 'F', 'Age': 30, 'IdSportifConseiller': 2, 'Sports': {'Jouer': 'Hand ball'}}\n",
      "{'_id': '566eec60662b388eba464246', 'IdSportif': 69, 'Nom': 'MARIE', 'Prenom': 'Paule', 'Sexe': 'F', 'Age': 25, 'IdSportifConseiller': 7, 'Sports': {'Jouer': ['Basket ball', 'Hand ball', 'Ping pong']}}\n",
      "{'_id': '566eec60662b388eba46424c', 'IdSportif': 75, 'Nom': 'SARRAZIN', 'Prenom': 'Noëlle', 'Sexe': 'F', 'Age': 39, 'IdSportifConseiller': 1, 'Sports': {'Jouer': ['Hand ball', 'Ping pong']}}\n",
      "{'_id': '566eec60662b388eba46424d', 'IdSportif': 76, 'Nom': 'HALGATTE', 'Prenom': 'Claude', 'Sexe': 'F', 'Age': 30, 'IdSportifConseiller': 21, 'Sports': {'Jouer': 'Tennis'}}\n",
      "{'_id': '566eec60662b388eba464252', 'IdSportif': 81, 'Nom': 'DROULLON', 'Prenom': 'Joëlle', 'Sexe': 'F', 'Age': 30, 'IdSportifConseiller': 1}\n",
      "{'_id': '566eec60662b388eba464253', 'IdSportif': 82, 'Nom': 'HOUEL', 'Prenom': 'Jean-louis', 'Sexe': 'M', 'Age': 40, 'IdSportifConseiller': 14, 'Sports': {'Jouer': 'Football'}}\n",
      "{'_id': '566eec60662b388eba46425f', 'IdSportif': 94, 'Nom': 'LEROUX', 'Prenom': 'Paule', 'Sexe': 'M', 'Age': 36, 'IdSportifConseiller': 4, 'Sports': {'Jouer': ['Basket ball', 'Hand ball', 'Ping pong', 'Football'], 'Arbitrer': 'Basket ball'}}\n",
      "{'_id': '566eec60662b388eba464264', 'IdSportif': 99, 'Nom': 'BONE', 'Prenom': 'Guy', 'Sexe': 'M', 'Age': 32, 'Sports': {'Jouer': 'Football'}}\n",
      "{'_id': '566eec60662b388eba464269', 'IdSportif': 104, 'Nom': 'SEHIER', 'Prenom': 'Dominique', 'Sexe': 'F', 'Age': 30, 'IdSportifConseiller': 1, 'Sports': {'Jouer': ['Hand ball', 'Tennis']}}\n",
      "{'_id': '566eec60662b388eba464273', 'IdSportif': 114, 'Nom': 'MICHEL', 'Prenom': 'Danielle', 'Sexe': 'F', 'Age': 22, 'IdSportifConseiller': 5, 'Sports': {'Jouer': ['Hand ball', 'Tennis', 'Badmington']}}\n",
      "{'_id': '566eec60662b388eba464275', 'IdSportif': 116, 'Nom': 'BELUAU', 'Prenom': 'Gilberte', 'Sexe': 'F', 'Age': 30, 'IdSportifConseiller': 8}\n",
      "{'_id': '566eec60662b388eba464276', 'IdSportif': 117, 'Nom': 'FERREIRA', 'Prenom': 'Martine', 'Sexe': 'F', 'Age': 30, 'IdSportifConseiller': 2}\n",
      "{'_id': '566eec60662b388eba46427b', 'IdSportif': 122, 'Nom': 'BECQUET', 'Prenom': 'Erika', 'Sexe': 'F', 'Age': 30, 'IdSportifConseiller': 6, 'Sports': {'Jouer': 'Tennis'}}\n",
      "{'_id': '566eec60662b388eba46427d', 'IdSportif': 124, 'Nom': 'SWERTVAEGER', 'Prenom': 'Michelle', 'Sexe': 'F', 'Age': 30, 'IdSportifConseiller': 2, 'Sports': {'Jouer': 'Hand ball'}}\n",
      "{'_id': '566eec60662b388eba464284', 'IdSportif': 131, 'Nom': 'GALLOIS', 'Prenom': 'Michelle', 'Sexe': 'F', 'Age': 30, 'IdSportifConseiller': 2}\n",
      "{'_id': '566eec60662b388eba464289', 'IdSportif': 136, 'Nom': 'LABOULAIS', 'Prenom': 'Chloé', 'Sexe': 'F', 'Age': 26, 'IdSportifConseiller': 2, 'Sports': {'Jouer': 'Tennis'}}\n",
      "{'_id': '566eec60662b388eba46428a', 'IdSportif': 137, 'Nom': 'DUDOUIT', 'Prenom': 'Chloé', 'Sexe': 'F', 'Age': 26, 'IdSportifConseiller': 2, 'Sports': {'Jouer': 'Tennis'}}\n",
      "{'_id': '566eec60662b388eba46428b', 'IdSportif': 138, 'Nom': 'MADELAINE', 'Prenom': 'Chloé', 'Sexe': 'F', 'Age': 26, 'IdSportifConseiller': 1, 'Sports': {'Jouer': ['Hand ball', 'Tennis']}}\n",
      "{'_id': '566eec60662b388eba46428c', 'IdSportif': 139, 'Nom': 'BESNARD', 'Prenom': 'Chloé', 'Sexe': 'F', 'Age': 26, 'IdSportifConseiller': 4, 'Sports': {'Jouer': 'Tennis'}}\n",
      "{'_id': '566eec60662b388eba46428d', 'IdSportif': 140, 'Nom': 'BELZ', 'Prenom': 'Chloé', 'Sexe': 'F', 'Age': 26, 'IdSportifConseiller': 7, 'Sports': {'Jouer': 'Tennis'}}\n",
      "{'_id': '566eec60662b388eba46428e', 'IdSportif': 141, 'Nom': 'BONNET', 'Prenom': 'Chloé', 'Sexe': 'F', 'Age': 26, 'IdSportifConseiller': 5, 'Sports': {'Jouer': 'Tennis'}}\n",
      "{'_id': '566eec60662b388eba46428f', 'IdSportif': 142, 'Nom': 'CORNET', 'Prenom': 'Chloé', 'Sexe': 'F', 'Age': 26, 'IdSportifConseiller': 1, 'Sports': {'Jouer': 'Tennis'}}\n",
      "{'_id': '566eec60662b388eba464290', 'IdSportif': 143, 'Nom': 'BEUZELIN', 'Prenom': 'Chloé', 'Sexe': 'F', 'Age': 26, 'IdSportifConseiller': 5, 'Sports': {'Jouer': 'Tennis'}}\n",
      "{'_id': '566eec60662b388eba464291', 'IdSportif': 144, 'Nom': 'GRANDIDIER', 'Prenom': 'Chloé', 'Sexe': 'F', 'Age': 26, 'IdSportifConseiller': 2, 'Sports': {'Jouer': 'Tennis'}}\n",
      "{'_id': '566eec60662b388eba464292', 'IdSportif': 145, 'Nom': 'LENEVEU', 'Prenom': 'Marie', 'Sexe': 'F', 'Age': 25, 'IdSportifConseiller': 2}\n",
      "{'_id': '566eec60662b388eba464294', 'IdSportif': 147, 'Nom': 'CLERICE', 'Prenom': 'Alice', 'Sexe': 'F', 'Age': 25, 'IdSportifConseiller': 2}\n",
      "{'_id': '566eec60662b388eba464295', 'IdSportif': 148, 'Nom': 'COMES', 'Prenom': 'Marie', 'Sexe': 'F', 'Age': 27, 'IdSportifConseiller': 1}\n",
      "{'_id': '566eec60662b388eba464296', 'IdSportif': 149, 'Nom': 'BELZ', 'Prenom': 'Sylvianne', 'Sexe': 'F', 'Age': 27, 'IdSportifConseiller': 7, 'Sports': {'Jouer': 'Basket ball', 'Arbitrer': 'Basket ball', 'Entrainer': 'Basket ball'}}\n"
     ]
    }
   ],
   "source": [
    "# 5) On cherche les sportifs ayant au moins 32 ans, ou de sexe féminin ?\n",
    "\n",
    "request = sportifs.find({\"$or\": [{\"Age\": {\"$gte\": 32}}, {\"Sexe\": \"F\"}]})\n",
    "for pp in request:\n",
    "    print(pp)"
   ]
  },
  {
   "cell_type": "code",
   "execution_count": 41,
   "metadata": {},
   "outputs": [
    {
     "name": "stdout",
     "output_type": "stream",
     "text": [
      "44\n"
     ]
    },
    {
     "name": "stderr",
     "output_type": "stream",
     "text": [
      "<ipython-input-41-56337495c815>:4: DeprecationWarning: count is deprecated. Use Collection.count_documents instead.\n",
      "  print(request.count())\n"
     ]
    }
   ],
   "source": [
    "# 6) Trouver le nombre de sportifs de sexe féminin dans la base ?\n",
    "\n",
    "request = sportifs.find({\"Sexe\": \"F\"})\n",
    "print(request.count())"
   ]
  },
  {
   "cell_type": "code",
   "execution_count": 45,
   "metadata": {},
   "outputs": [
    {
     "name": "stdout",
     "output_type": "stream",
     "text": [
      "{'_id': '566eec5f662b388eba464203', 'Nom': 'BOUTAHAR', 'Prenom': 'Abderahim'}\n",
      "{'_id': '566eec5f662b388eba464204', 'Nom': 'KERVADEC', 'Prenom': 'Yann'}\n",
      "{'_id': '566eec5f662b388eba464205', 'Nom': 'HUE', 'Prenom': 'Pascale'}\n",
      "{'_id': '566eec5f662b388eba464207', 'Nom': 'COMES', 'Prenom': 'Sylvie'}\n",
      "{'_id': '566eec5f662b388eba464208', 'Nom': 'RETALDI', 'Prenom': 'Sophie'}\n",
      "{'_id': '566eec5f662b388eba464209', 'Nom': 'GOMEZ', 'Prenom': 'Diego'}\n",
      "{'_id': '566eec5f662b388eba46420a', 'Nom': 'ANTUNES', 'Prenom': 'Gaêlle'}\n",
      "{'_id': '566eec5f662b388eba46420b', 'Nom': 'BLANDET', 'Prenom': 'Arnaud'}\n",
      "{'_id': '566eec5f662b388eba46420c', 'Nom': 'BONNET', 'Prenom': 'Christophe'}\n",
      "{'_id': '566eec5f662b388eba46420d', 'Nom': 'BORREL', 'Prenom': 'Benoît'}\n",
      "{'_id': '566eec5f662b388eba46420e', 'Nom': 'BOYON', 'Prenom': 'Julien'}\n",
      "{'_id': '566eec5f662b388eba46420f', 'Nom': 'CAILLIOT', 'Prenom': 'Stéphanie'}\n",
      "{'_id': '566eec5f662b388eba464210', 'Nom': 'CHAMPENOIS', 'Prenom': 'Cédric'}\n",
      "{'_id': '566eec5f662b388eba464211', 'Nom': 'COLAS', 'Prenom': 'Michaël'}\n",
      "{'_id': '566eec5f662b388eba464212', 'Nom': 'COLOMB', 'Prenom': 'Michaël'}\n",
      "{'_id': '566eec5f662b388eba464213', 'Nom': 'HOSNI', 'Prenom': 'Leila'}\n",
      "{'_id': '566eec5f662b388eba464214', 'Nom': 'TESTEMONT', 'Prenom': 'Laurent'}\n",
      "{'_id': '566eec5f662b388eba464215', 'Nom': 'TIENER', 'Prenom': 'Thomas'}\n",
      "{'_id': '566eec5f662b388eba464216', 'Nom': 'LE BOUCHER', 'Prenom': 'Denis'}\n",
      "{'_id': '566eec5f662b388eba464217', 'Nom': 'LEDUFAUD', 'Prenom': 'Pierre'}\n",
      "{'_id': '566eec5f662b388eba464218', 'Nom': 'LEGRAND', 'Prenom': 'David'}\n",
      "{'_id': '566eec5f662b388eba464219', 'Nom': 'LEJEUNE', 'Prenom': 'Sylvaine'}\n",
      "{'_id': '566eec5f662b388eba46421a', 'Nom': 'MARTORA', 'Prenom': 'Fabrice'}\n",
      "{'_id': '566eec5f662b388eba46421b', 'Nom': 'MICHEL', 'Prenom': 'Frédérique'}\n",
      "{'_id': '566eec5f662b388eba46421c', 'Nom': 'NIELLEZ', 'Prenom': 'Christophe'}\n",
      "{'_id': '566eec5f662b388eba46421e', 'Nom': 'ROUSSEL', 'Prenom': 'Nadège'}\n",
      "{'_id': '566eec5f662b388eba46421f', 'Nom': 'SCHINK', 'Prenom': 'Nicolas'}\n",
      "{'_id': '566eec5f662b388eba464220', 'Nom': 'STEMPUT', 'Prenom': 'Mathieu'}\n",
      "{'_id': '566eec5f662b388eba464221', 'Nom': 'VAN CAUTER', 'Prenom': 'Vincent'}\n",
      "{'_id': '566eec60662b388eba464222', 'Nom': 'RAMPNOUX', 'Prenom': 'Jean françois'}\n",
      "{'_id': '566eec60662b388eba464223', 'Nom': 'LHERPINIERE', 'Prenom': 'Olivier'}\n",
      "{'_id': '566eec60662b388eba464224', 'Nom': 'TANQUE', 'Prenom': 'Yann'}\n",
      "{'_id': '566eec60662b388eba464225', 'Nom': 'DJELOUDANE', 'Prenom': 'Zinedine'}\n",
      "{'_id': '566eec60662b388eba464226', 'Nom': 'LAZZARI', 'Prenom': 'Magali'}\n",
      "{'_id': '566eec60662b388eba464227', 'Nom': 'VASSEMON', 'Prenom': 'Laurent'}\n",
      "{'_id': '566eec60662b388eba464228', 'Nom': 'MOREL', 'Prenom': 'Mathieu'}\n",
      "{'_id': '566eec60662b388eba464229', 'Nom': 'VALIN', 'Prenom': 'Yann'}\n",
      "{'_id': '566eec60662b388eba46422a', 'Nom': 'DELOVINA', 'Prenom': 'Elina'}\n",
      "{'_id': '566eec60662b388eba46422b', 'Nom': 'LEHOUX', 'Prenom': 'Bruno'}\n",
      "{'_id': '566eec60662b388eba46422c', 'Nom': 'MATHIEU', 'Prenom': 'Denise'}\n",
      "{'_id': '566eec60662b388eba46422d', 'Nom': 'ADIBO', 'Prenom': 'Senamé'}\n",
      "{'_id': '566eec60662b388eba46422e', 'Nom': 'CHAVANT', 'Prenom': 'Christophe'}\n",
      "{'_id': '566eec60662b388eba46422f', 'Nom': 'DAUXIAN', 'Prenom': 'Cédric'}\n",
      "{'_id': '566eec60662b388eba464230', 'Nom': 'GROEN', 'Prenom': 'Céline'}\n",
      "{'_id': '566eec60662b388eba464231', 'Nom': 'HEDDI', 'Prenom': 'Zohra'}\n",
      "{'_id': '566eec60662b388eba464232', 'Nom': 'JOUVE', 'Prenom': 'Sandra'}\n",
      "{'_id': '566eec60662b388eba464233', 'Nom': 'KALOMBO', 'Prenom': 'Yannick'}\n",
      "{'_id': '566eec60662b388eba464234', 'Nom': 'LOPEZ', 'Prenom': 'Thibaud'}\n",
      "{'_id': '566eec60662b388eba464235', 'Nom': 'DANDOIS', 'Prenom': 'Régis'}\n",
      "{'_id': '566eec60662b388eba464236', 'Nom': 'DEMMER', 'Prenom': 'Thomas'}\n",
      "{'_id': '566eec60662b388eba464237', 'Nom': 'ELKABBADJ', 'Prenom': 'Mohammed'}\n",
      "{'_id': '566eec60662b388eba464238', 'Nom': 'FEROLDI', 'Prenom': 'Olivier'}\n",
      "{'_id': '566eec60662b388eba464239', 'Nom': 'GUERRAOUI', 'Prenom': 'Zohra'}\n",
      "{'_id': '566eec60662b388eba46423a', 'Nom': 'BOISSEAU', 'Prenom': 'Eric'}\n",
      "{'_id': '566eec60662b388eba46423b', 'Nom': 'GUIGUI', 'Prenom': 'Vincent'}\n",
      "{'_id': '566eec60662b388eba46423c', 'Nom': 'CLERICE', 'Prenom': 'Stéphanie'}\n",
      "{'_id': '566eec60662b388eba46423e', 'Nom': 'LAZARRE', 'Prenom': 'Jean'}\n",
      "{'_id': '566eec60662b388eba464240', 'Nom': 'AMAND', 'Prenom': 'Patrick'}\n",
      "{'_id': '566eec60662b388eba464241', 'Nom': 'LANOE', 'Prenom': 'Françoise'}\n",
      "{'_id': '566eec60662b388eba464242', 'Nom': 'CHESNIER', 'Prenom': 'Marc'}\n",
      "{'_id': '566eec60662b388eba464243', 'Nom': 'DURIEU', 'Prenom': 'Loïc'}\n",
      "{'_id': '566eec60662b388eba464244', 'Nom': 'VONTHRON', 'Prenom': 'Dominique'}\n",
      "{'_id': '566eec60662b388eba464245', 'Nom': 'REGNAULD', 'Prenom': 'Jeanne'}\n",
      "{'_id': '566eec60662b388eba464246', 'Nom': 'MARIE', 'Prenom': 'Paule'}\n",
      "{'_id': '566eec60662b388eba464247', 'Nom': 'BELLAMY', 'Prenom': 'Norbert'}\n",
      "{'_id': '566eec60662b388eba464248', 'Nom': 'DELAROCHE', 'Prenom': 'Bertrand'}\n",
      "{'_id': '566eec60662b388eba464249', 'Nom': 'MARTEL', 'Prenom': 'Bernard'}\n",
      "{'_id': '566eec60662b388eba46424a', 'Nom': 'DALLIER', 'Prenom': 'Didier'}\n",
      "{'_id': '566eec60662b388eba46424b', 'Nom': 'AUVRAY', 'Prenom': 'Alain'}\n",
      "{'_id': '566eec60662b388eba46424d', 'Nom': 'HALGATTE', 'Prenom': 'Claude'}\n",
      "{'_id': '566eec60662b388eba46424e', 'Nom': 'HEON', 'Prenom': 'Philippe'}\n",
      "{'_id': '566eec60662b388eba46424f', 'Nom': 'CHAUVIN', 'Prenom': 'Julien'}\n",
      "{'_id': '566eec60662b388eba464250', 'Nom': 'HENRY', 'Prenom': 'Jacky'}\n",
      "{'_id': '566eec60662b388eba464251', 'Nom': 'HOCHET', 'Prenom': 'Pierre'}\n",
      "{'_id': '566eec60662b388eba464252', 'Nom': 'DROULLON', 'Prenom': 'Joëlle'}\n",
      "{'_id': '566eec60662b388eba464254', 'Nom': 'LEROUX', 'Prenom': 'André'}\n",
      "{'_id': '566eec60662b388eba464255', 'Nom': 'SALLAÏ', 'Prenom': 'Miloud'}\n",
      "{'_id': '566eec60662b388eba464256', 'Nom': 'HAMARD', 'Prenom': 'Romain'}\n",
      "{'_id': '566eec60662b388eba464257', 'Nom': 'GALLOT', 'Prenom': 'Bernard'}\n",
      "{'_id': '566eec60662b388eba464258', 'Nom': 'COUESBOT', 'Prenom': 'Daniel'}\n",
      "{'_id': '566eec60662b388eba464259', 'Nom': 'LEJEUNE', 'Prenom': 'Richard'}\n",
      "{'_id': '566eec60662b388eba46425a', 'Nom': 'RIQUIER', 'Prenom': 'Jean-pierre'}\n",
      "{'_id': '566eec60662b388eba46425b', 'Nom': 'DUREL', 'Prenom': 'Eric'}\n",
      "{'_id': '566eec60662b388eba46425c', 'Nom': 'LECHEVALIER', 'Prenom': 'Patrick'}\n",
      "{'_id': '566eec60662b388eba46425d', 'Nom': 'HERVIEU', 'Prenom': 'Jean-François'}\n",
      "{'_id': '566eec60662b388eba46425e', 'Nom': 'CAUCHARD', 'Prenom': 'Georges'}\n",
      "{'_id': '566eec60662b388eba464260', 'Nom': 'EUSTACHE', 'Prenom': 'Marcel'}\n",
      "{'_id': '566eec60662b388eba464261', 'Nom': 'JANY', 'Prenom': 'Claude'}\n",
      "{'_id': '566eec60662b388eba464262', 'Nom': 'BONHOMME', 'Prenom': 'Bruno'}\n",
      "{'_id': '566eec60662b388eba464263', 'Nom': 'RICHARD', 'Prenom': 'William'}\n",
      "{'_id': '566eec60662b388eba464265', 'Nom': 'LESOIF', 'Prenom': 'Jacques'}\n",
      "{'_id': '566eec60662b388eba464266', 'Nom': 'SWERTVAEGER', 'Prenom': 'Eric'}\n",
      "{'_id': '566eec60662b388eba464267', 'Nom': 'DUVAL', 'Prenom': 'Alain'}\n",
      "{'_id': '566eec60662b388eba464268', 'Nom': 'LEMENOREL', 'Prenom': 'Claude'}\n",
      "{'_id': '566eec60662b388eba464269', 'Nom': 'SEHIER', 'Prenom': 'Dominique'}\n",
      "{'_id': '566eec60662b388eba46426a', 'Nom': 'STILO', 'Prenom': 'Philippe'}\n",
      "{'_id': '566eec60662b388eba46426b', 'Nom': 'LE BANNARD', 'Prenom': 'Gérard'}\n",
      "{'_id': '566eec60662b388eba46426c', 'Nom': 'BORNE', 'Prenom': 'Jean-Yves'}\n",
      "{'_id': '566eec60662b388eba46426d', 'Nom': 'LAURENCE', 'Prenom': 'Serge'}\n",
      "{'_id': '566eec60662b388eba46426e', 'Nom': 'SAUVAGE', 'Prenom': 'Patrick'}\n",
      "{'_id': '566eec60662b388eba46426f', 'Nom': 'ROULLAND', 'Prenom': 'Christian'}\n",
      "{'_id': '566eec60662b388eba464270', 'Nom': 'LESIEUR', 'Prenom': 'Michel'}\n",
      "{'_id': '566eec60662b388eba464271', 'Nom': 'LUYCKX', 'Prenom': 'Gérard'}\n",
      "{'_id': '566eec60662b388eba464272', 'Nom': 'AVICE', 'Prenom': 'Benoît'}\n",
      "{'_id': '566eec60662b388eba464273', 'Nom': 'MICHEL', 'Prenom': 'Danielle'}\n",
      "{'_id': '566eec60662b388eba464274', 'Nom': 'LEMOUSSU', 'Prenom': 'Laurent'}\n",
      "{'_id': '566eec60662b388eba464275', 'Nom': 'BELUAU', 'Prenom': 'Gilberte'}\n",
      "{'_id': '566eec60662b388eba464276', 'Nom': 'FERREIRA', 'Prenom': 'Martine'}\n",
      "{'_id': '566eec60662b388eba464277', 'Nom': 'FROMENT', 'Prenom': 'Philippe'}\n",
      "{'_id': '566eec60662b388eba464278', 'Nom': 'GUITON', 'Prenom': 'Jean-paul'}\n",
      "{'_id': '566eec60662b388eba464279', 'Nom': 'LECOMTE', 'Prenom': 'Christian'}\n",
      "{'_id': '566eec60662b388eba46427a', 'Nom': 'HUET', 'Prenom': 'Loïc'}\n",
      "{'_id': '566eec60662b388eba46427b', 'Nom': 'BECQUET', 'Prenom': 'Erika'}\n",
      "{'_id': '566eec60662b388eba46427c', 'Nom': 'LETHIMONNIER', 'Prenom': 'Victor'}\n",
      "{'_id': '566eec60662b388eba46427d', 'Nom': 'SWERTVAEGER', 'Prenom': 'Michelle'}\n",
      "{'_id': '566eec60662b388eba46427e', 'Nom': 'JALON', 'Prenom': 'Patrick'}\n",
      "{'_id': '566eec60662b388eba46427f', 'Nom': 'DEBOUT', 'Prenom': 'Eric'}\n",
      "{'_id': '566eec60662b388eba464280', 'Nom': 'GASTELLIER', 'Prenom': 'Charles'}\n",
      "{'_id': '566eec60662b388eba464281', 'Nom': 'GIRONIE', 'Prenom': 'André'}\n",
      "{'_id': '566eec60662b388eba464282', 'Nom': 'DABON', 'Prenom': 'Richard'}\n",
      "{'_id': '566eec60662b388eba464283', 'Nom': 'LECHAUVE', 'Prenom': 'Jean-Claude'}\n",
      "{'_id': '566eec60662b388eba464284', 'Nom': 'GALLOIS', 'Prenom': 'Michelle'}\n",
      "{'_id': '566eec60662b388eba464285', 'Nom': 'DORON', 'Prenom': 'Yannick'}\n",
      "{'_id': '566eec60662b388eba464286', 'Nom': 'LENEVEU', 'Prenom': 'Julien'}\n",
      "{'_id': '566eec60662b388eba464287', 'Nom': 'LERICHE', 'Prenom': 'Harry'}\n",
      "{'_id': '566eec60662b388eba464288', 'Nom': 'MANCEL', 'Prenom': 'Jean-luc'}\n",
      "{'_id': '566eec60662b388eba464289', 'Nom': 'LABOULAIS', 'Prenom': 'Chloé'}\n",
      "{'_id': '566eec60662b388eba46428a', 'Nom': 'DUDOUIT', 'Prenom': 'Chloé'}\n",
      "{'_id': '566eec60662b388eba46428b', 'Nom': 'MADELAINE', 'Prenom': 'Chloé'}\n",
      "{'_id': '566eec60662b388eba46428c', 'Nom': 'BESNARD', 'Prenom': 'Chloé'}\n",
      "{'_id': '566eec60662b388eba46428d', 'Nom': 'BELZ', 'Prenom': 'Chloé'}\n",
      "{'_id': '566eec60662b388eba46428e', 'Nom': 'BONNET', 'Prenom': 'Chloé'}\n",
      "{'_id': '566eec60662b388eba46428f', 'Nom': 'CORNET', 'Prenom': 'Chloé'}\n",
      "{'_id': '566eec60662b388eba464290', 'Nom': 'BEUZELIN', 'Prenom': 'Chloé'}\n",
      "{'_id': '566eec60662b388eba464291', 'Nom': 'GRANDIDIER', 'Prenom': 'Chloé'}\n",
      "{'_id': '566eec60662b388eba464292', 'Nom': 'LENEVEU', 'Prenom': 'Marie'}\n",
      "{'_id': '566eec60662b388eba464293', 'Nom': 'DABON', 'Prenom': 'Rick'}\n",
      "{'_id': '566eec60662b388eba464294', 'Nom': 'CLERICE', 'Prenom': 'Alice'}\n",
      "{'_id': '566eec60662b388eba464295', 'Nom': 'COMES', 'Prenom': 'Marie'}\n",
      "{'_id': '566eec60662b388eba464296', 'Nom': 'BELZ', 'Prenom': 'Sylvianne'}\n",
      "{'_id': '566eec60662b388eba464297', 'Nom': 'BELZ', 'Prenom': 'Paul'}\n",
      "{'_id': '566eec60662b388eba464298', 'Nom': 'HENRY', 'Prenom': 'Maël'}\n"
     ]
    }
   ],
   "source": [
    "# 7) Quels sont les sportifs (identifiant, nom et prénom) qui ont entre 20 et 30 ans ?\n",
    "\n",
    "request = sportifs.find({\"Age\": {\"$gte\": 20, \"$lte\": 30}}, {\"IdSportif\": 0, \"Sexe\": 0, \"Age\": 0, \"IdSportifConseiller\": 0, \"Sports\": 0})\n",
    "for pp in request:\n",
    "    print(pp)"
   ]
  },
  {
   "cell_type": "code",
   "execution_count": 47,
   "metadata": {},
   "outputs": [
    {
     "name": "stdout",
     "output_type": "stream",
     "text": [
      "{'_id': '566eec5f662b388eba464208', 'Nom': 'RETALDI'}\n",
      "{'_id': '566eec5f662b388eba464214', 'Nom': 'TESTEMONT'}\n",
      "{'_id': '566eec5f662b388eba464215', 'Nom': 'TIENER'}\n",
      "{'_id': '566eec5f662b388eba46421a', 'Nom': 'MARTORA'}\n",
      "{'_id': '566eec5f662b388eba46421b', 'Nom': 'MICHEL'}\n",
      "{'_id': '566eec5f662b388eba46421c', 'Nom': 'NIELLEZ'}\n",
      "{'_id': '566eec5f662b388eba46421d', 'Nom': 'RABAHI'}\n",
      "{'_id': '566eec5f662b388eba46421e', 'Nom': 'ROUSSEL'}\n",
      "{'_id': '566eec5f662b388eba46421f', 'Nom': 'SCHINK'}\n",
      "{'_id': '566eec5f662b388eba464220', 'Nom': 'STEMPUT'}\n",
      "{'_id': '566eec5f662b388eba464221', 'Nom': 'VAN CAUTER'}\n",
      "{'_id': '566eec60662b388eba464222', 'Nom': 'RAMPNOUX'}\n",
      "{'_id': '566eec60662b388eba464223', 'Nom': 'LHERPINIERE'}\n",
      "{'_id': '566eec60662b388eba464224', 'Nom': 'TANQUE'}\n",
      "{'_id': '566eec60662b388eba464227', 'Nom': 'VASSEMON'}\n",
      "{'_id': '566eec60662b388eba464228', 'Nom': 'MOREL'}\n",
      "{'_id': '566eec60662b388eba464229', 'Nom': 'VALIN'}\n",
      "{'_id': '566eec60662b388eba46422c', 'Nom': 'MATHIEU'}\n",
      "{'_id': '566eec60662b388eba464234', 'Nom': 'LOPEZ'}\n",
      "{'_id': '566eec60662b388eba46423d', 'Nom': 'TIZEGHAT'}\n",
      "{'_id': '566eec60662b388eba464244', 'Nom': 'VONTHRON'}\n",
      "{'_id': '566eec60662b388eba464245', 'Nom': 'REGNAULD'}\n",
      "{'_id': '566eec60662b388eba464246', 'Nom': 'MARIE'}\n",
      "{'_id': '566eec60662b388eba464249', 'Nom': 'MARTEL'}\n",
      "{'_id': '566eec60662b388eba46424c', 'Nom': 'SARRAZIN'}\n",
      "{'_id': '566eec60662b388eba464254', 'Nom': 'LEROUX'}\n",
      "{'_id': '566eec60662b388eba464255', 'Nom': 'SALLAÏ'}\n",
      "{'_id': '566eec60662b388eba46425a', 'Nom': 'RIQUIER'}\n",
      "{'_id': '566eec60662b388eba46425f', 'Nom': 'LEROUX'}\n",
      "{'_id': '566eec60662b388eba464263', 'Nom': 'RICHARD'}\n",
      "{'_id': '566eec60662b388eba464265', 'Nom': 'LESOIF'}\n",
      "{'_id': '566eec60662b388eba464266', 'Nom': 'SWERTVAEGER'}\n",
      "{'_id': '566eec60662b388eba464269', 'Nom': 'SEHIER'}\n",
      "{'_id': '566eec60662b388eba46426a', 'Nom': 'STILO'}\n",
      "{'_id': '566eec60662b388eba46426e', 'Nom': 'SAUVAGE'}\n",
      "{'_id': '566eec60662b388eba46426f', 'Nom': 'ROULLAND'}\n",
      "{'_id': '566eec60662b388eba464270', 'Nom': 'LESIEUR'}\n",
      "{'_id': '566eec60662b388eba464271', 'Nom': 'LUYCKX'}\n",
      "{'_id': '566eec60662b388eba464273', 'Nom': 'MICHEL'}\n",
      "{'_id': '566eec60662b388eba46427c', 'Nom': 'LETHIMONNIER'}\n",
      "{'_id': '566eec60662b388eba46427d', 'Nom': 'SWERTVAEGER'}\n",
      "{'_id': '566eec60662b388eba464288', 'Nom': 'MANCEL'}\n",
      "{'_id': '566eec60662b388eba46428b', 'Nom': 'MADELAINE'}\n",
      "{'_id': '566eec60662b388eba464298', 'Nom': 'HENRY'}\n"
     ]
    }
   ],
   "source": [
    "# 8) Quels sont les sportifs (identifiant et nom) qui pratiquent du hand ball ?\n",
    "\n",
    "request = sportifs.find({\"Sports.Jouer\": {\"$eq\": \"Hand ball\"}}, {\"IdSportif\": 0, \"Prenom\": 0, \"Sexe\": 0, \"Age\": 0, \"IdSportifConseiller\": 0, \"Sports\": 0})\n",
    "for pp in request:\n",
    "    print(pp)"
   ]
  },
  {
   "cell_type": "code",
   "execution_count": 50,
   "metadata": {},
   "outputs": [
    {
     "name": "stdout",
     "output_type": "stream",
     "text": [
      "{'_id': '566eec69662b388eba46429c', 'IdGymnase': 4, 'NomGymnase': 'PAUL ELUARD', 'Adresse': 'Allée J.B. Lulli', 'Ville': 'SARCELLES', 'Surface': 500, 'Seances': [{'IdSportifEntraineur': 149, 'Jour': 'Vendredi', 'Horaire': 10.0, 'Duree': 30, 'Libelle': 'Basket ball'}, {'IdSportifEntraineur': 6, 'Jour': 'mercredi', 'Horaire': 19.0, 'Duree': 60, 'Libelle': 'Hockey'}]}\n",
      "{'_id': '566eec69662b388eba46429d', 'IdGymnase': 5, 'NomGymnase': 'BRASSENS', 'Adresse': '153 square Loliot', 'Ville': 'SARCELLES', 'Surface': 620, 'Seances': [{'IdSportifEntraineur': 57, 'Jour': 'lundi', 'Horaire': 16.3, 'Duree': 90, 'Libelle': 'Volley ball'}, {'IdSportifEntraineur': 6, 'Jour': 'jeudi', 'Horaire': 19.0, 'Duree': 60, 'Libelle': 'Hockey'}]}\n",
      "{'_id': '566eec69662b388eba4642a1', 'IdGymnase': 9, 'NomGymnase': 'CAMUS', 'Adresse': '3 esplanade des quatrans', 'Ville': 'SARCELLES', 'Surface': 620, 'Seances': [{'IdSportifEntraineur': 6, 'Jour': 'samedi', 'Horaire': 19.0, 'Duree': 60, 'Libelle': 'Hockey'}]}\n",
      "{'_id': '566eec69662b388eba4642a8', 'IdGymnase': 16, 'NomGymnase': 'SAMOURAI', 'Adresse': '4 Allée des pendules', 'Ville': 'SARCELLES', 'Surface': 600, 'Seances': [{'IdSportifEntraineur': 57, 'Jour': 'lundi', 'Horaire': 16.3, 'Duree': 90, 'Libelle': 'Volley ball'}, {'IdSportifEntraineur': 60, 'Jour': 'Lundi', 'Horaire': 17.0, 'Duree': 60, 'Libelle': 'Volley ball'}, {'IdSportifEntraineur': 60, 'Jour': 'Lundi', 'Horaire': 18.0, 'Duree': 60, 'Libelle': 'Volley ball'}, {'IdSportifEntraineur': 60, 'Jour': 'lundi', 'Horaire': 19.0, 'Duree': 60, 'Libelle': 'Volley ball'}, {'IdSportifEntraineur': 60, 'Jour': 'Lundi', 'Horaire': 20.0, 'Duree': 60, 'Libelle': 'Volley ball'}, {'IdSportifEntraineur': 6, 'Jour': 'mercredi', 'Horaire': 19.0, 'Duree': 60, 'Libelle': 'Hockey'}]}\n",
      "{'_id': '566eec69662b388eba4642b1', 'IdGymnase': 25, 'NomGymnase': 'DOLTO', 'Adresse': '3 square Plaisir', 'Ville': 'VILLETANEUSE', 'Surface': 620, 'Seances': [{'IdSportifEntraineur': 149, 'Jour': 'Dimanche', 'Horaire': 18.0, 'Duree': 60, 'Libelle': 'Basket ball'}]}\n",
      "{'_id': '566eec69662b388eba4642b2', 'IdGymnase': 26, 'NomGymnase': 'MERMOZ', 'Adresse': '41 rue des ponts', 'Ville': 'VILLETANEUSE', 'Surface': 600}\n"
     ]
    }
   ],
   "source": [
    "# 9)Quels sont les gymnases de “Villetaneuse” ou de “Sarcelles” qui ont une surface de plus de 400 m2 ?\n",
    "\n",
    "request = gymnases.find({\"$or\": [{\"Ville\": \"VILLETANEUSE\"}, {\"Ville\": \"SARCELLES\"}], \"Surface\": {\"$gt\": 400}})\n",
    "for gym in request:\n",
    "    print(gym)"
   ]
  },
  {
   "cell_type": "code",
   "execution_count": 62,
   "metadata": {},
   "outputs": [
    {
     "name": "stdout",
     "output_type": "stream",
     "text": [
      "{'_id': '566eec69662b388eba464299', 'IdGymnase': 1, 'NomGymnase': 'PAUL ELUARD', 'Adresse': '2 rue des pépines', 'Ville': 'STAINS', 'Surface': 200, 'Seances': [{'IdSportifEntraineur': 149, 'Jour': 'Samedi', 'Horaire': 9.0, 'Duree': 60, 'Libelle': 'Basket ball'}, {'IdSportifEntraineur': 1, 'Jour': 'Lundi', 'Horaire': 9.0, 'Duree': 60, 'Libelle': 'Hand ball'}, {'IdSportifEntraineur': 1, 'Jour': 'Lundi', 'Horaire': 10.0, 'Duree': 60, 'Libelle': 'Hand ball'}, {'IdSportifEntraineur': 1, 'Jour': 'Lundi', 'Horaire': 11.3, 'Duree': 60, 'Libelle': 'Hand ball'}, {'IdSportifEntraineur': 1, 'Jour': 'Lundi', 'Horaire': 14.0, 'Duree': 90, 'Libelle': 'Hand ball'}, {'IdSportifEntraineur': 1, 'Jour': 'lundi', 'Horaire': 17.3, 'Duree': 120, 'Libelle': 'Hand ball'}, {'IdSportifEntraineur': 1, 'Jour': 'Lundi', 'Horaire': 19.3, 'Duree': 120, 'Libelle': 'Hand ball'}, {'IdSportifEntraineur': 2, 'Jour': 'Dimanche', 'Horaire': 17.3, 'Duree': 120, 'Libelle': 'Hand ball'}, {'IdSportifEntraineur': 2, 'Jour': 'Dimanche', 'Horaire': 19.3, 'Duree': 120, 'Libelle': 'Hand ball'}, {'IdSportifEntraineur': 2, 'Jour': 'mardi', 'Horaire': 17.3, 'Duree': 120, 'Libelle': 'Hand ball'}, {'IdSportifEntraineur': 2, 'Jour': 'mercredi', 'Horaire': 17.3, 'Duree': 120, 'Libelle': 'Hand ball'}, {'IdSportifEntraineur': 2, 'Jour': 'Samedi', 'Horaire': 15.3, 'Duree': 60, 'Libelle': 'Hand ball'}, {'IdSportifEntraineur': 2, 'Jour': 'Samedi', 'Horaire': 16.3, 'Duree': 60, 'Libelle': 'Hand ball'}, {'IdSportifEntraineur': 2, 'Jour': 'Samedi', 'Horaire': 17.3, 'Duree': 120, 'Libelle': 'Hand ball'}, {'IdSportifEntraineur': 3, 'Jour': 'jeudi', 'Horaire': 20.0, 'Duree': 30, 'Libelle': 'Hand ball'}, {'IdSportifEntraineur': 3, 'Jour': 'lundi', 'Horaire': 14.0, 'Duree': 60, 'Libelle': 'Hand ball'}, {'IdSportifEntraineur': 3, 'Jour': 'lundi', 'Horaire': 18.0, 'Duree': 30, 'Libelle': 'Hand ball'}, {'IdSportifEntraineur': 3, 'Jour': 'lundi', 'Horaire': 19.0, 'Duree': 30, 'Libelle': 'Hand ball'}, {'IdSportifEntraineur': 3, 'Jour': 'lundi', 'Horaire': 20.0, 'Duree': 30, 'Libelle': 'Hand ball'}, {'IdSportifEntraineur': 7, 'Jour': 'mercredi', 'Horaire': 17.0, 'Duree': 90, 'Libelle': 'Hockey'}]}\n",
      "{'_id': '566eec69662b388eba46429c', 'IdGymnase': 4, 'NomGymnase': 'PAUL ELUARD', 'Adresse': 'Allée J.B. Lulli', 'Ville': 'SARCELLES', 'Surface': 500, 'Seances': [{'IdSportifEntraineur': 149, 'Jour': 'Vendredi', 'Horaire': 10.0, 'Duree': 30, 'Libelle': 'Basket ball'}, {'IdSportifEntraineur': 6, 'Jour': 'mercredi', 'Horaire': 19.0, 'Duree': 60, 'Libelle': 'Hockey'}]}\n",
      "{'_id': '566eec69662b388eba4642a5', 'IdGymnase': 13, 'NomGymnase': 'RAVEL', 'Adresse': 'Place aux pommes', 'Ville': 'STAINS', 'Surface': 200, 'Seances': [{'IdSportifEntraineur': 60, 'Jour': 'dimanche', 'Horaire': 19.0, 'Duree': 60, 'Libelle': 'Volley ball'}, {'IdSportifEntraineur': 6, 'Jour': 'mercredi', 'Horaire': 20.0, 'Duree': 60, 'Libelle': 'Hockey'}, {'IdSportifEntraineur': 7, 'Jour': 'lundi', 'Horaire': 17.0, 'Duree': 90, 'Libelle': 'Hockey'}]}\n",
      "{'_id': '566eec69662b388eba4642a8', 'IdGymnase': 16, 'NomGymnase': 'SAMOURAI', 'Adresse': '4 Allée des pendules', 'Ville': 'SARCELLES', 'Surface': 600, 'Seances': [{'IdSportifEntraineur': 57, 'Jour': 'lundi', 'Horaire': 16.3, 'Duree': 90, 'Libelle': 'Volley ball'}, {'IdSportifEntraineur': 60, 'Jour': 'Lundi', 'Horaire': 17.0, 'Duree': 60, 'Libelle': 'Volley ball'}, {'IdSportifEntraineur': 60, 'Jour': 'Lundi', 'Horaire': 18.0, 'Duree': 60, 'Libelle': 'Volley ball'}, {'IdSportifEntraineur': 60, 'Jour': 'lundi', 'Horaire': 19.0, 'Duree': 60, 'Libelle': 'Volley ball'}, {'IdSportifEntraineur': 60, 'Jour': 'Lundi', 'Horaire': 20.0, 'Duree': 60, 'Libelle': 'Volley ball'}, {'IdSportifEntraineur': 6, 'Jour': 'mercredi', 'Horaire': 19.0, 'Duree': 60, 'Libelle': 'Hockey'}]}\n",
      "{'_id': '566eec69662b388eba4642aa', 'IdGymnase': 18, 'NomGymnase': 'PABLO NERUDA', 'Adresse': '6 rue saint Jean', 'Ville': 'PIERREFITTE', 'Surface': 450, 'Seances': [{'IdSportifEntraineur': 57, 'Jour': 'lundi', 'Horaire': 16.3, 'Duree': 90, 'Libelle': 'Volley ball'}, {'IdSportifEntraineur': 60, 'Jour': 'mardi', 'Horaire': 19.0, 'Duree': 60, 'Libelle': 'Volley ball'}, {'IdSportifEntraineur': 7, 'Jour': 'mercredi', 'Horaire': 14.0, 'Duree': 120, 'Libelle': 'Hockey'}, {'IdSportifEntraineur': 7, 'Jour': 'mercredi', 'Horaire': 16.0, 'Duree': 90, 'Libelle': 'Hockey'}]}\n",
      "{'_id': '566eec69662b388eba4642ac', 'IdGymnase': 20, 'NomGymnase': 'LUMIERES', 'Adresse': '78 rue Vendôme', 'Ville': 'SARCELLES', 'Surface': 400, 'Seances': [{'IdSportifEntraineur': 6, 'Jour': 'mercredi', 'Horaire': 19.0, 'Duree': 60, 'Libelle': 'Hockey'}]}\n",
      "{'_id': '566eec69662b388eba4642ad', 'IdGymnase': 21, 'NomGymnase': 'SIMON', 'Adresse': '8 bvd général de Gaulle', 'Ville': 'STAINS', 'Surface': 400, 'Seances': [{'IdSportifEntraineur': 57, 'Jour': 'lundi', 'Horaire': 16.3, 'Duree': 30, 'Libelle': 'Volley ball'}, {'IdSportifEntraineur': 60, 'Jour': 'mardi', 'Horaire': 19.0, 'Duree': 60, 'Libelle': 'Volley ball'}, {'IdSportifEntraineur': 7, 'Jour': 'mercredi', 'Horaire': 17.0, 'Duree': 30, 'Libelle': 'Hockey'}]}\n",
      "{'_id': '566eec69662b388eba4642b3', 'IdGymnase': 27, 'NomGymnase': 'PASCAL', 'Adresse': '20 rue de la pirogue', 'Ville': 'VILLETANEUSE', 'Surface': 350, 'Seances': [{'IdSportifEntraineur': 57, 'Jour': 'jeudi', 'Horaire': 10.0, 'Duree': 90, 'Libelle': 'Volley ball'}, {'IdSportifEntraineur': 7, 'Jour': 'mercredi', 'Horaire': 14.0, 'Duree': 120, 'Libelle': 'Hockey'}, {'IdSportifEntraineur': 7, 'Jour': 'mercredi', 'Horaire': 17.0, 'Duree': 90, 'Libelle': 'Hockey'}]}\n"
     ]
    }
   ],
   "source": [
    "# 10) Dans quels gymnases peut-on jouer au hockey le mercredi après 15H ?\n",
    "\n",
    "request = gymnases.find({\"Seances.Jour\": \"mercredi\", \"Seances.Horaire\": {\"$gt\": 15}, \"Seances.Libelle\": \"Hockey\"})\n",
    "for gym in request:\n",
    "    print(gym)"
   ]
  },
  {
   "cell_type": "code",
   "execution_count": 66,
   "metadata": {},
   "outputs": [
    {
     "name": "stdout",
     "output_type": "stream",
     "text": [
      "{'_id': '566eec60662b388eba464252', 'Nom': 'DROULLON'}\n",
      "{'_id': '566eec60662b388eba464275', 'Nom': 'BELUAU'}\n",
      "{'_id': '566eec60662b388eba464276', 'Nom': 'FERREIRA'}\n",
      "{'_id': '566eec60662b388eba464284', 'Nom': 'GALLOIS'}\n",
      "{'_id': '566eec60662b388eba464292', 'Nom': 'LENEVEU'}\n",
      "{'_id': '566eec60662b388eba464293', 'Nom': 'DABON'}\n",
      "{'_id': '566eec60662b388eba464294', 'Nom': 'CLERICE'}\n",
      "{'_id': '566eec60662b388eba464295', 'Nom': 'COMES'}\n",
      "{'_id': '566eec60662b388eba464297', 'Nom': 'BELZ'}\n"
     ]
    }
   ],
   "source": [
    "# 11) Quels sportifs (identifiant et nom) ne pratiquent aucun sport ?\n",
    "\n",
    "request = sportifs.find({\"Sports\": {\"$exists\": False}}, {\"_id\": 1, \"Nom\": 1})\n",
    "for pp in request:\n",
    "    print(pp)"
   ]
  },
  {
   "cell_type": "code",
   "execution_count": 70,
   "metadata": {},
   "outputs": [
    {
     "name": "stdout",
     "output_type": "stream",
     "text": [
      "{'_id': '566eec69662b388eba46429b', 'IdGymnase': 3, 'NomGymnase': 'SAINT EXUPERY', 'Adresse': '47 bvd des brumes', 'Ville': 'PIERREFITTE', 'Surface': 400, 'Seances': [{'IdSportifEntraineur': 149, 'Jour': 'Mercredi', 'Horaire': 11.0, 'Duree': 30, 'Libelle': 'Basket ball'}, {'IdSportifEntraineur': 57, 'Jour': 'lundi', 'Horaire': 16.3, 'Duree': 90, 'Libelle': 'Volley ball'}, {'IdSportifEntraineur': 60, 'Jour': 'jeudi', 'Horaire': 19.0, 'Duree': 60, 'Libelle': 'Volley ball'}]}\n",
      "{'_id': '566eec69662b388eba46429c', 'IdGymnase': 4, 'NomGymnase': 'PAUL ELUARD', 'Adresse': 'Allée J.B. Lulli', 'Ville': 'SARCELLES', 'Surface': 500, 'Seances': [{'IdSportifEntraineur': 149, 'Jour': 'Vendredi', 'Horaire': 10.0, 'Duree': 30, 'Libelle': 'Basket ball'}, {'IdSportifEntraineur': 6, 'Jour': 'mercredi', 'Horaire': 19.0, 'Duree': 60, 'Libelle': 'Hockey'}]}\n",
      "{'_id': '566eec69662b388eba46429d', 'IdGymnase': 5, 'NomGymnase': 'BRASSENS', 'Adresse': '153 square Loliot', 'Ville': 'SARCELLES', 'Surface': 620, 'Seances': [{'IdSportifEntraineur': 57, 'Jour': 'lundi', 'Horaire': 16.3, 'Duree': 90, 'Libelle': 'Volley ball'}, {'IdSportifEntraineur': 6, 'Jour': 'jeudi', 'Horaire': 19.0, 'Duree': 60, 'Libelle': 'Hockey'}]}\n",
      "{'_id': '566eec69662b388eba46429e', 'IdGymnase': 6, 'NomGymnase': 'VERLAINE', 'Adresse': '14 bvd Serrault', 'Ville': 'STAINS', 'Surface': 400, 'Seances': [{'IdSportifEntraineur': 6, 'Jour': 'vendredi', 'Horaire': 19.0, 'Duree': 60, 'Libelle': 'Hockey'}, {'IdSportifEntraineur': 7, 'Jour': 'jeudi', 'Horaire': 17.0, 'Duree': 90, 'Libelle': 'Hockey'}]}\n",
      "{'_id': '566eec69662b388eba46429f', 'IdGymnase': 7, 'NomGymnase': 'JULES FERRY', 'Adresse': '45 rue de la gare', 'Ville': 'PIERREFITTE', 'Surface': 360}\n",
      "{'_id': '566eec69662b388eba4642a1', 'IdGymnase': 9, 'NomGymnase': 'CAMUS', 'Adresse': '3 esplanade des quatrans', 'Ville': 'SARCELLES', 'Surface': 620, 'Seances': [{'IdSportifEntraineur': 6, 'Jour': 'samedi', 'Horaire': 19.0, 'Duree': 60, 'Libelle': 'Hockey'}]}\n",
      "{'_id': '566eec69662b388eba4642a3', 'IdGymnase': 11, 'NomGymnase': 'LAMARTINE', 'Adresse': '7 rue de la souris verte', 'Ville': 'PIERREFITTE', 'Surface': 300}\n",
      "{'_id': '566eec69662b388eba4642a7', 'IdGymnase': 15, 'NomGymnase': 'BREL', 'Adresse': '4 rue de la miséricorde', 'Ville': 'PIERREFITTE', 'Surface': 400, 'Seances': [{'IdSportifEntraineur': 57, 'Jour': 'lundi', 'Horaire': 16.3, 'Duree': 90, 'Libelle': 'Volley ball'}]}\n",
      "{'_id': '566eec69662b388eba4642a8', 'IdGymnase': 16, 'NomGymnase': 'SAMOURAI', 'Adresse': '4 Allée des pendules', 'Ville': 'SARCELLES', 'Surface': 600, 'Seances': [{'IdSportifEntraineur': 57, 'Jour': 'lundi', 'Horaire': 16.3, 'Duree': 90, 'Libelle': 'Volley ball'}, {'IdSportifEntraineur': 60, 'Jour': 'Lundi', 'Horaire': 17.0, 'Duree': 60, 'Libelle': 'Volley ball'}, {'IdSportifEntraineur': 60, 'Jour': 'Lundi', 'Horaire': 18.0, 'Duree': 60, 'Libelle': 'Volley ball'}, {'IdSportifEntraineur': 60, 'Jour': 'lundi', 'Horaire': 19.0, 'Duree': 60, 'Libelle': 'Volley ball'}, {'IdSportifEntraineur': 60, 'Jour': 'Lundi', 'Horaire': 20.0, 'Duree': 60, 'Libelle': 'Volley ball'}, {'IdSportifEntraineur': 6, 'Jour': 'mercredi', 'Horaire': 19.0, 'Duree': 60, 'Libelle': 'Hockey'}]}\n",
      "{'_id': '566eec69662b388eba4642aa', 'IdGymnase': 18, 'NomGymnase': 'PABLO NERUDA', 'Adresse': '6 rue saint Jean', 'Ville': 'PIERREFITTE', 'Surface': 450, 'Seances': [{'IdSportifEntraineur': 57, 'Jour': 'lundi', 'Horaire': 16.3, 'Duree': 90, 'Libelle': 'Volley ball'}, {'IdSportifEntraineur': 60, 'Jour': 'mardi', 'Horaire': 19.0, 'Duree': 60, 'Libelle': 'Volley ball'}, {'IdSportifEntraineur': 7, 'Jour': 'mercredi', 'Horaire': 14.0, 'Duree': 120, 'Libelle': 'Hockey'}, {'IdSportifEntraineur': 7, 'Jour': 'mercredi', 'Horaire': 16.0, 'Duree': 90, 'Libelle': 'Hockey'}]}\n",
      "{'_id': '566eec69662b388eba4642ac', 'IdGymnase': 20, 'NomGymnase': 'LUMIERES', 'Adresse': '78 rue Vendôme', 'Ville': 'SARCELLES', 'Surface': 400, 'Seances': [{'IdSportifEntraineur': 6, 'Jour': 'mercredi', 'Horaire': 19.0, 'Duree': 60, 'Libelle': 'Hockey'}]}\n",
      "{'_id': '566eec69662b388eba4642ad', 'IdGymnase': 21, 'NomGymnase': 'SIMON', 'Adresse': '8 bvd général de Gaulle', 'Ville': 'STAINS', 'Surface': 400, 'Seances': [{'IdSportifEntraineur': 57, 'Jour': 'lundi', 'Horaire': 16.3, 'Duree': 30, 'Libelle': 'Volley ball'}, {'IdSportifEntraineur': 60, 'Jour': 'mardi', 'Horaire': 19.0, 'Duree': 60, 'Libelle': 'Volley ball'}, {'IdSportifEntraineur': 7, 'Jour': 'mercredi', 'Horaire': 17.0, 'Duree': 30, 'Libelle': 'Hockey'}]}\n",
      "{'_id': '566eec69662b388eba4642ae', 'IdGymnase': 22, 'NomGymnase': 'BARBARA', 'Adresse': '45  rue du bossu', 'Ville': 'SAINT DENIS', 'Surface': 500, 'Seances': [{'IdSportifEntraineur': 57, 'Jour': 'mardi', 'Horaire': 10.0, 'Duree': 30, 'Libelle': 'Volley ball'}]}\n",
      "{'_id': '566eec69662b388eba4642af', 'IdGymnase': 23, 'NomGymnase': 'ARAGON', 'Adresse': '10 Bvd Lenoir', 'Ville': 'SAINT DENIS', 'Surface': 520}\n",
      "{'_id': '566eec69662b388eba4642b0', 'IdGymnase': 24, 'NomGymnase': 'BELFEGOR', 'Adresse': 'Place de Gaulle', 'Ville': 'SAINT DENIS', 'Surface': 450, 'Seances': [{'IdSportifEntraineur': 149, 'Jour': 'Jeudi', 'Horaire': 9.0, 'Duree': 90, 'Libelle': 'Basket ball'}, {'IdSportifEntraineur': 57, 'Jour': 'mercredi', 'Horaire': 10.0, 'Duree': 90, 'Libelle': 'Volley ball'}]}\n",
      "{'_id': '566eec69662b388eba4642b2', 'IdGymnase': 26, 'NomGymnase': 'MERMOZ', 'Adresse': '41 rue des ponts', 'Ville': 'VILLETANEUSE', 'Surface': 600}\n",
      "{'_id': '566eec69662b388eba4642b3', 'IdGymnase': 27, 'NomGymnase': 'PASCAL', 'Adresse': '20 rue de la pirogue', 'Ville': 'VILLETANEUSE', 'Surface': 350, 'Seances': [{'IdSportifEntraineur': 57, 'Jour': 'jeudi', 'Horaire': 10.0, 'Duree': 90, 'Libelle': 'Volley ball'}, {'IdSportifEntraineur': 7, 'Jour': 'mercredi', 'Horaire': 14.0, 'Duree': 120, 'Libelle': 'Hockey'}, {'IdSportifEntraineur': 7, 'Jour': 'mercredi', 'Horaire': 17.0, 'Duree': 90, 'Libelle': 'Hockey'}]}\n"
     ]
    }
   ],
   "source": [
    "# 12) Quels gymnases n’ont pas de séances le dimanche ?\n",
    "\n",
    "request = gymnases.find({\"Seances.Jour\": {\"$nin\": [\"Dimanche\", \"dimanche\"]}})\n",
    "for gym in request:\n",
    "    print(gym)"
   ]
  },
  {
   "cell_type": "code",
   "execution_count": 78,
   "metadata": {},
   "outputs": [
    {
     "name": "stdout",
     "output_type": "stream",
     "text": [
      "{'_id': '566eec69662b388eba46429b', 'IdGymnase': 3, 'NomGymnase': 'SAINT EXUPERY', 'Adresse': '47 bvd des brumes', 'Ville': 'PIERREFITTE', 'Surface': 400, 'Seances': [{'IdSportifEntraineur': 149, 'Jour': 'Mercredi', 'Horaire': 11.0, 'Duree': 30, 'Libelle': 'Basket ball'}, {'IdSportifEntraineur': 57, 'Jour': 'lundi', 'Horaire': 16.3, 'Duree': 90, 'Libelle': 'Volley ball'}, {'IdSportifEntraineur': 60, 'Jour': 'jeudi', 'Horaire': 19.0, 'Duree': 60, 'Libelle': 'Volley ball'}]}\n",
      "{'_id': '566eec69662b388eba4642a6', 'IdGymnase': 14, 'NomGymnase': 'CHOPIN', 'Adresse': '23 rue Carafelli', 'Ville': 'MONTMORENCY', 'Surface': 500, 'Seances': [{'IdSportifEntraineur': 149, 'Jour': 'Mardi', 'Horaire': 10.0, 'Duree': 60, 'Libelle': 'Basket ball'}, {'IdSportifEntraineur': 57, 'Jour': 'dimanche', 'Horaire': 17.0, 'Duree': 60, 'Libelle': 'Volley ball'}]}\n",
      "{'_id': '566eec69662b388eba4642b0', 'IdGymnase': 24, 'NomGymnase': 'BELFEGOR', 'Adresse': 'Place de Gaulle', 'Ville': 'SAINT DENIS', 'Surface': 450, 'Seances': [{'IdSportifEntraineur': 149, 'Jour': 'Jeudi', 'Horaire': 9.0, 'Duree': 90, 'Libelle': 'Basket ball'}, {'IdSportifEntraineur': 57, 'Jour': 'mercredi', 'Horaire': 10.0, 'Duree': 90, 'Libelle': 'Volley ball'}]}\n"
     ]
    }
   ],
   "source": [
    "# 13) Quels gymnases ne proposent que des séances de basket ball ou de volley ball ?\n",
    "\n",
    "request = gymnases.find({\"Seances.Libelle\": {\"$all\": [\"Basket ball\", \"Volley ball\"]}})\n",
    "for gym in request:\n",
    "    print(gym)"
   ]
  },
  {
   "cell_type": "code",
   "execution_count": 79,
   "metadata": {},
   "outputs": [
    {
     "name": "stdout",
     "output_type": "stream",
     "text": [
      "{'_id': '566eec5f662b388eba464203', 'IdSportif': 1, 'Nom': 'BOUTAHAR', 'Prenom': 'Abderahim', 'Sexe': 'm', 'Age': 30, 'Sports': {'Jouer': ['Volley ball', 'Tennis', 'Football'], 'Arbitrer': ['Basket ball', 'Volley ball', 'Hockey'], 'Entrainer': ['Basket ball', 'Volley ball', 'Hand ball', 'Hockey', 'Badmington']}}\n",
      "{'_id': '566eec5f662b388eba464204', 'IdSportif': 2, 'Nom': 'KERVADEC', 'Prenom': 'Yann', 'Sexe': 'M', 'Age': 28, 'IdSportifConseiller': 1, 'Sports': {'Jouer': ['Basket ball', 'Volley ball', 'Ping pong', 'Football'], 'Arbitrer': ['Hockey', 'Football'], 'Entrainer': ['Basket ball', 'Volley ball', 'Hand ball', 'Tennis', 'Hockey', 'Badmington', 'Ping pong', 'Boxe']}}\n",
      "{'_id': '566eec5f662b388eba464205', 'IdSportif': 3, 'Nom': 'HUE', 'Prenom': 'Pascale', 'Sexe': 'F', 'Age': 25, 'IdSportifConseiller': 1, 'Sports': {'Jouer': ['Volley ball', 'Ping pong'], 'Arbitrer': ['Volley ball', 'Badmington', 'Ping pong'], 'Entrainer': ['Basket ball', 'Volley ball', 'Hand ball', 'Badmington']}}\n",
      "{'_id': '566eec5f662b388eba464206', 'IdSportif': 4, 'Nom': 'DORLEANS', 'Prenom': 'Jean-michel', 'Sexe': 'M', 'Age': 32, 'IdSportifConseiller': 1, 'Sports': {'Jouer': ['Volley ball', 'Football'], 'Arbitrer': ['Basket ball', 'Volley ball', 'Ping pong', 'Boxe'], 'Entrainer': ['Basket ball', 'Ping pong', 'Boxe']}}\n",
      "{'_id': '566eec5f662b388eba464208', 'IdSportif': 6, 'Nom': 'RETALDI', 'Prenom': 'Sophie', 'Sexe': 'F', 'Age': 30, 'IdSportifConseiller': 3, 'Sports': {'Jouer': ['Basket ball', 'Volley ball', 'Hand ball', 'Ping pong'], 'Arbitrer': ['Basket ball', 'Hockey', 'Ping pong'], 'Entrainer': ['Hockey', 'Ping pong', 'Boxe']}}\n",
      "{'_id': '566eec5f662b388eba464209', 'IdSportif': 7, 'Nom': 'GOMEZ', 'Prenom': 'Diego', 'Sexe': 'M', 'Age': 25, 'IdSportifConseiller': 2, 'Sports': {'Jouer': ['Volley ball', 'Tennis', 'Football'], 'Arbitrer': ['Volley ball', 'Hand ball', 'Hockey'], 'Entrainer': ['Volley ball', 'Hand ball', 'Hockey', 'Badmington']}}\n",
      "{'_id': '566eec5f662b388eba46421e', 'IdSportif': 29, 'Nom': 'ROUSSEL', 'Prenom': 'Nadège', 'Sexe': 'F', 'Age': 22, 'IdSportifConseiller': 5, 'Sports': {'Jouer': ['Volley ball', 'Hand ball', 'Badmington', 'Ping pong'], 'Arbitrer': 'Ping pong', 'Entrainer': 'Ping pong'}}\n",
      "{'_id': '566eec5f662b388eba46421f', 'IdSportif': 30, 'Nom': 'SCHINK', 'Prenom': 'Nicolas', 'Sexe': 'M', 'Age': 24, 'IdSportifConseiller': 4, 'Sports': {'Jouer': ['Volley ball', 'Hand ball', 'Ping pong', 'Football'], 'Entrainer': 'Ping pong'}}\n",
      "{'_id': '566eec5f662b388eba464220', 'IdSportif': 31, 'Nom': 'STEMPUT', 'Prenom': 'Mathieu', 'Sexe': 'M', 'Age': 22, 'IdSportifConseiller': 2, 'Sports': {'Jouer': ['Volley ball', 'Hand ball', 'Badmington', 'Football'], 'Entrainer': 'Ping pong'}}\n",
      "{'_id': '566eec5f662b388eba464221', 'IdSportif': 32, 'Nom': 'VAN CAUTER', 'Prenom': 'Vincent', 'Sexe': 'M', 'Age': 23, 'IdSportifConseiller': 3, 'Sports': {'Jouer': ['Basket ball', 'Volley ball', 'Hand ball', 'Badmington', 'Ping pong', 'Football'], 'Arbitrer': 'Ping pong', 'Entrainer': 'Ping pong'}}\n",
      "{'_id': '566eec60662b388eba464224', 'IdSportif': 35, 'Nom': 'TANQUE', 'Prenom': 'Yann', 'Sexe': 'M', 'Age': 24, 'IdSportifConseiller': 4, 'Sports': {'Jouer': ['Basket ball', 'Volley ball', 'Hand ball', 'Ping pong', 'Football'], 'Arbitrer': 'Badmington', 'Entrainer': ['Badmington', 'Ping pong']}}\n",
      "{'_id': '566eec60662b388eba464225', 'IdSportif': 36, 'Nom': 'DJELOUDANE', 'Prenom': 'Zinedine', 'Sexe': 'M', 'Age': 28, 'IdSportifConseiller': 1, 'Sports': {'Jouer': ['Basket ball', 'Volley ball', 'Ping pong', 'Football'], 'Entrainer': 'Badmington'}}\n",
      "{'_id': '566eec60662b388eba464227', 'IdSportif': 38, 'Nom': 'VASSEMON', 'Prenom': 'Laurent', 'Sexe': 'M', 'Age': 24, 'IdSportifConseiller': 1, 'Sports': {'Jouer': ['Hand ball', 'Badmington', 'Football'], 'Entrainer': 'Ping pong'}}\n",
      "{'_id': '566eec60662b388eba464229', 'IdSportif': 40, 'Nom': 'VALIN', 'Prenom': 'Yann', 'Sexe': 'M', 'Age': 23, 'IdSportifConseiller': 2, 'Sports': {'Jouer': ['Basket ball', 'Hand ball', 'Badmington', 'Ping pong', 'Football'], 'Entrainer': ['Badmington', 'Ping pong']}}\n",
      "{'_id': '566eec60662b388eba464231', 'IdSportif': 48, 'Nom': 'HEDDI', 'Prenom': 'Zohra', 'Sexe': 'F', 'Age': 23, 'IdSportifConseiller': 2, 'Sports': {'Jouer': ['Basket ball', 'Badmington', 'Ping pong'], 'Entrainer': 'Badmington'}}\n",
      "{'_id': '566eec60662b388eba464233', 'IdSportif': 50, 'Nom': 'KALOMBO', 'Prenom': 'Yannick', 'Sexe': 'M', 'Age': 22, 'IdSportifConseiller': 2, 'Sports': {'Jouer': ['Basket ball', 'Badmington', 'Ping pong', 'Football'], 'Entrainer': 'Badmington'}}\n",
      "{'_id': '566eec60662b388eba464239', 'IdSportif': 56, 'Nom': 'GUERRAOUI', 'Prenom': 'Zohra', 'Sexe': 'F', 'Age': 25, 'IdSportifConseiller': 1, 'Sports': {'Jouer': ['Basket ball', 'Ping pong'], 'Entrainer': 'Badmington'}}\n",
      "{'_id': '566eec60662b388eba46423a', 'IdSportif': 57, 'Nom': 'BOISSEAU', 'Prenom': 'Eric', 'Sexe': 'M', 'Age': 25, 'IdSportifConseiller': 1, 'Sports': {'Jouer': ['Tennis', 'Football'], 'Entrainer': ['Volley ball', 'Tennis']}}\n",
      "{'_id': '566eec60662b388eba46423b', 'IdSportif': 58, 'Nom': 'GUIGUI', 'Prenom': 'Vincent', 'Sexe': 'M', 'Age': 23, 'IdSportifConseiller': 4, 'Sports': {'Jouer': ['Basket ball', 'Badmington', 'Ping pong', 'Football'], 'Entrainer': ['Volley ball', 'Tennis']}}\n",
      "{'_id': '566eec60662b388eba46423c', 'IdSportif': 59, 'Nom': 'CLERICE', 'Prenom': 'Stéphanie', 'Sexe': 'F', 'Age': 23, 'Sports': {'Jouer': ['Basket ball', 'Badmington', 'Ping pong'], 'Arbitrer': 'Tennis', 'Entrainer': ['Volley ball', 'Tennis']}}\n",
      "{'_id': '566eec60662b388eba46423d', 'IdSportif': 60, 'Nom': 'TIZEGHAT', 'Prenom': 'Benamar', 'Sexe': 'M', 'Age': 32, 'IdSportifConseiller': 3, 'Sports': {'Jouer': ['Hand ball', 'Tennis', 'Football'], 'Arbitrer': 'Volley ball', 'Entrainer': ['Volley ball', 'Tennis', 'Ping pong']}}\n",
      "{'_id': '566eec60662b388eba46423e', 'IdSportif': 61, 'Nom': 'LAZARRE', 'Prenom': 'Jean', 'Sexe': 'M', 'Age': 27, 'IdSportifConseiller': 7, 'Sports': {'Jouer': 'Football', 'Entrainer': ['Volley ball', 'Tennis']}}\n",
      "{'_id': '566eec60662b388eba464296', 'IdSportif': 149, 'Nom': 'BELZ', 'Prenom': 'Sylvianne', 'Sexe': 'F', 'Age': 27, 'IdSportifConseiller': 7, 'Sports': {'Jouer': 'Basket ball', 'Arbitrer': 'Basket ball', 'Entrainer': 'Basket ball'}}\n",
      "{'_id': '566eec60662b388eba464298', 'IdSportif': 151, 'Nom': 'HENRY', 'Prenom': 'Maël', 'Sexe': 'M', 'Age': 25, 'IdSportifConseiller': 2, 'Sports': {'Jouer': ['Basket ball', 'Hand ball'], 'Arbitrer': ['Basket ball', 'Hand ball'], 'Entrainer': ['Basket ball', 'Hand ball']}}\n"
     ]
    }
   ],
   "source": [
    "# 14) Quels sont les entraîneurs qui sont aussi joueurs ?\n",
    "\n",
    "request = sportifs.find({\"Sports.Entrainer\":{\"$exists\":True},\"Sports.Jouer\":{\"$exists\":True}})\n",
    "for pp in request:\n",
    "    print(pp)"
   ]
  },
  {
   "cell_type": "code",
   "execution_count": 104,
   "metadata": {},
   "outputs": [
    {
     "name": "stdout",
     "output_type": "stream",
     "text": [
      "{'_id': '566eec5f662b388eba464203', 'IdSportif': 1, 'Nom': 'BOUTAHAR', 'Prenom': 'Abderahim', 'Sexe': 'm', 'Age': 30, 'Sports': {'Jouer': ['Volley ball', 'Tennis', 'Football'], 'Arbitrer': ['Basket ball', 'Volley ball', 'Hockey'], 'Entrainer': ['Basket ball', 'Volley ball', 'Hand ball', 'Hockey', 'Badmington']}}\n",
      "{'_id': '566eec5f662b388eba464204', 'IdSportif': 2, 'Nom': 'KERVADEC', 'Prenom': 'Yann', 'Sexe': 'M', 'Age': 28, 'IdSportifConseiller': 1, 'Sports': {'Jouer': ['Basket ball', 'Volley ball', 'Ping pong', 'Football'], 'Arbitrer': ['Hockey', 'Football'], 'Entrainer': ['Basket ball', 'Volley ball', 'Hand ball', 'Tennis', 'Hockey', 'Badmington', 'Ping pong', 'Boxe']}}\n",
      "{'_id': '566eec5f662b388eba464205', 'IdSportif': 3, 'Nom': 'HUE', 'Prenom': 'Pascale', 'Sexe': 'F', 'Age': 25, 'IdSportifConseiller': 1, 'Sports': {'Jouer': ['Volley ball', 'Ping pong'], 'Arbitrer': ['Volley ball', 'Badmington', 'Ping pong'], 'Entrainer': ['Basket ball', 'Volley ball', 'Hand ball', 'Badmington']}}\n",
      "{'_id': '566eec5f662b388eba464206', 'IdSportif': 4, 'Nom': 'DORLEANS', 'Prenom': 'Jean-michel', 'Sexe': 'M', 'Age': 32, 'IdSportifConseiller': 1, 'Sports': {'Jouer': ['Volley ball', 'Football'], 'Arbitrer': ['Basket ball', 'Volley ball', 'Ping pong', 'Boxe'], 'Entrainer': ['Basket ball', 'Ping pong', 'Boxe']}}\n",
      "{'_id': '566eec5f662b388eba464207', 'IdSportif': 5, 'Nom': 'COMES', 'Prenom': 'Sylvie', 'Sexe': 'F', 'Age': 22, 'IdSportifConseiller': 1, 'Sports': {'Jouer': ['Basket ball', 'Volley ball', 'Badmington', 'Ping pong'], 'Arbitrer': 'Ping pong'}}\n",
      "{'_id': '566eec5f662b388eba464208', 'IdSportif': 6, 'Nom': 'RETALDI', 'Prenom': 'Sophie', 'Sexe': 'F', 'Age': 30, 'IdSportifConseiller': 3, 'Sports': {'Jouer': ['Basket ball', 'Volley ball', 'Hand ball', 'Ping pong'], 'Arbitrer': ['Basket ball', 'Hockey', 'Ping pong'], 'Entrainer': ['Hockey', 'Ping pong', 'Boxe']}}\n",
      "{'_id': '566eec5f662b388eba464209', 'IdSportif': 7, 'Nom': 'GOMEZ', 'Prenom': 'Diego', 'Sexe': 'M', 'Age': 25, 'IdSportifConseiller': 2, 'Sports': {'Jouer': ['Volley ball', 'Tennis', 'Football'], 'Arbitrer': ['Volley ball', 'Hand ball', 'Hockey'], 'Entrainer': ['Volley ball', 'Hand ball', 'Hockey', 'Badmington']}}\n",
      "None\n",
      "{'_id': '566eec5f662b388eba46420a', 'IdSportif': 9, 'Nom': 'ANTUNES', 'Prenom': 'Gaêlle', 'Sexe': 'F', 'Age': 23, 'IdSportifConseiller': 4, 'Sports': {'Jouer': ['Volley ball', 'Tennis', 'Badmington']}}\n",
      "{'_id': '566eec5f662b388eba46420f', 'IdSportif': 14, 'Nom': 'CAILLIOT', 'Prenom': 'Stéphanie', 'Sexe': 'F', 'Age': 24, 'IdSportifConseiller': 1, 'Sports': {'Jouer': ['Basket ball', 'Volley ball', 'Ping pong']}}\n",
      "{'_id': '566eec5f662b388eba464216', 'IdSportif': 21, 'Nom': 'LE BOUCHER', 'Prenom': 'Denis', 'Sexe': 'M', 'Age': 22, 'IdSportifConseiller': 2, 'Sports': {'Jouer': ['Volley ball', 'Tennis', 'Badmington', 'Football']}}\n",
      "{'_id': '566eec60662b388eba46422d', 'IdSportif': 44, 'Nom': 'ADIBO', 'Prenom': 'Senamé', 'Sexe': 'M', 'Age': 28, 'IdSportifConseiller': 21, 'Sports': {'Jouer': ['Basket ball', 'Ping pong', 'Football']}}\n",
      "{'_id': '566eec60662b388eba464263', 'IdSportif': 98, 'Nom': 'RICHARD', 'Prenom': 'William', 'Sexe': 'M', 'Age': 30, 'IdSportifConseiller': 2, 'Sports': {'Jouer': ['Basket ball', 'Hand ball', 'Ping pong', 'Football'], 'Arbitrer': 'Basket ball'}}\n"
     ]
    }
   ],
   "source": [
    "# 15) Quels sont les sportifs qui sont des conseillers ?\n",
    "\n",
    "arrayConseiller = []\n",
    "conseillers = sportifs.find({\"IdSportifConseiller\": {\"$exists\": True}}, {\"IdSportifConseiller\": 1, \"_id\": 0}).sort(\"IdSportifConseiller\", 1)\n",
    "for conseiller in conseillers:\n",
    "    if conseiller not in arrayConseiller:\n",
    "        arrayConseiller.append(conseiller)\n",
    "        request = sportifs.find_one({\"IdSportif\": conseiller[\"IdSportifConseiller\"]})\n",
    "        print(request)"
   ]
  },
  {
   "cell_type": "code",
   "execution_count": 88,
   "metadata": {},
   "outputs": [
    {
     "name": "stdout",
     "output_type": "stream",
     "text": [
      "{'IdSportifConseiller': 1}\n",
      "{'Nom': 'BOUTAHAR'}\n"
     ]
    }
   ],
   "source": [
    "# 16) Pour le sportif “Kervadec” quel est le nom de son conseiller ?\n",
    "\n",
    "conseiller = sportifs.find_one({\"Nom\": \"KERVADEC\"}, {\"IdSportifConseiller\": 1, \"_id\": 0})\n",
    "print(conseiller)\n",
    "request = sportifs.find_one({\"IdSportif\": conseiller[\"IdSportifConseiller\"]}, {\"Nom\": 1, \"_id\": 0})\n",
    "print(request)"
   ]
  },
  {
   "cell_type": "code",
   "execution_count": 109,
   "metadata": {},
   "outputs": [
    {
     "name": "stdout",
     "output_type": "stream",
     "text": [
      "{'_id': '566eec5f662b388eba464203', 'IdSportif': 1, 'Nom': 'BOUTAHAR', 'Prenom': 'Abderahim', 'Sexe': 'm', 'Age': 30, 'Sports': {'Jouer': ['Volley ball', 'Tennis', 'Football'], 'Arbitrer': ['Basket ball', 'Volley ball', 'Hockey'], 'Entrainer': ['Basket ball', 'Volley ball', 'Hand ball', 'Hockey', 'Badmington']}}\n",
      "{'_id': '566eec5f662b388eba464204', 'IdSportif': 2, 'Nom': 'KERVADEC', 'Prenom': 'Yann', 'Sexe': 'M', 'Age': 28, 'IdSportifConseiller': 1, 'Sports': {'Jouer': ['Basket ball', 'Volley ball', 'Ping pong', 'Football'], 'Arbitrer': ['Hockey', 'Football'], 'Entrainer': ['Basket ball', 'Volley ball', 'Hand ball', 'Tennis', 'Hockey', 'Badmington', 'Ping pong', 'Boxe']}}\n",
      "{'_id': '566eec5f662b388eba464205', 'IdSportif': 3, 'Nom': 'HUE', 'Prenom': 'Pascale', 'Sexe': 'F', 'Age': 25, 'IdSportifConseiller': 1, 'Sports': {'Jouer': ['Volley ball', 'Ping pong'], 'Arbitrer': ['Volley ball', 'Badmington', 'Ping pong'], 'Entrainer': ['Basket ball', 'Volley ball', 'Hand ball', 'Badmington']}}\n",
      "{'_id': '566eec60662b388eba464298', 'IdSportif': 151, 'Nom': 'HENRY', 'Prenom': 'Maël', 'Sexe': 'M', 'Age': 25, 'IdSportifConseiller': 2, 'Sports': {'Jouer': ['Basket ball', 'Hand ball'], 'Arbitrer': ['Basket ball', 'Hand ball'], 'Entrainer': ['Basket ball', 'Hand ball']}}\n"
     ]
    }
   ],
   "source": [
    "# 17) Quels entraîneurs entraînent du hand ball et du basket ball ?\n",
    "\n",
    "request = sportifs.find({\"Sports.Entrainer\": {\"$all\": [\"Hand ball\", \"Basket ball\"]}})\n",
    "for pp in request:\n",
    "    print(pp)"
   ]
  },
  {
   "cell_type": "code",
   "execution_count": 83,
   "metadata": {},
   "outputs": [],
   "source": [
    "# 18) Quels sportifs n’ont pas de conseillers ?\n",
    "\n",
    "request = sportifs.find({\"IdSportifConseiller\":{\"$exists\":False},\"Sports.Jouer\":{\"$exists\":True}})\n",
    "for pp in request:\n",
    "    print(pp)"
   ]
  },
  {
   "cell_type": "code",
   "execution_count": 121,
   "metadata": {},
   "outputs": [
    {
     "name": "stdout",
     "output_type": "stream",
     "text": [
      "{'IdSportif': 1, 'Nom': 'BOUTAHAR', 'Prenom': 'Abderahim'}\n",
      "{'IdSportif': 4, 'Nom': 'DORLEANS', 'Prenom': 'Jean-michel'}\n",
      "{'IdSportif': 6, 'Nom': 'RETALDI', 'Prenom': 'Sophie'}\n",
      "{'IdSportif': 94, 'Nom': 'LEROUX', 'Prenom': 'Paule'}\n",
      "{'IdSportif': 98, 'Nom': 'RICHARD', 'Prenom': 'William'}\n",
      "{'IdSportif': 105, 'Nom': 'STILO', 'Prenom': 'Philippe'}\n",
      "{'IdSportif': 149, 'Nom': 'BELZ', 'Prenom': 'Sylvianne'}\n",
      "{'IdSportif': 151, 'Nom': 'HENRY', 'Prenom': 'Maël'}\n",
      "{'_id': '566eec69662b388eba464299', 'IdGymnase': 1, 'NomGymnase': 'PAUL ELUARD', 'Adresse': '2 rue des pépines', 'Ville': 'STAINS', 'Surface': 200, 'Seances': [{'IdSportifEntraineur': 149, 'Jour': 'Samedi', 'Horaire': 9.0, 'Duree': 60, 'Libelle': 'Basket ball'}, {'IdSportifEntraineur': 1, 'Jour': 'Lundi', 'Horaire': 9.0, 'Duree': 60, 'Libelle': 'Hand ball'}, {'IdSportifEntraineur': 1, 'Jour': 'Lundi', 'Horaire': 10.0, 'Duree': 60, 'Libelle': 'Hand ball'}, {'IdSportifEntraineur': 1, 'Jour': 'Lundi', 'Horaire': 11.3, 'Duree': 60, 'Libelle': 'Hand ball'}, {'IdSportifEntraineur': 1, 'Jour': 'Lundi', 'Horaire': 14.0, 'Duree': 90, 'Libelle': 'Hand ball'}, {'IdSportifEntraineur': 1, 'Jour': 'lundi', 'Horaire': 17.3, 'Duree': 120, 'Libelle': 'Hand ball'}, {'IdSportifEntraineur': 1, 'Jour': 'Lundi', 'Horaire': 19.3, 'Duree': 120, 'Libelle': 'Hand ball'}, {'IdSportifEntraineur': 2, 'Jour': 'Dimanche', 'Horaire': 17.3, 'Duree': 120, 'Libelle': 'Hand ball'}, {'IdSportifEntraineur': 2, 'Jour': 'Dimanche', 'Horaire': 19.3, 'Duree': 120, 'Libelle': 'Hand ball'}, {'IdSportifEntraineur': 2, 'Jour': 'mardi', 'Horaire': 17.3, 'Duree': 120, 'Libelle': 'Hand ball'}, {'IdSportifEntraineur': 2, 'Jour': 'mercredi', 'Horaire': 17.3, 'Duree': 120, 'Libelle': 'Hand ball'}, {'IdSportifEntraineur': 2, 'Jour': 'Samedi', 'Horaire': 15.3, 'Duree': 60, 'Libelle': 'Hand ball'}, {'IdSportifEntraineur': 2, 'Jour': 'Samedi', 'Horaire': 16.3, 'Duree': 60, 'Libelle': 'Hand ball'}, {'IdSportifEntraineur': 2, 'Jour': 'Samedi', 'Horaire': 17.3, 'Duree': 120, 'Libelle': 'Hand ball'}, {'IdSportifEntraineur': 3, 'Jour': 'jeudi', 'Horaire': 20.0, 'Duree': 30, 'Libelle': 'Hand ball'}, {'IdSportifEntraineur': 3, 'Jour': 'lundi', 'Horaire': 14.0, 'Duree': 60, 'Libelle': 'Hand ball'}, {'IdSportifEntraineur': 3, 'Jour': 'lundi', 'Horaire': 18.0, 'Duree': 30, 'Libelle': 'Hand ball'}, {'IdSportifEntraineur': 3, 'Jour': 'lundi', 'Horaire': 19.0, 'Duree': 30, 'Libelle': 'Hand ball'}, {'IdSportifEntraineur': 3, 'Jour': 'lundi', 'Horaire': 20.0, 'Duree': 30, 'Libelle': 'Hand ball'}, {'IdSportifEntraineur': 7, 'Jour': 'mercredi', 'Horaire': 17.0, 'Duree': 90, 'Libelle': 'Hockey'}]}\n",
      "{'_id': '566eec69662b388eba4642a6', 'IdGymnase': 14, 'NomGymnase': 'CHOPIN', 'Adresse': '23 rue Carafelli', 'Ville': 'MONTMORENCY', 'Surface': 500, 'Seances': [{'IdSportifEntraineur': 149, 'Jour': 'Mardi', 'Horaire': 10.0, 'Duree': 60, 'Libelle': 'Basket ball'}, {'IdSportifEntraineur': 57, 'Jour': 'dimanche', 'Horaire': 17.0, 'Duree': 60, 'Libelle': 'Volley ball'}]}\n",
      "{'_id': '566eec69662b388eba4642b1', 'IdGymnase': 25, 'NomGymnase': 'DOLTO', 'Adresse': '3 square Plaisir', 'Ville': 'VILLETANEUSE', 'Surface': 620, 'Seances': [{'IdSportifEntraineur': 149, 'Jour': 'Dimanche', 'Horaire': 18.0, 'Duree': 60, 'Libelle': 'Basket ball'}]}\n",
      "{'_id': '566eec69662b388eba4642b4', 'IdGymnase': 28, 'NomGymnase': 'BLAISE PASCAL', 'Adresse': '2bis rue de la moulerie', 'Ville': 'GARGES', 'Surface': 400, 'Seances': [{'IdSportifEntraineur': 149, 'Jour': 'Lundi', 'Horaire': 9.0, 'Duree': 30, 'Libelle': 'Basket ball'}, {'IdSportifEntraineur': 6, 'Jour': 'dimanche', 'Horaire': 14.0, 'Duree': 60, 'Libelle': 'Hockey'}, {'IdSportifEntraineur': 6, 'Jour': 'dimanche', 'Horaire': 15.0, 'Duree': 60, 'Libelle': 'Hockey'}, {'IdSportifEntraineur': 6, 'Jour': 'dimanche', 'Horaire': 16.0, 'Duree': 60, 'Libelle': 'Hockey'}, {'IdSportifEntraineur': 6, 'Jour': 'dimanche', 'Horaire': 17.0, 'Duree': 60, 'Libelle': 'Hockey'}, {'IdSportifEntraineur': 7, 'Jour': 'mardi', 'Horaire': 18.0, 'Duree': 90, 'Libelle': 'Hockey'}, {'IdSportifEntraineur': 7, 'Jour': 'samedi', 'Horaire': 18.0, 'Duree': 90, 'Libelle': 'Hockey'}, {'IdSportifEntraineur': 7, 'Jour': 'vendredi', 'Horaire': 18.0, 'Duree': 90, 'Libelle': 'Hockey'}]}\n"
     ]
    }
   ],
   "source": [
    "# 19) Votre propre Qry : la plus intéressante et/ou la plus complexe...\n",
    "\n",
    "# On cherche un arbitre pour du basket ball, avec un gymnases proposant une séance de basket le dimanche après 14h\n",
    "\n",
    "requestArbitrer = sportifs.find({\"Sports.Arbitrer\": \"Basket ball\"}, {\"Nom\": 1, \"Prenom\": 1, \"IdSportif\": 1,\"_id\": 0})\n",
    "for arbitrer in requestArbitrer:\n",
    "    print(arbitrer)\n",
    "requestGym = gymnases.find({\"Seances.Jour\": {\"$in\": [\"Dimanche\", \"dimanche\"]}, \"Seances.Horaire\": {\"$gt\": 14}, \"Seances.Libelle\": \"Basket ball\"})\n",
    "for gym in requestGym:\n",
    "    print(gym)"
   ]
  },
  {
   "cell_type": "code",
   "execution_count": null,
   "metadata": {},
   "outputs": [],
   "source": [
    "# 20) 1 point offert"
   ]
  }
 ],
 "metadata": {
  "kernelspec": {
   "display_name": "Python 3",
   "language": "python",
   "name": "python3"
  },
  "language_info": {
   "codemirror_mode": {
    "name": "ipython",
    "version": 3
   },
   "file_extension": ".py",
   "mimetype": "text/x-python",
   "name": "python",
   "nbconvert_exporter": "python",
   "pygments_lexer": "ipython3",
   "version": "3.8.5"
  }
 },
 "nbformat": 4,
 "nbformat_minor": 4
}
