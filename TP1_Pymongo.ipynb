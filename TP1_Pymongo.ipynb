{
 "cells": [
  {
   "cell_type": "code",
   "execution_count": 4,
   "metadata": {},
   "outputs": [],
   "source": [
    "from pymongo import MongoClient, errors\n",
    "import time"
   ]
  },
  {
   "cell_type": "code",
   "execution_count": 5,
   "metadata": {
    "scrolled": true
   },
   "outputs": [
    {
     "name": "stdout",
     "output_type": "stream",
     "text": [
      "connexion success\n"
     ]
    }
   ],
   "source": [
    "client = MongoClient('mongodb://localhost:27017/')\n",
    "db = client.metflix\n",
    "movies = db.movies\n",
    "print('connexion success')"
   ]
  },
  {
   "cell_type": "code",
   "execution_count": 3,
   "metadata": {},
   "outputs": [
    {
     "name": "stdout",
     "output_type": "stream",
     "text": [
      "{'_id': 'tt0075148', 'title': 'Rocky', 'year': 1976}\n",
      "{'_id': 'tt0073195', 'title': 'Jaws', 'year': 1975}\n",
      "{'_id': 'tt0082694', 'title': 'Mad Max 2 : The Road Warrior', 'year': 1981}\n",
      "{'_id': 'tt0082971', 'title': 'Raiders of the Lost Ark', 'year': 1981}\n"
     ]
    }
   ],
   "source": [
    "# Les commandes sont réalisé avec le prof pour apprendre à utilisé pymongo\n",
    "# Elles ont permis de répondrent aux premières questions\n",
    "\n",
    "for item in movies.find(): \n",
    "    print(item)"
   ]
  },
  {
   "cell_type": "code",
   "execution_count": 11,
   "metadata": {},
   "outputs": [],
   "source": [
    "client.drop_database('metflix')"
   ]
  },
  {
   "cell_type": "code",
   "execution_count": 12,
   "metadata": {
    "scrolled": true
   },
   "outputs": [
    {
     "data": {
      "text/plain": [
       "Database(MongoClient(host=['localhost:27017'], document_class=dict, tz_aware=False, connect=True), 'metflix')"
      ]
     },
     "execution_count": 12,
     "metadata": {},
     "output_type": "execute_result"
    }
   ],
   "source": [
    "db"
   ]
  },
  {
   "cell_type": "code",
   "execution_count": 13,
   "metadata": {},
   "outputs": [
    {
     "data": {
      "text/plain": [
       "Collection(Database(MongoClient(host=['localhost:27017'], document_class=dict, tz_aware=False, connect=True), 'metflix'), 'movies')"
      ]
     },
     "execution_count": 13,
     "metadata": {},
     "output_type": "execute_result"
    }
   ],
   "source": [
    "movies"
   ]
  },
  {
   "cell_type": "code",
   "execution_count": 14,
   "metadata": {},
   "outputs": [
    {
     "name": "stdout",
     "output_type": "stream",
     "text": [
      "5ffd84c4a2aa927e63e9b7fb\n"
     ]
    }
   ],
   "source": [
    "x = movies.insert_one({\"title\":\"Rocky\",\"year\":1976})\n",
    "print(x.inserted_id)"
   ]
  },
  {
   "cell_type": "code",
   "execution_count": 20,
   "metadata": {},
   "outputs": [
    {
     "name": "stdout",
     "output_type": "stream",
     "text": [
      "connection success\n",
      "0.0069580078125\n"
     ]
    }
   ],
   "source": [
    "start = time.time()\n",
    "\n",
    "try:\n",
    "    client = MongoClient(host = 'mongodb://localhost:27017/', serverSelectionTimeoutMS = 2000)\n",
    "    client.server_info()\n",
    "    print(\"connection success\")\n",
    "except:\n",
    "    print(\"connection error\")\n",
    "    \n",
    "print(time.time() - start)"
   ]
  },
  {
   "cell_type": "code",
   "execution_count": 21,
   "metadata": {},
   "outputs": [
    {
     "name": "stdout",
     "output_type": "stream",
     "text": [
      "collection movies added\n"
     ]
    }
   ],
   "source": [
    "try:\n",
    "    db = client.metflix\n",
    "    col = db[\"movies\"]\n",
    "    print(\"collection movies added\")\n",
    "except:\n",
    "    print(\"Get MongoDB database and collection ERROR:\")"
   ]
  },
  {
   "cell_type": "code",
   "execution_count": 25,
   "metadata": {},
   "outputs": [
    {
     "data": {
      "text/plain": [
       "<pymongo.results.InsertManyResult at 0x2d0a58aebc0>"
      ]
     },
     "execution_count": 25,
     "metadata": {},
     "output_type": "execute_result"
    }
   ],
   "source": [
    "# Q : Supp la dernière collection, la recréer en y insérant les documents suivants :\n",
    "\n",
    "movies.drop()\n",
    "\n",
    "list = [\n",
    "    {\"title\": \"Rocky\", \"year\": 1976, \"_id\": \"tt0075148\"},\n",
    "    {\"title\": \"Jaws\", \"year\": 1975, \"_id\": \"tt0073195\"},\n",
    "    {\"title\": \"Mad Max 2 : The Road Warrior\", \"year\": 1981, \"_id\": \"tt0082694\"},\n",
    "    {\"title\": \"Raiders of the Lost Ark\", \"year\": 1981, \"_id\": \"tt0082971\"}\n",
    "]\n",
    "\n",
    "movies.insert_many(list)"
   ]
  },
  {
   "cell_type": "code",
   "execution_count": 53,
   "metadata": {},
   "outputs": [
    {
     "name": "stdout",
     "output_type": "stream",
     "text": [
      "All movies\n",
      "{'_id': 'tt0075148', 'title': 'Rocky', 'year': 1976}\n",
      "{'_id': 'tt0073195', 'title': 'Jaws', 'year': 1975}\n",
      "{'_id': 'tt0082694', 'title': 'Mad Max 2 : The Road Warrior', 'year': 1981}\n",
      "{'_id': 'tt0082971', 'title': 'Raiders of the Lost Ark', 'year': 1981}\n",
      "First movie\n",
      "{'_id': 'tt0075148', 'title': 'Rocky', 'year': 1976}\n",
      "1981's movies\n",
      "{'_id': 'tt0082694', 'title': 'Mad Max 2 : The Road Warrior', 'year': 1981}\n",
      "{'_id': 'tt0082971', 'title': 'Raiders of the Lost Ark', 'year': 1981}\n",
      "Jaws movie\n",
      "{'_id': 'tt0073195', 'title': 'Jaws', 'year': 1975}\n"
     ]
    }
   ],
   "source": [
    "# Q : Afficher ts les documents de la collection movies, le tout 1è document, le(s) document(s) où on trouve les films produits en 1981, le document où on trouve le film qui porte le titre \"Jaws\" ?\n",
    "\n",
    "# Afficher tous les films de movies\n",
    "print(\"All movies\")\n",
    "for item in movies.find(): \n",
    "    print(item)\n",
    "\n",
    "# Afficher le 1er film\n",
    "print(\"First movie\")\n",
    "print(movies.find_one())\n",
    "\n",
    "# Afficher les films produit en 1981\n",
    "print(\"1981's movies\")\n",
    "requestYear = {\"year\": 1981}\n",
    "for item in movies.find(requestYear):\n",
    "    print(item)\n",
    "\n",
    "# Afficher le film avec le titre Jaws\n",
    "print(\"Jaws movie\")\n",
    "requestTitle = { \"title\": \"Jaws\"}\n",
    "print(movies.find_one(requestTitle))"
   ]
  },
  {
   "cell_type": "code",
   "execution_count": 6,
   "metadata": {},
   "outputs": [
    {
     "name": "stdout",
     "output_type": "stream",
     "text": [
      "206\n",
      "88\n"
     ]
    },
    {
     "name": "stderr",
     "output_type": "stream",
     "text": [
      "<ipython-input-6-e3be92e60faa>:26: DeprecationWarning: count is deprecated. Use estimated_document_count or count_documents instead. Please note that $where must be replaced by $expr, $near must be replaced by $geoWithin with $center, and $nearSphere must be replaced by $geoWithin with $centerSphere\n",
      "  print(colArtist.count())\n",
      "<ipython-input-6-e3be92e60faa>:27: DeprecationWarning: count is deprecated. Use estimated_document_count or count_documents instead. Please note that $where must be replaced by $expr, $near must be replaced by $geoWithin with $center, and $nearSphere must be replaced by $geoWithin with $centerSphere\n",
      "  print(colMovies.count())\n"
     ]
    }
   ],
   "source": [
    "# Q : Créer une DB movies_artists avec deux collections : une pour les films et l’autre pour les artistes (voir les fichiers artists.json et movies.json associés) ?\n",
    "\n",
    "# L'import s'est fait sur cmd car sur la documentation ils précisent que mongoimport n'est pas compris dans pymongo\n",
    "\n",
    "# C:\\Program Files\\MongoDB\\Server\\4.4\\bin>mongoimport -d movies_artists -c movies --file movies.json --jsonArray\n",
    "# 2021-01-12T15:44:15.661+0100    connected to: mongodb://localhost/\n",
    "# 2021-01-12T15:44:15.708+0100    85 document(s) imported successfully. 0 document(s) failed to import.\n",
    "\n",
    "# C:\\Program Files\\MongoDB\\Server\\4.4\\bin>mongoimport -d movies_artists -c artists --file artists.json --jsonArray\n",
    "# 2021-01-12T15:47:42.739+0100    connected to: mongodb://localhost/\n",
    "# 2021-01-12T15:47:42.789+0100    179 document(s) imported successfully. 0 document(s) failed to import.\n",
    "\n",
    "# C:\\Program Files\\MongoDB\\Server\\4.4\\bin>mongoimport -d movies_artists -c movies --mode insert --file movies_suite.json --jsonArray\n",
    "# 2021-01-12T16:01:43.873+0100    connected to: mongodb://localhost/\n",
    "# 2021-01-12T16:01:43.909+0100    3 document(s) imported successfully. 0 document(s) failed to import.\n",
    "\n",
    "# C:\\Program Files\\MongoDB\\Server\\4.4\\bin>mongoimport -d movies_artists -c artists --type csv --headerline --file artists_suite.csv\n",
    "# 2021-01-12T16:15:43.646+0100    connected to: mongodb://localhost/\n",
    "# 2021-01-12T16:15:43.677+0100    27 document(s) imported successfully. 0 document(s) failed to import.\n",
    "        \n",
    "client = MongoClient('mongodb://localhost:27017/')\n",
    "dbMA = client.movies_artists\n",
    "colArtist = dbMA.artists\n",
    "colMovies = dbMA.movies\n",
    "\n",
    "print(colArtist.count())\n",
    "print(colMovies.count())\n",
    "\n",
    "# Les import ont fonctionnés suite à l'installation de mongoimport\n",
    "\n",
    "# Q : Qu'est-ce q'un upsert et cmnt faire upsert à l'aide d'un fichier json ?\n",
    "\n",
    "# Le upsert permet de remplacer les documents présents dans la collection par ceux présents dans le import"
   ]
  },
  {
   "cell_type": "code",
   "execution_count": 7,
   "metadata": {},
   "outputs": [
    {
     "name": "stdout",
     "output_type": "stream",
     "text": [
      "{'_id': 'movie:15', 'title': 'Twelve Monkeys', 'year': 1995, 'genre': 'Science-fiction', 'summary': None, 'country': 'USA', 'director': {'_id': 'artist:33'}, 'actors': [{'_id': 'artist:27', 'role': 'Cole'}]}\n",
      "{'_id': 'movie:14', 'title': 'Seven', 'year': 1995, 'genre': 'crime', 'summary': \"A New York, un criminel anonyme a décidé de commettre 7 meurtres basés sur les 7 pêchés capitaux énoncés dans la Bible : gourmandise, avarice, paresse, orgueil, luxure, envie et colère. Vieux flic blasé à 7 jours de la retraite, l'inspecteur Somerset mène l'enquête tout en formant son remplaçant, l'ambitieux inspecteur David Mills... \", 'country': 'USA', 'director': {'_id': 'artist:31'}, 'actors': [{'_id': 'artist:18', 'role': 'Doe'}, {'_id': 'artist:22', 'role': 'Somerset'}, {'_id': 'artist:32', 'role': 'Mills'}]}\n",
      "{'_id': 'movie:16', 'title': 'Le last_name de la rose', 'year': 1986, 'genre': 'crime', 'summary': \"En l'an 1327, dans une abbaye bénédictine, le moine franciscain Guillaume de Baskerville, accompagné de son jeune novice Adso, enquête sur de mystérieuses morts qui frappent la confrérie. Le secret semble résider dans la bibliothèque, où le vieux Jorge garde jalousement un livre jugé maudit. \", 'country': 'FR', 'director': {'_id': 'artist:34'}, 'actors': [{'_id': 'artist:35', 'role': 'Baskerville'}, {'_id': 'artist:36', 'role': 'de Melk'}]}\n",
      "{'_id': 'movie:2', 'title': 'Alien', 'year': 1979, 'genre': 'Science-fiction', 'summary': 'Près d\\'un vaisseau spatial échoué sur une lointaine planète, des Terriens en mission découvrent de bien étranges \"oeufs\". Ils en ramènent un à bord, ignorant qu\\'ils viennent d\\'introduire parmi eux un huitième passager particulièrement féroce et meurtrier. ', 'country': 'USA', 'director': {'_id': 'artist:4'}, 'actors': [{'_id': 'artist:5', 'role': 'Ripley'}]}\n",
      "{'_id': 'movie:18', 'title': 'Mary à tout prix', 'year': 1998, 'genre': 'Comédie', 'summary': \"Pour retrouver l'amour de sa jeunesse, la belle Mary, Ted-le-looser engage Pat Healy, un privé. Subjugé par la jeune femme, ce dernier tente de la séduire en se faisant passer pour un architecte. Il cache la vérité à Ted et fait cause commune avec Tucker, un autre prétendant, pour se débarrasser de l'encombrant Ted... \", 'country': 'USA', 'director': {'_id': 'artist:41'}, 'actors': [{'_id': 'artist:42', 'role': 'Mary Jensen Matthews'}, {'_id': 'artist:43', 'role': 'Pat Healy'}]}\n",
      "{'_id': 'movie:17', 'title': 'Pulp fiction', 'year': 1994, 'genre': 'Action', 'summary': \"Pulp Fiction décrit l'odyssée sanglante et burlesque de petits malfrats dans la jungle de Hollywood, ou s'entrecroisent les destins de deux petits tueurs, d'un dangereux gangster marié à une camée, d'un boxeur roublard, de prêteurs sur gages sadiques, d'un caïd élégant et dévoué, d'un dealer bon mari et de deux tourtereaux à la gachette facile... \", 'country': 'USA', 'director': {'_id': 'artist:37'}, 'actors': [{'_id': 'artist:11', 'role': 'Vincent Vega'}, {'_id': 'artist:27', 'role': 'Butch Coolidge'}, {'_id': 'artist:37', 'role': 'Jimmy Dimmick'}, {'_id': 'artist:38', 'role': 'Jules Winnfield'}, {'_id': 'artist:39', 'role': 'Jody'}, {'_id': 'artist:40', 'role': 'Mia Wallace'}, {'_id': 'artist:97', 'role': 'Capt. Koons'}, {'_id': 'artist:98', 'role': 'Winston \"The Wolf\" Wolfe'}, {'_id': 'artist:99', 'role': 'Pumpkin (Ringo)'}]}\n",
      "{'_id': 'movie:21', 'title': 'Le silence des agneaux', 'year': 1990, 'genre': 'crime', 'summary': \"Afin de retrouver la piste d'un tueur surlast_namemé Buffalo Bill car il scalpe les femmes qu'il assassine, la jeune stagiaire du FBI Clarice Starling est dépêchée auprès d'Hannibal Lecter, prisonnier pour avoir dévoré ses victimes. La coopération de ce dernier devrait permettre à Clarice de saisir et d'anticiper le comportement de Buffalo... \", 'country': 'USA', 'director': {'_id': 'artist:49'}, 'actors': [{'_id': 'artist:50', 'role': 'Dr. Hannibal Lecter'}, {'_id': 'artist:51', 'role': 'Clarice Starling'}]}\n",
      "{'_id': 'movie:20', 'title': 'Les dents de la mer', 'year': 1975, 'genre': 'Horreur', 'summary': \"Dans la station balnéaire d'Amityville, un requin géant frappe à plusieurs reprises. Soucieux d'une bonne saison touristique, le maire interdit au sherif Brody de fermer les plages. Une prime est offerte et le célèbre chasseur de requin Quint se lance avec Brody et l'ichtyologue Hooper à la poursuite du monstre... \", 'country': 'FR', 'director': {'_id': 'artist:45'}, 'actors': [{'_id': 'artist:46', 'role': 'Martin Brody'}, {'_id': 'artist:47', 'role': 'Quint'}, {'_id': 'artist:48', 'role': 'Matt Hooper'}]}\n",
      "{'_id': 'movie:22', 'title': 'Godzilla', 'year': 1998, 'genre': 'Action', 'summary': \"Issu des radiations atomiques engendrées par les essais nucléaires en Polynésie, un monstre gigantesque, aussi haut qu'un building, se dirige vers New York, semant le chaos sur son passage. Pour tenter de stopper cette créature destructrice, l'armée s'associe à une équipe de scientifiques américains et à un énigmatique enquêteur français... \", 'country': 'USA', 'director': {'_id': 'artist:58'}, 'actors': [{'_id': 'artist:59', 'role': 'Dr. Nikos Tatopoulos'}, {'_id': 'artist:60', 'role': 'Philippe Roaché'}]}\n",
      "{'_id': 'movie:23', 'title': 'Matrix', 'year': 1999, 'genre': 'Science-fiction', 'summary': \"Dans un monde où tout ce qui semble réel est en fait élaboré par l'univers électronique baptisé la Matrice, Néo, un programmeur, est contacté par un certain Morpheus. D'après lui, Néo serait le Libérateur tant attendu, le seul capable de mettre en échec l'omnipotence de la Matrice et rendre ses droits à la réalité... \", 'country': 'USA', 'director': {'_id': 'artist:61'}, 'actors': [{'_id': 'artist:62', 'role': 'Neo'}, {'_id': 'artist:63', 'role': 'Morpheus'}]}\n"
     ]
    }
   ],
   "source": [
    "# Q : Afficher les 12 documents (films) à partir du dixième inclus en se limitant aux title et _id ?\n",
    "    \n",
    "for movie in colMovies.find().skip(12).limit(10):\n",
    "    print(movie)"
   ]
  },
  {
   "cell_type": "code",
   "execution_count": 8,
   "metadata": {},
   "outputs": [
    {
     "name": "stdout",
     "output_type": "stream",
     "text": [
      "{'_id': 'movie:40', 'title': 'Fenêtre sur cour', 'year': 1954, 'genre': 'Suspense', 'summary': \"En repos forcé à cause d'une jambe plâtrée, le reporter L.B. Jefferies observe au téléobjectif les voisins de l'immeuble d'en face. C'est ainsi qu'il remarque le curieux manège d'un représentant de commerce, M. Thorwald, qu'il soupconne très vite d'avoir assassiné sa femme... \", 'country': 'USA', 'director': {'_id': 'artist:3'}, 'actors': []}\n",
      "{'_id': 'movie:9', 'title': 'Gladiator', 'year': 2000, 'genre': 'drama', 'summary': \"Le général romain Maximus est le plus fidèle                    soutien de l'empereur Marc Aurèle, qu'il a                    conduit de victoire en victoire avec une                    bravoure et un dévouement exemplaires.                    Jaloux du prestige de Maximus, et plus                    encore de l'amour que lui voue l'empereur,                    le fils de Marc-Aurèle, Commode, s'arroge                    brutalement le pouvoir, puis ordonne                    l'arrestation du général et son exécution.                    Maximus échappe à ses assassins mais ne peut                    empêcher le massacre de sa famille. Capturé                    par un marchand d'esclaves, il devient                    gladiateur et prépare sa vengeance.\", 'country': 'USA', 'director': {'_id': 'artist:4'}, 'actors': [{'_id': 'artist:23', 'role': 'Maximus'}, {'_id': 'artist:147', 'role': 'Commode'}, {'_id': 'artist:148', 'role': 'Lucilla'}, {'_id': 'artist:149', 'role': 'Marc Aurele'}]}\n",
      "{'_id': 'movie:22', 'title': 'Godzilla', 'year': 1998, 'genre': 'Action', 'summary': \"Issu des radiations atomiques engendrées par les essais nucléaires en Polynésie, un monstre gigantesque, aussi haut qu'un building, se dirige vers New York, semant le chaos sur son passage. Pour tenter de stopper cette créature destructrice, l'armée s'associe à une équipe de scientifiques américains et à un énigmatique enquêteur français... \", 'country': 'USA', 'director': {'_id': 'artist:58'}, 'actors': [{'_id': 'artist:59', 'role': 'Dr. Nikos Tatopoulos'}, {'_id': 'artist:60', 'role': 'Philippe Roaché'}]}\n",
      "{'_id': 'movie:69', 'title': 'Heat', 'year': 1995, 'genre': 'crime', 'summary': 'La bande de Neil McCauley à laquelle est venu se greffer Waingro, une nouvelle recrue, attaque un fourgon blindé pour s\\'emparer d\\'une somme importante en obligations. Cependant, ce dernier tue froidement l\\'un des convoyeurs et Chris Shiherlis se retrouve obligé de \"terminer le travail\". Neil tente d\\'éliminer Waingro, mais celui-ci parvient à s\\'échapper. Parallèlement, le lieutenant Vincent Hanna mène l\\'enquête...', 'country': 'USA', 'director': {'_id': 'artist:175'}, 'actors': [{'_id': 'artist:167', 'role': None}]}\n",
      "{'_id': 'movie:8', 'title': 'Impitoyable', 'year': 1992, 'genre': 'Western', 'summary': \"Légendaire hors-la-loi, William Munny s'est reconverti depuis onze ans en paisible fermier. Il reprend néanmoins les armes pour traquer deux tueurs en compagnie de son vieil ami Ned Logan. Mais ce dernier est capturé, puis éxécute. L'honneur et l'amitié imposent dès lors à Munny de redevenir une dernière fois le héros qu'il fut jadis... \", 'country': 'USA', 'director': {'_id': 'artist:20'}, 'actors': [{'_id': 'artist:20', 'role': 'William Munny'}, {'_id': 'artist:21', 'role': 'Little Bill Dagget'}, {'_id': 'artist:22', 'role': 'Ned Logan'}]}\n",
      "{'_id': 'movie:86', 'title': 'Inception', 'year': 2010, 'genre': 'Science-fiction', 'summary': 'Dom Cobb est un voleur expérimenté – le meilleur qui soit dans l’art périlleux de l’extraction : sa spécialité consiste à s’approprier les secrets les plus précieux d’un individu, enfouis au plus profond de son subconscient, pendant qu’il rêve et que son esprit est particulièrement vulnérable. Très recherché pour ses talents dans l’univers trouble de l’espionnage industriel, Cobb est aussi devenu un fugitif traqué dans le monde entier qui a perdu tout ce qui lui est cher. Mais une ultime mission pourrait lui permettre de retrouver sa vie d’avant – à condition qu’il puisse accomplir l’impossible : l’inception. Au lieu de subtiliser un rêve, Cobb et son équipe doivent faire l’inverse : implanter une idée dans l’esprit d’un individu. S’ils y parviennent, il pourrait s’agir du crime parfait. Et pourtant, aussi méthodiques et doués soient-ils, rien n’aurait pu préparer Cobb et ses partenaires à un ennemi redoutable qui semble avoir systématiquement un coup d’avance sur eux. Un ennemi dont seul Cobb aurait pu soupçonner l’existence. ', 'country': 'USA', 'director': {'_id': 'artist:266'}, 'actors': [{'_id': 'artist:110', 'role': 'Cobb'}, {'_id': 'artist:269', 'role': 'Miles'}, {'_id': 'artist:270', 'role': 'Ariadne'}, {'_id': 'artist:271', 'role': 'Mal'}]}\n",
      "{'_id': 'movie:80', 'title': 'Inglourious Basterds', 'year': 2009, 'genre': 'Guerre', 'summary': 'Dans la France occupée de 1940, Shosanna Dreyfus assiste à l\\'exécution de sa famille tombée entre les mains du colonel nazi Hans Landa. Shosanna s\\'échappe de justesse et s\\'enfuit à Paris où elle se construit une nouvelle identité en devenant exploitante d\\'une salle de cinéma.Quelque part ailleurs en Europe, le lieutenant Aldo Raine forme un groupe de soldats juifs américains pour mener des actions punitives particulièrement sanglantes contre les nazis. \"Les bâtards\", last_name sous lequel leurs ennemis vont apprendre à les connaître, se joignent à l\\'actrice allemande et agent secret Bridget von Hammersmark pour tenter d\\'éliminer les hauts dignitaires du Troisième Reich. Leurs destins vont se jouer à l\\'entrée du cinéma où Shosanna est décidée à mettre à exécution une vengeance très personnelle... ', 'country': 'USA', 'director': {'_id': 'artist:37'}, 'actors': [{'_id': 'artist:32', 'role': 'Lt. Aldo Raine'}, {'_id': 'artist:256', 'role': 'Col. Hans Landa'}, {'_id': 'artist:257', 'role': 'Shoshana'}, {'_id': 'artist:258', 'role': 'Lt. Archie Hicox'}]}\n",
      "{'_id': 'movie:79', 'title': 'Inglourious Basterds', 'year': 209, 'genre': 'Guerre', 'summary': 'Dans la France occupée de 1940, Shosanna Dreyfus assiste à l\\'exécution de sa famille tombée entre les mains du colonel nazi Hans Landa. Shosanna s\\'échappe de justesse et s\\'enfuit à Paris où elle se construit une nouvelle identité en devenant exploitante d\\'une salle de cinéma.Quelque part ailleurs en Europe, le lieutenant Aldo Raine forme un groupe de soldats juifs américains pour mener des actions punitives particulièrement sanglantes contre les nazis. \"Les bâtards\", last_name sous lequel leurs ennemis vont apprendre à les connaître, se joignent à l\\'actrice allemande et agent secret Bridget von Hammersmark pour tenter d\\'éliminer les hauts dignitaires du Troisième Reich. Leurs destins vont se jouer à l\\'entrée du cinéma où Shosanna est décidée à mettre à exécution une vengeance très personnelle... ', 'country': 'USA', 'director': {'_id': 'artist:37'}, 'actors': []}\n",
      "{'_id': 'movie:85', 'title': 'Interstellar', 'year': 2014, 'genre': 'Science-fiction', 'summary': 'Le film raconte les aventures d’un groupe d’explorateurs qui utilisent une faille récemment découverte dans l’espace-temps afin de repousser les limites humaines et partir à la conquête des distances astrolast_nameiques dans un voyage interstellaire.', 'country': 'USA', 'director': {'_id': 'artist:266'}, 'actors': [{'_id': 'artist:267', 'role': 'Cooper'}, {'_id': 'artist:268', 'role': '   Brand '}, {'_id': 'artist:269', 'role': 'Professor Brand'}]}\n",
      "{'_id': 'movie:57', 'title': 'Jackie Brown', 'year': 1997, 'genre': 'crime', 'summary': \"Jackie Brown, hôtesse de l'air, arrondit ses fins de mois en convoyant de l'argent liquide pour le compte d'un trafiquant d'armes, Ordell Robbie. Un jour, un agent federal et un policier de Los Angeles la cueillent à l'aéroport. Ils comptent sur elle pour faire tomber le trafiquant. Jackie échafaude alors un plan audacieux pour doubler tout le monde lors d'un prochain transfert qui porte sur la modeste somme de cinq cent mille dollars. Mais il lui faudra compter avec les complices d'Ordell, qui ont des méthodes plutôt expéditives.\", 'country': 'USA', 'director': {'_id': 'artist:37'}, 'actors': [{'_id': 'artist:167', 'role': 'Luis Gara'}, {'_id': 'artist:168', 'role': 'Jackie Brown'}, {'_id': 'artist:169', 'role': 'Melanie'}, {'_id': 'artist:170', 'role': 'Ray Nicolette'}, {'_id': 'artist:212', 'role': 'Ordell Robbie'}]}\n"
     ]
    }
   ],
   "source": [
    "# Q : Trier les documents (de la dernière qry) sur le titre du film ds un ordre croissant (ensuite décroissant) ?\n",
    "\n",
    "for movie in colMovies.find().sort(\"title\").skip(12).limit(10):\n",
    "    print(movie)"
   ]
  },
  {
   "cell_type": "code",
   "execution_count": 9,
   "metadata": {},
   "outputs": [
    {
     "name": "stdout",
     "output_type": "stream",
     "text": [
      "{'title': 'Alien', 'genre': 'Science-fiction', 'summary': 'Près d\\'un vaisseau spatial échoué sur une lointaine planète, des Terriens en mission découvrent de bien étranges \"oeufs\". Ils en ramènent un à bord, ignorant qu\\'ils viennent d\\'introduire parmi eux un huitième passager particulièrement féroce et meurtrier. '}\n"
     ]
    }
   ],
   "source": [
    "# Q : Afficher les infos du film dont l'id est 2 ? Se limiter aux infos relatives au titre, au genre et au summary ?\n",
    "\n",
    "print(colMovies.find_one({\"_id\": \"movie:2\"}, {\"_id\": 0, \"year\": 0, \"country\": 0, \"director\": 0, \"actors\": 0}))"
   ]
  },
  {
   "cell_type": "code",
   "execution_count": 12,
   "metadata": {},
   "outputs": [
    {
     "name": "stdout",
     "output_type": "stream",
     "text": [
      "Films sortis en 1979: \n",
      "2\n",
      "{'title': 'Les bronzés font du ski', 'year': 1979, 'genre': 'Comédie', 'actors': [{'_id': 'artist:75', 'role': 'Nathalie Morin'}, {'_id': 'artist:76', 'role': 'Christiane'}, {'_id': 'artist:84', 'role': 'Jean-Claude Dus'}, {'_id': 'artist:85', 'role': 'Jérôme'}, {'_id': 'artist:86', 'role': 'Popeye'}]}\n",
      "{'title': 'Alien', 'year': 1979, 'genre': 'Science-fiction', 'actors': [{'_id': 'artist:5', 'role': 'Ripley'}]}\n"
     ]
    },
    {
     "name": "stderr",
     "output_type": "stream",
     "text": [
      "<ipython-input-12-6542a84c5647>:5: DeprecationWarning: count is deprecated. Use Collection.count_documents instead.\n",
      "  print(request.count())\n"
     ]
    }
   ],
   "source": [
    "# Q : Combien de films ont été produit en en 1979 et les afficher en se limitant aux infos relatives au titre, à l'année et à la liste des acteurs suivant un ordre alphabétique décroissant sur le titre.\n",
    "\n",
    "print(\"Films sortis en 1979: \")\n",
    "request = colMovies.find({\"year\": 1979}, {\"_id\": 0, \"summary\": 0, \"country\": 0, \"director\": 0})\n",
    "print(request.count())\n",
    "for item in request.sort(\"title\", -1):\n",
    "    print(item)"
   ]
  },
  {
   "cell_type": "code",
   "execution_count": 14,
   "metadata": {},
   "outputs": [
    {
     "name": "stdout",
     "output_type": "stream",
     "text": [
      "Info du film du genre SF et de 1979: \n",
      "{'_id': 'movie:2', 'title': 'Alien', 'year': 1979, 'genre': 'Science-fiction', 'summary': 'Près d\\'un vaisseau spatial échoué sur une lointaine planète, des Terriens en mission découvrent de bien étranges \"oeufs\". Ils en ramènent un à bord, ignorant qu\\'ils viennent d\\'introduire parmi eux un huitième passager particulièrement féroce et meurtrier. ', 'country': 'USA', 'director': {'_id': 'artist:4'}, 'actors': [{'_id': 'artist:5', 'role': 'Ripley'}]}\n"
     ]
    }
   ],
   "source": [
    "# Q : Afficher les infos sur le film dont le genre est \"Science-fiction\" et produit en 1979 sans préciser l'_id et le summary ?\n",
    "\n",
    "print(\"Info du film du genre SF et de 1979: \")\n",
    "request = colMovies.find_one({\"genre\": \"Science-fiction\", \"year\": 1979})\n",
    "print(request)"
   ]
  },
  {
   "cell_type": "code",
   "execution_count": 7,
   "metadata": {},
   "outputs": [
    {
     "data": {
      "text/plain": [
       "{'_id': 'movie:2',\n",
       " 'title': 'Alien',\n",
       " 'year': 1979,\n",
       " 'genre': 'Science-fiction',\n",
       " 'summary': 'Près d\\'un vaisseau spatial échoué sur une lointaine planète, des Terriens en mission découvrent de bien étranges \"oeufs\". Ils en ramènent un à bord, ignorant qu\\'ils viennent d\\'introduire parmi eux un huitième passager particulièrement féroce et meurtrier. ',\n",
       " 'country': 'USA',\n",
       " 'director': {'_id': 'artist:4'},\n",
       " 'actors': [{'_id': 'artist:5', 'role': 'Ripley'}]}"
      ]
     },
     "execution_count": 7,
     "metadata": {},
     "output_type": "execute_result"
    }
   ],
   "source": [
    "#Q : Corriger ces Qry ?\n",
    "\n",
    "# db.movies.find({\"titre\": \"Alien\"})\n",
    "# db.movies.find({\"title\": \"alien\"})\n",
    "\n",
    "# Correction:\n",
    "# Ma variable db est dbMA\n",
    "dbMA.movies.find_one({\"title\": \"Alien\"})"
   ]
  },
  {
   "cell_type": "code",
   "execution_count": 31,
   "metadata": {},
   "outputs": [
    {
     "name": "stdout",
     "output_type": "stream",
     "text": [
      "Nombre de film réalisé par director 4:\n",
      "3\n",
      "{'_id': 'movie:9', 'title': 'Gladiator', 'year': 2000, 'director': {'_id': 'artist:4'}, 'actors': [{'_id': 'artist:23', 'role': 'Maximus'}, {'_id': 'artist:147', 'role': 'Commode'}, {'_id': 'artist:148', 'role': 'Lucilla'}, {'_id': 'artist:149', 'role': 'Marc Aurele'}]}\n",
      "{'_id': 'movie:10', 'title': 'Blade Runner', 'year': 1982, 'director': {'_id': 'artist:4'}, 'actors': [{'_id': 'artist:24', 'role': 'Deckard'}, {'_id': 'artist:25', 'role': 'Batty'}]}\n",
      "{'_id': 'movie:2', 'title': 'Alien', 'year': 1979, 'director': {'_id': 'artist:4'}, 'actors': [{'_id': 'artist:5', 'role': 'Ripley'}]}\n"
     ]
    },
    {
     "name": "stderr",
     "output_type": "stream",
     "text": [
      "<ipython-input-31-fb03c062cffa>:3: DeprecationWarning: count is deprecated. Use Collection.count_documents instead.\n",
      "  print(request.count())\n"
     ]
    }
   ],
   "source": [
    "# Q : Combien de films produits par le director dont l'id est 4 et les afficher de plus récent au moins récent (sans le résumé ni le country ni le genre) ?\n",
    "\n",
    "print(\"Nombre de film réalisé par director 4:\")\n",
    "request = colMovies.find({\"director\":  {\"_id\": \"artist:4\"}}, {\"genre\": 0, \"country\": 0, \"summary\": 0})\n",
    "print(request.count())\n",
    "for movie in request.sort(\"year\", -1):\n",
    "    print(movie)"
   ]
  },
  {
   "cell_type": "code",
   "execution_count": 23,
   "metadata": {},
   "outputs": [
    {
     "name": "stdout",
     "output_type": "stream",
     "text": [
      "Nombre de film réalisé par director 4 et acteur de Maximus:\n",
      "1\n",
      "{'_id': 'movie:9', 'title': 'Gladiator', 'year': 2000, 'director': {'_id': 'artist:4'}, 'actors': [{'_id': 'artist:23', 'role': 'Maximus'}, {'_id': 'artist:147', 'role': 'Commode'}, {'_id': 'artist:148', 'role': 'Lucilla'}, {'_id': 'artist:149', 'role': 'Marc Aurele'}]}\n"
     ]
    },
    {
     "name": "stderr",
     "output_type": "stream",
     "text": [
      "<ipython-input-23-bf89089e1980>:5: DeprecationWarning: count is deprecated. Use Collection.count_documents instead.\n",
      "  print(request.count())\n"
     ]
    }
   ],
   "source": [
    "# Q : Combien de films produits par le director qui porte l'id 4 et dont l'un des acteurs a joué le rôle de Maximus et les afficher sans le résumé ni le country ni le genre ?\n",
    "\n",
    "print(\"Nombre de film réalisé par director 4 et acteur de Maximus:\")\n",
    "request = colMovies.find({\"director\":  {\"_id\": \"artist:4\"}, \"actors.role\": {\"$eq\": \"Maximus\"}}, {\"genre\": 0, \"country\": 0, \"summary\": 0})\n",
    "print(request.count())\n",
    "for movie in request:\n",
    "    print(movie)"
   ]
  },
  {
   "cell_type": "code",
   "execution_count": 35,
   "metadata": {},
   "outputs": [
    {
     "name": "stdout",
     "output_type": "stream",
     "text": [
      "Avec variables:\n",
      "{'_id': 'movie:9', 'title': 'Gladiator', 'year': 2000, 'director': {'_id': 'artist:4'}, 'actors': [{'_id': 'artist:23', 'role': 'Maximus'}, {'_id': 'artist:147', 'role': 'Commode'}, {'_id': 'artist:148', 'role': 'Lucilla'}, {'_id': 'artist:149', 'role': 'Marc Aurele'}]}\n"
     ]
    }
   ],
   "source": [
    "# Q : Ecrire la dernière Qry en déclarant des variables ?\n",
    "\n",
    "print(\"Avec variables:\")\n",
    "director = \"artist:4\"\n",
    "role = \"Maximus\"\n",
    "request = colMovies.find({\"director\": {\"_id\": director}, \"actors.role\": {\"$eq\": role}}, {\"genre\": 0, \"country\": 0, \"summary\": 0})\n",
    "for movie in request:\n",
    "    print(movie)\n",
    "    \n",
    "#Pas finie"
   ]
  },
  {
   "cell_type": "code",
   "execution_count": 46,
   "metadata": {},
   "outputs": [
    {
     "name": "stdout",
     "output_type": "stream",
     "text": [
      "Entre 2000 et 2005(non inclus):\n",
      "{'title': 'Gladiator', 'year': 2000}\n",
      "{'title': 'Memento', 'year': 2000}\n",
      "{'title': 'Stalingrad', 'year': 2001}\n",
      "{'title': 'Spider-Man', 'year': 2002}\n",
      "{'title': 'The Matrix reloaded', 'year': 2003}\n",
      "{'title': 'The Matrix Revolutions', 'year': 2003}\n",
      "{'title': 'Lost in Translation', 'year': 2003}\n",
      "{'title': 'Kill Bill', 'year': 2003}\n"
     ]
    }
   ],
   "source": [
    "# Q : Ts les films produits après 2000 compris et avant 2005 exlus (dans un ordre chronologique) en se limitant au titre du film et son année de production ?\n",
    "\n",
    "print(\"Entre 2000 et 2005(non inclus):\")\n",
    "request = colMovies.find({\"year\": {\"$gte\": 2000, \"$lt\": 2005}}, {\"_id\": 0, \"genre\": 0, \"country\": 0, \"summary\": 0, \"director\": 0, \"actors\": 0})\n",
    "for movie in request.sort(\"year\", 1):\n",
    "    print(movie)"
   ]
  },
  {
   "cell_type": "code",
   "execution_count": 5,
   "metadata": {},
   "outputs": [
    {
     "name": "stdout",
     "output_type": "stream",
     "text": [
      "Films de 1997 ou avec l'artist 147:\n",
      "{'_id': 'movie:5', 'title': 'Volte/Face', 'year': 1997, 'genre': 'Action', 'summary': \"Directeur d'une unité anti-terroriste, Sean Archer recherche Castor Troy, un criminel responsable de la mort de son fils six ans plus tôt. Il parvient à l'arrêter mais apprend que Troy a caché une bombe au Palais des Congrès de Los Angeles. Seul le frère de Troy peut la désamorcer et, pour l'approcher, Archer se fait greffer le visage de Troy. \", 'country': 'USA', 'director': {'_id': 'artist:10'}, 'actors': [{'_id': 'artist:11', 'role': 'Sean Archer/Castor Troy'}, {'_id': 'artist:12', 'role': 'Castor Troy/Sean Archer'}]}\n",
      "{'_id': 'movie:9', 'title': 'Gladiator', 'year': 2000, 'genre': 'drama', 'summary': \"Le général romain Maximus est le plus fidèle                    soutien de l'empereur Marc Aurèle, qu'il a                    conduit de victoire en victoire avec une                    bravoure et un dévouement exemplaires.                    Jaloux du prestige de Maximus, et plus                    encore de l'amour que lui voue l'empereur,                    le fils de Marc-Aurèle, Commode, s'arroge                    brutalement le pouvoir, puis ordonne                    l'arrestation du général et son exécution.                    Maximus échappe à ses assassins mais ne peut                    empêcher le massacre de sa famille. Capturé                    par un marchand d'esclaves, il devient                    gladiateur et prépare sa vengeance.\", 'country': 'USA', 'director': {'_id': 'artist:4'}, 'actors': [{'_id': 'artist:23', 'role': 'Maximus'}, {'_id': 'artist:147', 'role': 'Commode'}, {'_id': 'artist:148', 'role': 'Lucilla'}, {'_id': 'artist:149', 'role': 'Marc Aurele'}]}\n",
      "{'_id': 'movie:3', 'title': 'Titanic', 'year': 1997, 'genre': 'drama', 'summary': \"Conduite par Brock Lovett, une expédition américaine fouillant l'épave du Titanic remonte à la surface le croquis d'une femme nue. Alertée par les médias la dame en question, Rose DeWitt Bukater, aujourd'hui centenaire, rejoint les lieux du naufrage, d'où elle entreprend de conter le récit de son fascinant, étrange et tragique voyage... \", 'country': 'USA', 'director': {'_id': 'artist:6'}, 'actors': [{'_id': 'artist:109', 'role': 'Rose DeWitt Bukater'}, {'_id': 'artist:110', 'role': 'Jack Dawson'}]}\n",
      "{'_id': 'movie:26', 'title': 'Les pleins pouvoirs', 'year': 1997, 'genre': 'crime', 'summary': \"Luther Whitney est l'as des cambrioleurs. Occupé à vider le coffre de l'influent Walter Sullivan, il est témoin d'un meurtre sadique impliquant le Président des Etats-Unis et les services secrets. Soupçonné par la police d'en être l'auteur, il se retrouve également traqué par les tueurs, qui ont compris qu'ils ont été observés.\", 'country': 'USA', 'director': {'_id': 'artist:20'}, 'actors': [{'_id': 'artist:20', 'role': 'Luther Whitney'}, {'_id': 'artist:21', 'role': 'Le président Richmond'}, {'_id': 'artist:69', 'role': 'Seth Frank'}]}\n",
      "{'_id': 'movie:28', 'title': 'Le monde perdu', 'year': 1997, 'genre': 'Horreur', 'summary': None, 'country': 'USA', 'director': {'_id': 'artist:45'}, 'actors': [{'_id': 'artist:57', 'role': 'Dr. Ian Malcolm'}]}\n",
      "{'_id': 'movie:43', 'title': 'Le cinquième élément', 'year': 1997, 'genre': 'Science-fiction', 'summary': \"Au XXIIIème siècle, dans un univers étrange et coloré, où tout espoir de survie est impossible sans la découverte du Cinquième Elément, un héros peu ordinaire affronte le mal pour sauver l'humanité. \", 'country': 'FR', 'director': {'_id': 'artist:111'}, 'actors': [{'_id': 'artist:27', 'role': 'Major Korben Dalla'}, {'_id': 'artist:112', 'role': 'Leeloo'}, {'_id': 'artist:116', 'role': 'Jean-Baptiste Emmanuel Zorg'}, {'_id': 'artist:117', 'role': 'Vito Cornelius'}]}\n",
      "{'_id': 'movie:57', 'title': 'Jackie Brown', 'year': 1997, 'genre': 'crime', 'summary': \"Jackie Brown, hôtesse de l'air, arrondit ses fins de mois en convoyant de l'argent liquide pour le compte d'un trafiquant d'armes, Ordell Robbie. Un jour, un agent federal et un policier de Los Angeles la cueillent à l'aéroport. Ils comptent sur elle pour faire tomber le trafiquant. Jackie échafaude alors un plan audacieux pour doubler tout le monde lors d'un prochain transfert qui porte sur la modeste somme de cinq cent mille dollars. Mais il lui faudra compter avec les complices d'Ordell, qui ont des méthodes plutôt expéditives.\", 'country': 'USA', 'director': {'_id': 'artist:37'}, 'actors': [{'_id': 'artist:167', 'role': 'Luis Gara'}, {'_id': 'artist:168', 'role': 'Jackie Brown'}, {'_id': 'artist:169', 'role': 'Melanie'}, {'_id': 'artist:170', 'role': 'Ray Nicolette'}, {'_id': 'artist:212', 'role': 'Ordell Robbie'}]}\n"
     ]
    }
   ],
   "source": [
    "# Q : Lister les films parus en 1997 ou avec l'acteur id = 147 ?\n",
    "\n",
    "print(\"Films de 1997 ou avec l'artist 147:\")\n",
    "request = colMovies.find({\"$or\": [{\"year\": 1997}, {\"actors._id\": \"artist:147\"}]})\n",
    "for movie in request:\n",
    "    print(movie)"
   ]
  },
  {
   "cell_type": "code",
   "execution_count": 8,
   "metadata": {},
   "outputs": [
    {
     "name": "stdout",
     "output_type": "stream",
     "text": [
      "Artistes 34, 98 et 1:\n",
      "{'title': 'Le parrain III', 'actors': [{'_id': 'artist:1', 'role': 'Mary Corleone'}, {'_id': 'artist:176', 'role': 'Michael Corleone'}, {'_id': 'artist:183', 'role': 'Kay Adams'}, {'_id': 'artist:186', 'role': 'Vincent Mancini'}]}\n",
      "{'title': 'Reservoir dogs', 'actors': [{'_id': 'artist:37', 'role': 'Mr. Brown'}, {'_id': 'artist:98', 'role': 'Mr. White/Larry'}, {'_id': 'artist:99', 'role': 'Freddy Newendyke/Mr. Orange'}, {'_id': 'artist:100', 'role': 'Nice Guy Eddie'}, {'_id': 'artist:215', 'role': 'Mr Blonde'}, {'_id': 'artist:217', 'role': 'Mr Pink'}, {'_id': 'artist:218', 'role': 'Mr Blue'}]}\n",
      "{'title': 'Bad Lieutenant', 'actors': [{'_id': 'artist:98', 'role': 'Le lieutenant'}]}\n",
      "{'title': 'Pulp fiction', 'actors': [{'_id': 'artist:11', 'role': 'Vincent Vega'}, {'_id': 'artist:27', 'role': 'Butch Coolidge'}, {'_id': 'artist:37', 'role': 'Jimmy Dimmick'}, {'_id': 'artist:38', 'role': 'Jules Winnfield'}, {'_id': 'artist:39', 'role': 'Jody'}, {'_id': 'artist:40', 'role': 'Mia Wallace'}, {'_id': 'artist:97', 'role': 'Capt. Koons'}, {'_id': 'artist:98', 'role': 'Winston \"The Wolf\" Wolfe'}, {'_id': 'artist:99', 'role': 'Pumpkin (Ringo)'}]}\n"
     ]
    }
   ],
   "source": [
    "# Q : Combien de films dans lesquels ont joué au moins un des artistes suivants : 34, 98 et 1 et afficher leur titre et la liste des actors ; sens du tri : chronologique et alphabétique croissant sur les noms des artistes ?\n",
    "\n",
    "print(\"Artistes 34, 98 et 1:\")\n",
    "request = colMovies.find({\"actors._id\": {\"$in\":[\"artist:34\", \"artist:98\", \"artist:1\"]}}, {\"_id\": 0, \"year\": 0, \"genre\": 0, \"country\": 0, \"summary\": 0, \"director\": 0})\n",
    "for movie in request.sort([(\"year\", 1), (\"actors\", 1)]):\n",
    "    print(movie)"
   ]
  },
  {
   "cell_type": "code",
   "execution_count": 10,
   "metadata": {},
   "outputs": [
    {
     "name": "stdout",
     "output_type": "stream",
     "text": [
      "Artistes ensemble sur un film 23 et 147:\n",
      "{'title': 'Gladiator', 'actors': [{'_id': 'artist:23', 'role': 'Maximus'}, {'_id': 'artist:147', 'role': 'Commode'}, {'_id': 'artist:148', 'role': 'Lucilla'}, {'_id': 'artist:149', 'role': 'Marc Aurele'}]}\n"
     ]
    }
   ],
   "source": [
    "# Q : Chercher les films dans lesquels ont joué ensemble les actors 23 et 147 ?\n",
    "\n",
    "print(\"Artistes ensemble sur un film 23 et 147:\")\n",
    "request = colMovies.find({\"actors._id\": {\"$all\":[\"artist:23\", \"artist:147\"]}}, {\"_id\": 0, \"year\": 0, \"genre\": 0, \"country\": 0, \"summary\": 0, \"director\": 0})\n",
    "for movie in request.sort([(\"year\", 1), (\"title\", 1)]):\n",
    "    print(movie)"
   ]
  },
  {
   "cell_type": "code",
   "execution_count": 11,
   "metadata": {},
   "outputs": [
    {
     "name": "stdout",
     "output_type": "stream",
     "text": [
      "Artistes ensemble sur un film 23 et 147:\n",
      "84\n",
      "{'title': 'Nous trois ou rien', 'actors': []}\n",
      "{'title': 'Interstellar', 'actors': [{'_id': 'artist:267', 'role': 'Cooper'}, {'_id': 'artist:268', 'role': '   Brand '}, {'_id': 'artist:269', 'role': 'Professor Brand'}]}\n",
      "{'title': 'Django unchained', 'actors': [{'_id': 'artist:110', 'role': 'Calvin Candie'}, {'_id': 'artist:212', 'role': 'Stephen'}, {'_id': 'artist:255', 'role': 'Django'}, {'_id': 'artist:256', 'role': 'Dr. King Schultz'}]}\n",
      "{'title': 'The Dark Knight Rises', 'actors': [{'_id': 'artist:22', 'role': 'Lucius Fox'}, {'_id': 'artist:116', 'role': 'Commissioner Gordon'}, {'_id': 'artist:268', 'role': 'Selina'}, {'_id': 'artist:269', 'role': 'Alfred'}, {'_id': 'artist:271', 'role': 'Miranda'}, {'_id': 'artist:274', 'role': 'Bruce Wayne / Batman'}]}\n",
      "{'title': 'Inception', 'actors': [{'_id': 'artist:110', 'role': 'Cobb'}, {'_id': 'artist:269', 'role': 'Miles'}, {'_id': 'artist:270', 'role': 'Ariadne'}, {'_id': 'artist:271', 'role': 'Mal'}]}\n",
      "{'title': 'Inglourious Basterds', 'actors': [{'_id': 'artist:32', 'role': 'Lt. Aldo Raine'}, {'_id': 'artist:256', 'role': 'Col. Hans Landa'}, {'_id': 'artist:257', 'role': 'Shoshana'}, {'_id': 'artist:258', 'role': 'Lt. Archie Hicox'}]}\n",
      "{'title': 'Un prophète', 'actors': [{'_id': 'artist:279', 'role': 'Malik El Djebena '}, {'_id': 'artist:280', 'role': 'César Luciani'}]}\n",
      "{'title': 'The Dark Knight', 'actors': [{'_id': 'artist:22', 'role': 'Lucius Fox'}, {'_id': 'artist:116', 'role': 'Gordon'}, {'_id': 'artist:269', 'role': 'Alfred'}, {'_id': 'artist:274', 'role': 'Bruce Wayne / Batman'}, {'_id': 'artist:276', 'role': 'Joker'}, {'_id': 'artist:277', 'role': 'Rachel'}]}\n",
      "{'title': 'No country for old men', 'actors': [{'_id': 'artist:250', 'role': 'Anton Chigurh'}, {'_id': 'artist:252', 'role': 'Ed Tom Bell'}, {'_id': 'artist:253', 'role': 'Llewelyn Moss'}]}\n",
      "{'title': 'Casino Royale', 'actors': [{'_id': 'artist:247', 'role': 'James Bond'}, {'_id': 'artist:248', 'role': 'Vesper Lynd'}]}\n",
      "{'title': 'Marie Antoinette', 'actors': [{'_id': 'artist:2', 'role': 'Marie Antoinette'}]}\n",
      "{'title': 'Batman begins', 'actors': [{'_id': 'artist:22', 'role': 'Lucius Fox '}, {'_id': 'artist:116', 'role': ' Jim Gordon '}, {'_id': 'artist:269', 'role': 'Alfred'}, {'_id': 'artist:274', 'role': ' Bruce Wayne / Batman '}, {'_id': 'artist:275', 'role': 'Ducard'}]}\n",
      "{'title': 'Million Dollar Baby', 'actors': [{'_id': 'artist:20', 'role': 'Frankie Dunn'}, {'_id': 'artist:22', 'role': 'Eddie Scrap-Iron Dupris'}, {'_id': 'artist:224', 'role': 'Maggie Fitzerald'}]}\n",
      "{'title': 'Kill Bill', 'actors': [{'_id': 'artist:40', 'role': 'La mariée, alias \"Black Mamba\"'}, {'_id': 'artist:213', 'role': 'O-Ren Ishii'}, {'_id': 'artist:214', 'role': 'Bill'}, {'_id': 'artist:215', 'role': 'Budd / Sidewinder'}, {'_id': 'artist:216', 'role': 'Elle Driver'}]}\n",
      "{'title': 'Lost in Translation', 'actors': [{'_id': 'artist:173', 'role': 'Bob Harris'}, {'_id': 'artist:174', 'role': 'Charlotte'}, {'_id': 'artist:175', 'role': 'John'}, {'_id': 'artist:176', 'role': 'Kelly'}, {'_id': 'artist:177', 'role': 'Patron Nightclub'}]}\n",
      "{'title': 'The Matrix Revolutions', 'actors': [{'_id': 'artist:62', 'role': 'Neo'}, {'_id': 'artist:63', 'role': 'Morpheus'}, {'_id': 'artist:134', 'role': 'Agent Smith'}, {'_id': 'artist:136', 'role': 'Trinity'}, {'_id': 'artist:137', 'role': \"L'Oracle\"}]}\n",
      "{'title': 'The Matrix reloaded', 'actors': [{'_id': 'artist:62', 'role': 'Neo'}, {'_id': 'artist:63', 'role': 'Morpheus'}, {'_id': 'artist:210', 'role': 'Trinity'}, {'_id': 'artist:211', 'role': 'Agent Smith'}]}\n",
      "{'title': 'Spider-Man', 'actors': [{'_id': 'artist:124', 'role': 'Spider-Man'}, {'_id': 'artist:125', 'role': 'Norman Osborn'}, {'_id': 'artist:126', 'role': 'Mary Jane Watson'}, {'_id': 'artist:127', 'role': 'Oncle Ben'}, {'_id': 'artist:128', 'role': 'Tante May'}]}\n",
      "{'title': 'Stalingrad', 'actors': [{'_id': 'artist:182', 'role': 'Vassili Zaïtzev'}, {'_id': 'artist:183', 'role': 'major König'}]}\n",
      "{'title': 'Gladiator', 'actors': [{'_id': 'artist:23', 'role': 'Maximus'}, {'_id': 'artist:147', 'role': 'Commode'}, {'_id': 'artist:148', 'role': 'Lucilla'}, {'_id': 'artist:149', 'role': 'Marc Aurele'}]}\n",
      "{'title': 'Memento', 'actors': [{'_id': 'artist:272', 'role': 'Leonard'}, {'_id': 'artist:273', 'role': 'Natalie'}]}\n",
      "{'title': 'American Beauty', 'actors': [{'_id': 'artist:18', 'role': 'Lester Burnham'}, {'_id': 'artist:19', 'role': 'Carolyn Burnham'}]}\n",
      "{'title': 'Eyes Wide Shut', 'actors': [{'_id': 'artist:65', 'role': 'Docteur William \"Bill\" Harford'}, {'_id': 'artist:102', 'role': 'Alice Harford'}]}\n",
      "{'title': \"Jeanne d'Arc\", 'actors': [{'_id': 'artist:80', 'role': None}, {'_id': 'artist:112', 'role': \"Jeanne d'Arc\"}, {'_id': 'artist:113', 'role': \"Yolande d'Aragon\"}, {'_id': 'artist:114', 'role': 'Charles VII'}, {'_id': 'artist:115', 'role': 'Dunois'}]}\n",
      "{'title': 'Matrix', 'actors': [{'_id': 'artist:62', 'role': 'Neo'}, {'_id': 'artist:63', 'role': 'Morpheus'}]}\n",
      "{'title': 'Sixième sens', 'actors': [{'_id': 'artist:27', 'role': 'Malcom Crowe'}, {'_id': 'artist:171', 'role': 'Cole Sear'}]}\n",
      "{'title': 'Sleepy Hollow', 'actors': [{'_id': 'artist:14', 'role': 'Constable Ichabod Crane'}, {'_id': 'artist:96', 'role': 'Katrina Anne Van Tassel'}, {'_id': 'artist:97', 'role': 'Le cavalier'}]}\n",
      "{'title': 'Godzilla', 'actors': [{'_id': 'artist:59', 'role': 'Dr. Nikos Tatopoulos'}, {'_id': 'artist:60', 'role': 'Philippe Roaché'}]}\n",
      "{'title': 'Mary à tout prix', 'actors': [{'_id': 'artist:42', 'role': 'Mary Jensen Matthews'}, {'_id': 'artist:43', 'role': 'Pat Healy'}]}\n",
      "{'title': 'Jackie Brown', 'actors': [{'_id': 'artist:167', 'role': 'Luis Gara'}, {'_id': 'artist:168', 'role': 'Jackie Brown'}, {'_id': 'artist:169', 'role': 'Melanie'}, {'_id': 'artist:170', 'role': 'Ray Nicolette'}, {'_id': 'artist:212', 'role': 'Ordell Robbie'}]}\n",
      "{'title': 'Le cinquième élément', 'actors': [{'_id': 'artist:27', 'role': 'Major Korben Dalla'}, {'_id': 'artist:112', 'role': 'Leeloo'}, {'_id': 'artist:116', 'role': 'Jean-Baptiste Emmanuel Zorg'}, {'_id': 'artist:117', 'role': 'Vito Cornelius'}]}\n",
      "{'title': 'Le monde perdu', 'actors': [{'_id': 'artist:57', 'role': 'Dr. Ian Malcolm'}]}\n",
      "{'title': 'Les pleins pouvoirs', 'actors': [{'_id': 'artist:20', 'role': 'Luther Whitney'}, {'_id': 'artist:21', 'role': 'Le président Richmond'}, {'_id': 'artist:69', 'role': 'Seth Frank'}]}\n",
      "{'title': 'Titanic', 'actors': [{'_id': 'artist:109', 'role': 'Rose DeWitt Bukater'}, {'_id': 'artist:110', 'role': 'Jack Dawson'}]}\n",
      "{'title': 'Volte/Face', 'actors': [{'_id': 'artist:11', 'role': 'Sean Archer/Castor Troy'}, {'_id': 'artist:12', 'role': 'Castor Troy/Sean Archer'}]}\n",
      "{'title': 'Fargo', 'actors': [{'_id': 'artist:217', 'role': 'Carl Showalter'}, {'_id': 'artist:254', 'role': ' Jerry Lundegaard '}]}\n",
      "{'title': 'Mission: Impossible', 'actors': [{'_id': 'artist:60', 'role': 'Franz Krieger'}, {'_id': 'artist:65', 'role': 'Ethan Hunt'}, {'_id': 'artist:66', 'role': 'Jim Phelps'}, {'_id': 'artist:67', 'role': 'Claire Phelps'}]}\n",
      "{'title': 'Casino', 'actors': [{'_id': 'artist:167', 'role': \"Sam 'Ace' Rothstein\"}, {'_id': 'artist:243', 'role': '  Nicky Santoro '}, {'_id': 'artist:245', 'role': 'Ginger McKenna'}]}\n",
      "{'title': 'Heat', 'actors': [{'_id': 'artist:167', 'role': None}]}\n",
      "{'title': 'Seven', 'actors': [{'_id': 'artist:18', 'role': 'Doe'}, {'_id': 'artist:22', 'role': 'Somerset'}, {'_id': 'artist:32', 'role': 'Mills'}]}\n",
      "{'title': 'Twelve Monkeys', 'actors': [{'_id': 'artist:27', 'role': 'Cole'}]}\n",
      "{'title': 'Une journée en enfer', 'actors': [{'_id': 'artist:27', 'role': 'McClane'}, {'_id': 'artist:38', 'role': 'Zeus Carver'}, {'_id': 'artist:169', 'role': 'Simon Gruber'}]}\n",
      "{'title': 'Usual suspects', 'actors': [{'_id': 'artist:18', 'role': 'Roger \"Verbal\" Kint'}, {'_id': 'artist:143', 'role': 'Micheal McManus'}, {'_id': 'artist:144', 'role': 'Dean Keaton'}, {'_id': 'artist:145', 'role': 'Fred Fenster'}, {'_id': 'artist:146', 'role': 'Todd Hockney'}]}\n",
      "{'title': 'Léon', 'actors': [{'_id': 'artist:60', 'role': 'Léon'}, {'_id': 'artist:116', 'role': 'Norman Stansfield'}, {'_id': 'artist:118', 'role': 'Mathilda'}]}\n",
      "{'title': 'Impitoyable', 'actors': [{'_id': 'artist:20', 'role': 'William Munny'}, {'_id': 'artist:21', 'role': 'Little Bill Dagget'}, {'_id': 'artist:22', 'role': 'Ned Logan'}]}\n",
      "{'title': '58 minutes pour vivre', 'actors': [{'_id': 'artist:27', 'role': 'McClane'}]}\n",
      "{'title': 'King of New York', 'actors': [{'_id': 'artist:63', 'role': 'Jimmy Jump'}, {'_id': 'artist:97', 'role': 'Frank White'}, {'_id': 'artist:124', 'role': 'Thomas Flanigan'}, {'_id': 'artist:131', 'role': 'Dennis Gilley'}, {'_id': 'artist:132', 'role': 'Thomas Flanigan'}, {'_id': 'artist:217', 'role': 'Test tube'}]}\n",
      "{'title': 'Le silence des agneaux', 'actors': [{'_id': 'artist:50', 'role': 'Dr. Hannibal Lecter'}, {'_id': 'artist:51', 'role': 'Clarice Starling'}]}\n",
      "{'title': 'Les affranchis', 'actors': [{'_id': 'artist:167', 'role': 'James Conway'}, {'_id': 'artist:242', 'role': 'Henry Hill'}, {'_id': 'artist:243', 'role': 'Tommy DeVito'}, {'_id': 'artist:244', 'role': 'Karen Hill'}]}\n",
      "{'title': 'Nikita', 'actors': [{'_id': 'artist:115', 'role': 'Bob'}, {'_id': 'artist:119', 'role': 'Nikita'}, {'_id': 'artist:120', 'role': 'Marco'}]}\n",
      "{'title': 'Van Gogh', 'actors': [{'_id': 'artist:30', 'role': 'Van Gogh'}]}\n",
      "{'title': 'De bruit et de fureur', 'actors': [{'_id': 'artist:139', 'role': 'Marcel'}, {'_id': 'artist:140', 'role': 'Enseignante'}, {'_id': 'artist:141', 'role': 'Bruno'}]}\n",
      "{'title': 'Le grand bleu', 'actors': [{'_id': 'artist:39', 'role': 'Johanna'}, {'_id': 'artist:60', 'role': 'Enzo Molinari'}, {'_id': 'artist:121', 'role': 'Jacques Mayol'}]}\n",
      "{'title': 'Piège de cristal', 'actors': [{'_id': 'artist:27', 'role': 'McClane'}]}\n",
      "{'title': 'Rain Man', 'actors': [{'_id': 'artist:65', 'role': 'Charlie Babbitt'}, {'_id': 'artist:80', 'role': 'Raymond Babbitt'}]}\n",
      "{'title': 'Le last_name de la rose', 'actors': [{'_id': 'artist:35', 'role': 'Baskerville'}, {'_id': 'artist:36', 'role': 'de Melk'}]}\n",
      "{'title': 'Sacrifice', 'actors': []}\n",
      "{'title': 'Top Gun', 'actors': [{'_id': 'artist:53', 'role': 'Iceman'}, {'_id': 'artist:65', 'role': 'Lt. Pete Maverick Mitchell'}, {'_id': 'artist:82', 'role': 'Charlotte Blackwood'}]}\n",
      "{'title': 'Terminator', 'actors': [{'_id': 'artist:44', 'role': 'Terminator'}]}\n",
      "{'title': 'Le retour du Jedi', 'actors': [{'_id': 'artist:24', 'role': 'Han Solo'}, {'_id': 'artist:92', 'role': 'Luke Skywalker'}, {'_id': 'artist:93', 'role': 'Princesse Leia'}]}\n",
      "{'title': 'Blade Runner', 'actors': [{'_id': 'artist:24', 'role': 'Deckard'}, {'_id': 'artist:25', 'role': 'Batty'}]}\n",
      "{'title': 'Kagemusha', 'actors': []}\n",
      "{'title': 'Le dernier métro', 'actors': [{'_id': 'artist:130', 'role': 'Marion Steiner'}, {'_id': 'artist:261', 'role': 'Bernard Granger'}, {'_id': 'artist:262', 'role': 'Jean-Loup Cottins'}]}\n",
      "{'title': 'Shining', 'actors': [{'_id': 'artist:103', 'role': 'Jack Torrance'}]}\n",
      "{'title': 'Alien', 'actors': [{'_id': 'artist:5', 'role': 'Ripley'}]}\n",
      "{'title': 'Les bronzés font du ski', 'actors': [{'_id': 'artist:75', 'role': 'Nathalie Morin'}, {'_id': 'artist:76', 'role': 'Christiane'}, {'_id': 'artist:84', 'role': 'Jean-Claude Dus'}, {'_id': 'artist:85', 'role': 'Jérôme'}, {'_id': 'artist:86', 'role': 'Popeye'}]}\n",
      "{'title': 'Le gendarme et les extra-terrestres', 'actors': [{'_id': 'artist:72', 'role': 'Inspecteur Cruchot'}, {'_id': 'artist:73', 'role': 'Adjudant Gerber'}]}\n",
      "{'title': 'Taxi driver', 'actors': [{'_id': 'artist:51', 'role': '1962'}, {'_id': 'artist:167', 'role': 'Travis Bickle '}]}\n",
      "{'title': 'Les dents de la mer', 'actors': [{'_id': 'artist:46', 'role': 'Martin Brody'}, {'_id': 'artist:47', 'role': 'Quint'}, {'_id': 'artist:48', 'role': 'Matt Hooper'}]}\n",
      "{'title': 'Le parrain II', 'actors': [{'_id': 'artist:167', 'role': 'Don Vito Corleone'}, {'_id': 'artist:176', 'role': 'Michael Corleone'}, {'_id': 'artist:183', 'role': 'Kay Adams'}, {'_id': 'artist:184', 'role': 'Tom Hagen'}]}\n",
      "{'title': 'Soleil vert', 'actors': [{'_id': 'artist:8', 'role': 'sol'}]}\n",
      "{'title': 'Le parrain', 'actors': [{'_id': 'artist:137', 'role': 'Sonny Corleone'}, {'_id': 'artist:155', 'role': 'Capt. McCluskey'}, {'_id': 'artist:176', 'role': 'Michael Corleone'}, {'_id': 'artist:182', 'role': 'Do Vito Corleone'}, {'_id': 'artist:183', 'role': 'Kay Adams'}, {'_id': 'artist:184', 'role': 'Tom Hagen'}]}\n",
      "{'title': 'Le bon, la brute et le truand', 'actors': [{'_id': 'artist:20', 'role': None}]}\n",
      "{'title': 'Pour quelques dollars de plus', 'actors': []}\n",
      "{'title': 'Pas de printemps pour Marnie', 'actors': [{'_id': 'artist:35', 'role': '\\n                       Mark R'}, {'_id': 'artist:95', 'role': 'Marnie Edgar'}]}\n",
      "{'title': 'Les oiseaux', 'actors': [{'_id': 'artist:94', 'role': 'Mitch Brenner'}, {'_id': 'artist:95', 'role': 'Melanie Daniels'}]}\n",
      "{'title': 'Psychose', 'actors': [{'_id': 'artist:88', 'role': 'Bates'}, {'_id': 'artist:89', 'role': 'Lila Crane'}, {'_id': 'artist:90', 'role': 'Marion Crane'}]}\n",
      "{'title': 'La mort aux trousses', 'actors': [{'_id': 'artist:105', 'role': 'Roger O. Thornhill'}, {'_id': 'artist:106', 'role': 'Eve Kendall'}, {'_id': 'artist:107', 'role': 'Philipp Vandamm'}]}\n",
      "{'title': 'Les quatre cents coups', 'actors': [{'_id': 'artist:260', 'role': 'Antoine Doinel'}]}\n",
      "{'title': 'Vertigo', 'actors': [{'_id': 'artist:15', 'role': 'John Ferguson'}, {'_id': 'artist:16', 'role': 'Madeleine Elster'}, {'_id': 'artist:282', 'role': None}]}\n",
      "{'title': 'Fenêtre sur cour', 'actors': []}\n",
      "{'title': 'Rio Grande', 'actors': [{'_id': 'artist:264', 'role': 'Lt. Col. Kirby Yorke'}, {'_id': 'artist:265', 'role': 'Mrs. Kathleen Yorke'}]}\n",
      "{'title': 'Skyfall', 'actors': [{'_id': 'artist:247', 'role': 'James Bond'}, {'_id': 'artist:249', 'role': 'M'}, {'_id': 'artist:250', 'role': 'Silva'}]}\n",
      "{'title': 'Inglourious Basterds', 'actors': []}\n"
     ]
    },
    {
     "name": "stderr",
     "output_type": "stream",
     "text": [
      "<ipython-input-11-8c9553e67b2d>:5: DeprecationWarning: count is deprecated. Use Collection.count_documents instead.\n",
      "  print(request.count())\n"
     ]
    }
   ],
   "source": [
    "# Q : Combien de films dans lesquels ont joué ni l'acteur 34, ni 98, ni 1 et afficher leur titre et la liste des actors ; sens du tri : chronologique décroissant et alphabétique croissant sur les titres des films ?\n",
    "\n",
    "print(\"Artistes ensemble sur un film 23 et 147:\")\n",
    "request = colMovies.find({\"actors._id\": {\"$nin\":[\"artist:34\", \"artist:98\", \"artist:1\"]}}, {\"_id\": 0, \"year\": 0, \"genre\": 0, \"country\": 0, \"summary\": 0, \"director\": 0})\n",
    "print(request.count())\n",
    "for movie in request.sort([(\"year\", -1), (\"title\", 1)]):\n",
    "    print(movie)"
   ]
  },
  {
   "cell_type": "code",
   "execution_count": 9,
   "metadata": {},
   "outputs": [
    {
     "name": "stdout",
     "output_type": "stream",
     "text": [
      "Artistes sans acteurs :\n",
      "6\n",
      "{'title': 'Sacrifice', 'actors': []}\n",
      "{'title': 'Kagemusha', 'actors': []}\n",
      "{'title': 'Fenêtre sur cour', 'actors': []}\n",
      "{'title': 'Pour quelques dollars de plus', 'actors': []}\n",
      "{'title': 'Inglourious Basterds', 'actors': []}\n",
      "{'title': 'Nous trois ou rien', 'actors': []}\n",
      "Artistes sans attribut acteurs :\n",
      "0\n"
     ]
    },
    {
     "name": "stderr",
     "output_type": "stream",
     "text": [
      "<ipython-input-9-1c924e2836d1>:5: DeprecationWarning: count is deprecated. Use Collection.count_documents instead.\n",
      "  print(request.count())\n",
      "<ipython-input-9-1c924e2836d1>:11: DeprecationWarning: count is deprecated. Use Collection.count_documents instead.\n",
      "  print(request.count())\n"
     ]
    }
   ],
   "source": [
    "# Q : Combien de films qui n’ont pas d’attribut actors ? Combien de films dont l'attribut actors n'est pas renseigné et les afficher ?\n",
    "\n",
    "print(\"Artistes sans acteurs :\")\n",
    "request = colMovies.find({\"actors\": {\"$size\": 0}}, {\"_id\": 0, \"year\": 0, \"genre\": 0, \"country\": 0, \"summary\": 0, \"director\": 0})\n",
    "print(request.count())\n",
    "for movie in request :\n",
    "    print(movie)\n",
    "    \n",
    "print(\"Artistes sans attribut acteurs :\")\n",
    "request = colMovies.find({\"actors\": {\"$exists\": False}}, {\"_id\": 0, \"year\": 0, \"genre\": 0, \"country\": 0, \"summary\": 0, \"director\": 0})\n",
    "print(request.count())\n",
    "for movie in request :\n",
    "    print(movie)"
   ]
  },
  {
   "cell_type": "code",
   "execution_count": 19,
   "metadata": {},
   "outputs": [
    {
     "name": "stdout",
     "output_type": "stream",
     "text": [
      "3\n",
      "{'_id': 'movie:8', 'title': 'Impitoyable', 'director': {'_id': 'artist:20'}}\n",
      "{'_id': 'movie:26', 'title': 'Les pleins pouvoirs', 'director': {'_id': 'artist:20'}}\n",
      "{'_id': 'movie:63', 'title': 'Million Dollar Baby', 'director': {'_id': 'artist:20'}}\n"
     ]
    },
    {
     "name": "stderr",
     "output_type": "stream",
     "text": [
      "<ipython-input-19-6a03ac35015d>:5: DeprecationWarning: count is deprecated. Use Collection.count_documents instead.\n",
      "  print(request.count())\n"
     ]
    }
   ],
   "source": [
    "# Q : Donnez tous les films dont le directeur est Clint Eastwood ?\n",
    "\n",
    "eastwood = colArtist.find_one({\"first_name\": \"Clint\", \"last_name\": \"Eastwood\"})\n",
    "request = colMovies.find({\"director._id\": eastwood[\"_id\"]}, {\"title\": 1, \"director._id\" : 1})\n",
    "print(request.count())\n",
    "for movie in request :\n",
    "    print(movie)"
   ]
  },
  {
   "cell_type": "code",
   "execution_count": 24,
   "metadata": {},
   "outputs": [
    {
     "name": "stdout",
     "output_type": "stream",
     "text": [
      "1\n",
      "{'_id': 'movie:36', 'title': 'Reservoir dogs', 'year': 1992, 'genre': 'crime', 'country': 'USA', 'director': {'_id': 'artist:37'}}\n"
     ]
    },
    {
     "name": "stderr",
     "output_type": "stream",
     "text": [
      "<ipython-input-24-d4e51e849ad6>:4: DeprecationWarning: count is deprecated. Use Collection.count_documents instead.\n",
      "  print(request.count())\n"
     ]
    }
   ],
   "source": [
    "# Q : Tous les films dont le titre commence par 'Re' ?\n",
    "\n",
    "request = colMovies.find({\"title\": {\"$regex\": \"^Re\"}}, {\"actors\": 0, \"summary\": 0})\n",
    "print(request.count())\n",
    "for movie in request :\n",
    "    print(movie)"
   ]
  },
  {
   "cell_type": "code",
   "execution_count": 26,
   "metadata": {},
   "outputs": [
    {
     "name": "stdout",
     "output_type": "stream",
     "text": [
      "1\n",
      "{'_id': 'movie:22', 'title': 'Godzilla', 'year': 1998, 'genre': 'Action', 'country': 'USA', 'director': {'_id': 'artist:58'}}\n"
     ]
    },
    {
     "name": "stderr",
     "output_type": "stream",
     "text": [
      "<ipython-input-26-b74004e0483a>:4: DeprecationWarning: count is deprecated. Use Collection.count_documents instead.\n",
      "  print(request.count())\n"
     ]
    }
   ],
   "source": [
    "# Q : Tous les films dont le titre finit par 'la' ?\n",
    "\n",
    "request = colMovies.find ({\"title\": {\"$regex\": \"la$\"}}, {\"actors\": 0, \"summary\": 0})\n",
    "print(request.count())\n",
    "for movie in request :\n",
    "    print(movie)"
   ]
  },
  {
   "cell_type": "code",
   "execution_count": 28,
   "metadata": {},
   "outputs": [
    {
     "name": "stdout",
     "output_type": "stream",
     "text": [
      "1\n",
      "{'title': 'Gladiator', 'actors': [{'_id': 'artist:23', 'role': 'Maximus'}, {'_id': 'artist:147', 'role': 'Commode'}, {'_id': 'artist:148', 'role': 'Lucilla'}, {'_id': 'artist:149', 'role': 'Marc Aurele'}]}\n"
     ]
    },
    {
     "name": "stderr",
     "output_type": "stream",
     "text": [
      "<ipython-input-28-ca08dab69742>:4: DeprecationWarning: count is deprecated. Use Collection.count_documents instead.\n",
      "  print(request.count())\n"
     ]
    }
   ],
   "source": [
    "# Q : Combien de films ont été joués par l'acteur dont l'id est 147 et les afficher en se limitant au titre du film et la liste des acteurs ?\n",
    "\n",
    "request = colMovies.find ({\"actors._id\": {\"$regex\": \"147$\"}}, {\"_id\": 0, \"year\": 0, \"genre\": 0, \"country\": 0, \"summary\": 0, \"director\": 0})\n",
    "print(request.count())\n",
    "for movie in request :\n",
    "    print(movie)"
   ]
  },
  {
   "cell_type": "code",
   "execution_count": 29,
   "metadata": {},
   "outputs": [
    {
     "name": "stdout",
     "output_type": "stream",
     "text": [
      "1\n",
      "{'_id': 'movie:9', 'title': 'Gladiator', 'year': 2000, 'genre': 'drama', 'country': 'USA', 'director': {'_id': 'artist:4'}}\n"
     ]
    },
    {
     "name": "stderr",
     "output_type": "stream",
     "text": [
      "<ipython-input-29-ed8cb3c8bb10>:4: DeprecationWarning: count is deprecated. Use Collection.count_documents instead.\n",
      "  print(request.count())\n"
     ]
    }
   ],
   "source": [
    "# Q : Retourner les films joués par l'acteur 147 sans les acteurs et sans le résumé ?\n",
    "\n",
    "request = colMovies.find ({\"actors._id\": {\"$regex\": \"147$\"}}, {\"summary\": 0, \"actors\": 0})\n",
    "print(request.count())\n",
    "for movie in request :\n",
    "    print(movie)"
   ]
  },
  {
   "cell_type": "code",
   "execution_count": null,
   "metadata": {},
   "outputs": [],
   "source": []
  }
 ],
 "metadata": {
  "kernelspec": {
   "display_name": "Python 3",
   "language": "python",
   "name": "python3"
  },
  "language_info": {
   "codemirror_mode": {
    "name": "ipython",
    "version": 3
   },
   "file_extension": ".py",
   "mimetype": "text/x-python",
   "name": "python",
   "nbconvert_exporter": "python",
   "pygments_lexer": "ipython3",
   "version": "3.8.5"
  }
 },
 "nbformat": 4,
 "nbformat_minor": 4
}
