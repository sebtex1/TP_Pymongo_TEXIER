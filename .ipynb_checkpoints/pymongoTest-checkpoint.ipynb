{
 "cells": [
  {
   "cell_type": "code",
   "execution_count": 1,
   "metadata": {},
   "outputs": [],
   "source": [
    "from pymongo import MongoClient, errors\n",
    "import time"
   ]
  },
  {
   "cell_type": "code",
   "execution_count": 2,
   "metadata": {
    "scrolled": true
   },
   "outputs": [
    {
     "name": "stdout",
     "output_type": "stream",
     "text": [
      "connexion success\n"
     ]
    }
   ],
   "source": [
    "client = MongoClient('mongodb://localhost:27017/')\n",
    "db = client.metflix\n",
    "movies = db.movies\n",
    "print('connexion success')"
   ]
  },
  {
   "cell_type": "code",
   "execution_count": 3,
   "metadata": {},
   "outputs": [
    {
     "name": "stdout",
     "output_type": "stream",
     "text": [
      "{'_id': 'tt0075148', 'title': 'Rocky', 'year': 1976}\n",
      "{'_id': 'tt0073195', 'title': 'Jaws', 'year': 1975}\n",
      "{'_id': 'tt0082694', 'title': 'Mad Max 2 : The Road Warrior', 'year': 1981}\n",
      "{'_id': 'tt0082971', 'title': 'Raiders of the Lost Ark', 'year': 1981}\n"
     ]
    }
   ],
   "source": [
    "# Les commandes sont réalisé avec le prof pour apprendre à utilisé pymongo\n",
    "# Elles ont permis de répondrent aux premières questions\n",
    "\n",
    "for item in movies.find(): \n",
    "    print(item)"
   ]
  },
  {
   "cell_type": "code",
   "execution_count": 11,
   "metadata": {},
   "outputs": [],
   "source": [
    "client.drop_database('metflix')"
   ]
  },
  {
   "cell_type": "code",
   "execution_count": 12,
   "metadata": {
    "scrolled": true
   },
   "outputs": [
    {
     "data": {
      "text/plain": [
       "Database(MongoClient(host=['localhost:27017'], document_class=dict, tz_aware=False, connect=True), 'metflix')"
      ]
     },
     "execution_count": 12,
     "metadata": {},
     "output_type": "execute_result"
    }
   ],
   "source": [
    "db"
   ]
  },
  {
   "cell_type": "code",
   "execution_count": 13,
   "metadata": {},
   "outputs": [
    {
     "data": {
      "text/plain": [
       "Collection(Database(MongoClient(host=['localhost:27017'], document_class=dict, tz_aware=False, connect=True), 'metflix'), 'movies')"
      ]
     },
     "execution_count": 13,
     "metadata": {},
     "output_type": "execute_result"
    }
   ],
   "source": [
    "movies"
   ]
  },
  {
   "cell_type": "code",
   "execution_count": 14,
   "metadata": {},
   "outputs": [
    {
     "name": "stdout",
     "output_type": "stream",
     "text": [
      "5ffd84c4a2aa927e63e9b7fb\n"
     ]
    }
   ],
   "source": [
    "x = movies.insert_one({\"title\":\"Rocky\",\"year\":1976})\n",
    "print(x.inserted_id)"
   ]
  },
  {
   "cell_type": "code",
   "execution_count": 20,
   "metadata": {},
   "outputs": [
    {
     "name": "stdout",
     "output_type": "stream",
     "text": [
      "connection success\n",
      "0.0069580078125\n"
     ]
    }
   ],
   "source": [
    "start = time.time()\n",
    "\n",
    "try:\n",
    "    client = MongoClient(host = 'mongodb://localhost:27017/', serverSelectionTimeoutMS = 2000)\n",
    "    client.server_info()\n",
    "    print(\"connection success\")\n",
    "except:\n",
    "    print(\"connection error\")\n",
    "    \n",
    "print(time.time() - start)"
   ]
  },
  {
   "cell_type": "code",
   "execution_count": 21,
   "metadata": {},
   "outputs": [
    {
     "name": "stdout",
     "output_type": "stream",
     "text": [
      "collection movies added\n"
     ]
    }
   ],
   "source": [
    "try:\n",
    "    db = client.metflix\n",
    "    col = db[\"movies\"]\n",
    "    print(\"collection movies added\")\n",
    "except:\n",
    "    print(\"Get MongoDB database and collection ERROR:\")"
   ]
  },
  {
   "cell_type": "code",
   "execution_count": 25,
   "metadata": {},
   "outputs": [
    {
     "data": {
      "text/plain": [
       "<pymongo.results.InsertManyResult at 0x2d0a58aebc0>"
      ]
     },
     "execution_count": 25,
     "metadata": {},
     "output_type": "execute_result"
    }
   ],
   "source": [
    "# Q : Supp la dernière collection, la recréer en y insérant les documents suivants :\n",
    "\n",
    "movies.drop()\n",
    "\n",
    "list = [\n",
    "    {\"title\": \"Rocky\", \"year\": 1976, \"_id\": \"tt0075148\"},\n",
    "    {\"title\": \"Jaws\", \"year\": 1975, \"_id\": \"tt0073195\"},\n",
    "    {\"title\": \"Mad Max 2 : The Road Warrior\", \"year\": 1981, \"_id\": \"tt0082694\"},\n",
    "    {\"title\": \"Raiders of the Lost Ark\", \"year\": 1981, \"_id\": \"tt0082971\"}\n",
    "]\n",
    "\n",
    "movies.insert_many(list)"
   ]
  },
  {
   "cell_type": "code",
   "execution_count": 53,
   "metadata": {},
   "outputs": [
    {
     "name": "stdout",
     "output_type": "stream",
     "text": [
      "All movies\n",
      "{'_id': 'tt0075148', 'title': 'Rocky', 'year': 1976}\n",
      "{'_id': 'tt0073195', 'title': 'Jaws', 'year': 1975}\n",
      "{'_id': 'tt0082694', 'title': 'Mad Max 2 : The Road Warrior', 'year': 1981}\n",
      "{'_id': 'tt0082971', 'title': 'Raiders of the Lost Ark', 'year': 1981}\n",
      "First movie\n",
      "{'_id': 'tt0075148', 'title': 'Rocky', 'year': 1976}\n",
      "1981's movies\n",
      "{'_id': 'tt0082694', 'title': 'Mad Max 2 : The Road Warrior', 'year': 1981}\n",
      "{'_id': 'tt0082971', 'title': 'Raiders of the Lost Ark', 'year': 1981}\n",
      "Jaws movie\n",
      "{'_id': 'tt0073195', 'title': 'Jaws', 'year': 1975}\n"
     ]
    }
   ],
   "source": [
    "# Q : Afficher ts les documents de la collection movies, le tout 1è document, le(s) document(s) où on trouve les films produits en 1981, le document où on trouve le film qui porte le titre \"Jaws\" ?\n",
    "\n",
    "# Afficher tous les films de movies\n",
    "print(\"All movies\")\n",
    "for item in movies.find(): \n",
    "    print(item)\n",
    "\n",
    "# Afficher le 1er film\n",
    "print(\"First movie\")\n",
    "print(movies.find_one())\n",
    "\n",
    "# Afficher les films produit en 1981\n",
    "print(\"1981's movies\")\n",
    "requestYear = {\"year\": 1981}\n",
    "for item in movies.find(requestYear):\n",
    "    print(item)\n",
    "\n",
    "# Afficher le film avec le titre Jaws\n",
    "print(\"Jaws movie\")\n",
    "requestTitle = { \"title\": \"Jaws\"}\n",
    "print(movies.find_one(requestTitle))"
   ]
  },
  {
   "cell_type": "code",
   "execution_count": 4,
   "metadata": {},
   "outputs": [
    {
     "name": "stdout",
     "output_type": "stream",
     "text": [
      "206\n",
      "88\n"
     ]
    },
    {
     "name": "stderr",
     "output_type": "stream",
     "text": [
      "<ipython-input-4-e3be92e60faa>:26: DeprecationWarning: count is deprecated. Use estimated_document_count or count_documents instead. Please note that $where must be replaced by $expr, $near must be replaced by $geoWithin with $center, and $nearSphere must be replaced by $geoWithin with $centerSphere\n",
      "  print(colArtist.count())\n",
      "<ipython-input-4-e3be92e60faa>:27: DeprecationWarning: count is deprecated. Use estimated_document_count or count_documents instead. Please note that $where must be replaced by $expr, $near must be replaced by $geoWithin with $center, and $nearSphere must be replaced by $geoWithin with $centerSphere\n",
      "  print(colMovies.count())\n"
     ]
    }
   ],
   "source": [
    "# Q : Créer une DB movies_artists avec deux collections : une pour les films et l’autre pour les artistes (voir les fichiers artists.json et movies.json associés) ?\n",
    "\n",
    "# L'import s'est fait sur cmd car sur la documentation ils précisent que mongoimport n'est pas compris dans pymongo\n",
    "\n",
    "# C:\\Program Files\\MongoDB\\Server\\4.4\\bin>mongoimport -d movies_artists -c movies --file movies.json --jsonArray\n",
    "# 2021-01-12T15:44:15.661+0100    connected to: mongodb://localhost/\n",
    "# 2021-01-12T15:44:15.708+0100    85 document(s) imported successfully. 0 document(s) failed to import.\n",
    "\n",
    "# C:\\Program Files\\MongoDB\\Server\\4.4\\bin>mongoimport -d movies_artists -c artists --file artists.json --jsonArray\n",
    "# 2021-01-12T15:47:42.739+0100    connected to: mongodb://localhost/\n",
    "# 2021-01-12T15:47:42.789+0100    179 document(s) imported successfully. 0 document(s) failed to import.\n",
    "\n",
    "# C:\\Program Files\\MongoDB\\Server\\4.4\\bin>mongoimport -d movies_artists -c movies --mode insert --file movies_suite.json --jsonArray\n",
    "# 2021-01-12T16:01:43.873+0100    connected to: mongodb://localhost/\n",
    "# 2021-01-12T16:01:43.909+0100    3 document(s) imported successfully. 0 document(s) failed to import.\n",
    "\n",
    "# C:\\Program Files\\MongoDB\\Server\\4.4\\bin>mongoimport -d movies_artists -c artists --type csv --headerline --file artists_suite.csv\n",
    "# 2021-01-12T16:15:43.646+0100    connected to: mongodb://localhost/\n",
    "# 2021-01-12T16:15:43.677+0100    27 document(s) imported successfully. 0 document(s) failed to import.\n",
    "        \n",
    "client = MongoClient('mongodb://localhost:27017/')\n",
    "dbMA = client.movies_artists\n",
    "colArtist = dbMA.artists\n",
    "colMovies = dbMA.movies\n",
    "\n",
    "print(colArtist.count())\n",
    "print(colMovies.count())\n",
    "\n",
    "# Les import ont fonctionnés suite à l'installation de mongoimport\n",
    "\n",
    "# Q : Qu'est-ce q'un upsert et cmnt faire upsert à l'aide d'un fichier json ?\n",
    "\n",
    "# Le upsert permet de remplacer les documents présents dans la collection par ceux présents dans le import"
   ]
  },
  {
   "cell_type": "code",
   "execution_count": 7,
   "metadata": {},
   "outputs": [
    {
     "name": "stdout",
     "output_type": "stream",
     "text": [
      "{'_id': 'movie:15', 'title': 'Twelve Monkeys', 'year': 1995, 'genre': 'Science-fiction', 'summary': None, 'country': 'USA', 'director': {'_id': 'artist:33'}, 'actors': [{'_id': 'artist:27', 'role': 'Cole'}]}\n",
      "{'_id': 'movie:14', 'title': 'Seven', 'year': 1995, 'genre': 'crime', 'summary': \"A New York, un criminel anonyme a décidé de commettre 7 meurtres basés sur les 7 pêchés capitaux énoncés dans la Bible : gourmandise, avarice, paresse, orgueil, luxure, envie et colère. Vieux flic blasé à 7 jours de la retraite, l'inspecteur Somerset mène l'enquête tout en formant son remplaçant, l'ambitieux inspecteur David Mills... \", 'country': 'USA', 'director': {'_id': 'artist:31'}, 'actors': [{'_id': 'artist:18', 'role': 'Doe'}, {'_id': 'artist:22', 'role': 'Somerset'}, {'_id': 'artist:32', 'role': 'Mills'}]}\n",
      "{'_id': 'movie:16', 'title': 'Le last_name de la rose', 'year': 1986, 'genre': 'crime', 'summary': \"En l'an 1327, dans une abbaye bénédictine, le moine franciscain Guillaume de Baskerville, accompagné de son jeune novice Adso, enquête sur de mystérieuses morts qui frappent la confrérie. Le secret semble résider dans la bibliothèque, où le vieux Jorge garde jalousement un livre jugé maudit. \", 'country': 'FR', 'director': {'_id': 'artist:34'}, 'actors': [{'_id': 'artist:35', 'role': 'Baskerville'}, {'_id': 'artist:36', 'role': 'de Melk'}]}\n",
      "{'_id': 'movie:2', 'title': 'Alien', 'year': 1979, 'genre': 'Science-fiction', 'summary': 'Près d\\'un vaisseau spatial échoué sur une lointaine planète, des Terriens en mission découvrent de bien étranges \"oeufs\". Ils en ramènent un à bord, ignorant qu\\'ils viennent d\\'introduire parmi eux un huitième passager particulièrement féroce et meurtrier. ', 'country': 'USA', 'director': {'_id': 'artist:4'}, 'actors': [{'_id': 'artist:5', 'role': 'Ripley'}]}\n",
      "{'_id': 'movie:18', 'title': 'Mary à tout prix', 'year': 1998, 'genre': 'Comédie', 'summary': \"Pour retrouver l'amour de sa jeunesse, la belle Mary, Ted-le-looser engage Pat Healy, un privé. Subjugé par la jeune femme, ce dernier tente de la séduire en se faisant passer pour un architecte. Il cache la vérité à Ted et fait cause commune avec Tucker, un autre prétendant, pour se débarrasser de l'encombrant Ted... \", 'country': 'USA', 'director': {'_id': 'artist:41'}, 'actors': [{'_id': 'artist:42', 'role': 'Mary Jensen Matthews'}, {'_id': 'artist:43', 'role': 'Pat Healy'}]}\n",
      "{'_id': 'movie:17', 'title': 'Pulp fiction', 'year': 1994, 'genre': 'Action', 'summary': \"Pulp Fiction décrit l'odyssée sanglante et burlesque de petits malfrats dans la jungle de Hollywood, ou s'entrecroisent les destins de deux petits tueurs, d'un dangereux gangster marié à une camée, d'un boxeur roublard, de prêteurs sur gages sadiques, d'un caïd élégant et dévoué, d'un dealer bon mari et de deux tourtereaux à la gachette facile... \", 'country': 'USA', 'director': {'_id': 'artist:37'}, 'actors': [{'_id': 'artist:11', 'role': 'Vincent Vega'}, {'_id': 'artist:27', 'role': 'Butch Coolidge'}, {'_id': 'artist:37', 'role': 'Jimmy Dimmick'}, {'_id': 'artist:38', 'role': 'Jules Winnfield'}, {'_id': 'artist:39', 'role': 'Jody'}, {'_id': 'artist:40', 'role': 'Mia Wallace'}, {'_id': 'artist:97', 'role': 'Capt. Koons'}, {'_id': 'artist:98', 'role': 'Winston \"The Wolf\" Wolfe'}, {'_id': 'artist:99', 'role': 'Pumpkin (Ringo)'}]}\n",
      "{'_id': 'movie:21', 'title': 'Le silence des agneaux', 'year': 1990, 'genre': 'crime', 'summary': \"Afin de retrouver la piste d'un tueur surlast_namemé Buffalo Bill car il scalpe les femmes qu'il assassine, la jeune stagiaire du FBI Clarice Starling est dépêchée auprès d'Hannibal Lecter, prisonnier pour avoir dévoré ses victimes. La coopération de ce dernier devrait permettre à Clarice de saisir et d'anticiper le comportement de Buffalo... \", 'country': 'USA', 'director': {'_id': 'artist:49'}, 'actors': [{'_id': 'artist:50', 'role': 'Dr. Hannibal Lecter'}, {'_id': 'artist:51', 'role': 'Clarice Starling'}]}\n",
      "{'_id': 'movie:20', 'title': 'Les dents de la mer', 'year': 1975, 'genre': 'Horreur', 'summary': \"Dans la station balnéaire d'Amityville, un requin géant frappe à plusieurs reprises. Soucieux d'une bonne saison touristique, le maire interdit au sherif Brody de fermer les plages. Une prime est offerte et le célèbre chasseur de requin Quint se lance avec Brody et l'ichtyologue Hooper à la poursuite du monstre... \", 'country': 'FR', 'director': {'_id': 'artist:45'}, 'actors': [{'_id': 'artist:46', 'role': 'Martin Brody'}, {'_id': 'artist:47', 'role': 'Quint'}, {'_id': 'artist:48', 'role': 'Matt Hooper'}]}\n",
      "{'_id': 'movie:22', 'title': 'Godzilla', 'year': 1998, 'genre': 'Action', 'summary': \"Issu des radiations atomiques engendrées par les essais nucléaires en Polynésie, un monstre gigantesque, aussi haut qu'un building, se dirige vers New York, semant le chaos sur son passage. Pour tenter de stopper cette créature destructrice, l'armée s'associe à une équipe de scientifiques américains et à un énigmatique enquêteur français... \", 'country': 'USA', 'director': {'_id': 'artist:58'}, 'actors': [{'_id': 'artist:59', 'role': 'Dr. Nikos Tatopoulos'}, {'_id': 'artist:60', 'role': 'Philippe Roaché'}]}\n",
      "{'_id': 'movie:23', 'title': 'Matrix', 'year': 1999, 'genre': 'Science-fiction', 'summary': \"Dans un monde où tout ce qui semble réel est en fait élaboré par l'univers électronique baptisé la Matrice, Néo, un programmeur, est contacté par un certain Morpheus. D'après lui, Néo serait le Libérateur tant attendu, le seul capable de mettre en échec l'omnipotence de la Matrice et rendre ses droits à la réalité... \", 'country': 'USA', 'director': {'_id': 'artist:61'}, 'actors': [{'_id': 'artist:62', 'role': 'Neo'}, {'_id': 'artist:63', 'role': 'Morpheus'}]}\n"
     ]
    }
   ],
   "source": [
    "# Q : Afficher les 12 documents (films) à partir du dixième inclus en se limitant aux title et _id ?\n",
    "    \n",
    "for movie in colMovies.find().skip(12).limit(10):\n",
    "    print(movie)"
   ]
  },
  {
   "cell_type": "code",
   "execution_count": 8,
   "metadata": {},
   "outputs": [
    {
     "name": "stdout",
     "output_type": "stream",
     "text": [
      "{'_id': 'movie:40', 'title': 'Fenêtre sur cour', 'year': 1954, 'genre': 'Suspense', 'summary': \"En repos forcé à cause d'une jambe plâtrée, le reporter L.B. Jefferies observe au téléobjectif les voisins de l'immeuble d'en face. C'est ainsi qu'il remarque le curieux manège d'un représentant de commerce, M. Thorwald, qu'il soupconne très vite d'avoir assassiné sa femme... \", 'country': 'USA', 'director': {'_id': 'artist:3'}, 'actors': []}\n",
      "{'_id': 'movie:9', 'title': 'Gladiator', 'year': 2000, 'genre': 'drama', 'summary': \"Le général romain Maximus est le plus fidèle                    soutien de l'empereur Marc Aurèle, qu'il a                    conduit de victoire en victoire avec une                    bravoure et un dévouement exemplaires.                    Jaloux du prestige de Maximus, et plus                    encore de l'amour que lui voue l'empereur,                    le fils de Marc-Aurèle, Commode, s'arroge                    brutalement le pouvoir, puis ordonne                    l'arrestation du général et son exécution.                    Maximus échappe à ses assassins mais ne peut                    empêcher le massacre de sa famille. Capturé                    par un marchand d'esclaves, il devient                    gladiateur et prépare sa vengeance.\", 'country': 'USA', 'director': {'_id': 'artist:4'}, 'actors': [{'_id': 'artist:23', 'role': 'Maximus'}, {'_id': 'artist:147', 'role': 'Commode'}, {'_id': 'artist:148', 'role': 'Lucilla'}, {'_id': 'artist:149', 'role': 'Marc Aurele'}]}\n",
      "{'_id': 'movie:22', 'title': 'Godzilla', 'year': 1998, 'genre': 'Action', 'summary': \"Issu des radiations atomiques engendrées par les essais nucléaires en Polynésie, un monstre gigantesque, aussi haut qu'un building, se dirige vers New York, semant le chaos sur son passage. Pour tenter de stopper cette créature destructrice, l'armée s'associe à une équipe de scientifiques américains et à un énigmatique enquêteur français... \", 'country': 'USA', 'director': {'_id': 'artist:58'}, 'actors': [{'_id': 'artist:59', 'role': 'Dr. Nikos Tatopoulos'}, {'_id': 'artist:60', 'role': 'Philippe Roaché'}]}\n",
      "{'_id': 'movie:69', 'title': 'Heat', 'year': 1995, 'genre': 'crime', 'summary': 'La bande de Neil McCauley à laquelle est venu se greffer Waingro, une nouvelle recrue, attaque un fourgon blindé pour s\\'emparer d\\'une somme importante en obligations. Cependant, ce dernier tue froidement l\\'un des convoyeurs et Chris Shiherlis se retrouve obligé de \"terminer le travail\". Neil tente d\\'éliminer Waingro, mais celui-ci parvient à s\\'échapper. Parallèlement, le lieutenant Vincent Hanna mène l\\'enquête...', 'country': 'USA', 'director': {'_id': 'artist:175'}, 'actors': [{'_id': 'artist:167', 'role': None}]}\n",
      "{'_id': 'movie:8', 'title': 'Impitoyable', 'year': 1992, 'genre': 'Western', 'summary': \"Légendaire hors-la-loi, William Munny s'est reconverti depuis onze ans en paisible fermier. Il reprend néanmoins les armes pour traquer deux tueurs en compagnie de son vieil ami Ned Logan. Mais ce dernier est capturé, puis éxécute. L'honneur et l'amitié imposent dès lors à Munny de redevenir une dernière fois le héros qu'il fut jadis... \", 'country': 'USA', 'director': {'_id': 'artist:20'}, 'actors': [{'_id': 'artist:20', 'role': 'William Munny'}, {'_id': 'artist:21', 'role': 'Little Bill Dagget'}, {'_id': 'artist:22', 'role': 'Ned Logan'}]}\n",
      "{'_id': 'movie:86', 'title': 'Inception', 'year': 2010, 'genre': 'Science-fiction', 'summary': 'Dom Cobb est un voleur expérimenté – le meilleur qui soit dans l’art périlleux de l’extraction : sa spécialité consiste à s’approprier les secrets les plus précieux d’un individu, enfouis au plus profond de son subconscient, pendant qu’il rêve et que son esprit est particulièrement vulnérable. Très recherché pour ses talents dans l’univers trouble de l’espionnage industriel, Cobb est aussi devenu un fugitif traqué dans le monde entier qui a perdu tout ce qui lui est cher. Mais une ultime mission pourrait lui permettre de retrouver sa vie d’avant – à condition qu’il puisse accomplir l’impossible : l’inception. Au lieu de subtiliser un rêve, Cobb et son équipe doivent faire l’inverse : implanter une idée dans l’esprit d’un individu. S’ils y parviennent, il pourrait s’agir du crime parfait. Et pourtant, aussi méthodiques et doués soient-ils, rien n’aurait pu préparer Cobb et ses partenaires à un ennemi redoutable qui semble avoir systématiquement un coup d’avance sur eux. Un ennemi dont seul Cobb aurait pu soupçonner l’existence. ', 'country': 'USA', 'director': {'_id': 'artist:266'}, 'actors': [{'_id': 'artist:110', 'role': 'Cobb'}, {'_id': 'artist:269', 'role': 'Miles'}, {'_id': 'artist:270', 'role': 'Ariadne'}, {'_id': 'artist:271', 'role': 'Mal'}]}\n",
      "{'_id': 'movie:80', 'title': 'Inglourious Basterds', 'year': 2009, 'genre': 'Guerre', 'summary': 'Dans la France occupée de 1940, Shosanna Dreyfus assiste à l\\'exécution de sa famille tombée entre les mains du colonel nazi Hans Landa. Shosanna s\\'échappe de justesse et s\\'enfuit à Paris où elle se construit une nouvelle identité en devenant exploitante d\\'une salle de cinéma.Quelque part ailleurs en Europe, le lieutenant Aldo Raine forme un groupe de soldats juifs américains pour mener des actions punitives particulièrement sanglantes contre les nazis. \"Les bâtards\", last_name sous lequel leurs ennemis vont apprendre à les connaître, se joignent à l\\'actrice allemande et agent secret Bridget von Hammersmark pour tenter d\\'éliminer les hauts dignitaires du Troisième Reich. Leurs destins vont se jouer à l\\'entrée du cinéma où Shosanna est décidée à mettre à exécution une vengeance très personnelle... ', 'country': 'USA', 'director': {'_id': 'artist:37'}, 'actors': [{'_id': 'artist:32', 'role': 'Lt. Aldo Raine'}, {'_id': 'artist:256', 'role': 'Col. Hans Landa'}, {'_id': 'artist:257', 'role': 'Shoshana'}, {'_id': 'artist:258', 'role': 'Lt. Archie Hicox'}]}\n",
      "{'_id': 'movie:79', 'title': 'Inglourious Basterds', 'year': 209, 'genre': 'Guerre', 'summary': 'Dans la France occupée de 1940, Shosanna Dreyfus assiste à l\\'exécution de sa famille tombée entre les mains du colonel nazi Hans Landa. Shosanna s\\'échappe de justesse et s\\'enfuit à Paris où elle se construit une nouvelle identité en devenant exploitante d\\'une salle de cinéma.Quelque part ailleurs en Europe, le lieutenant Aldo Raine forme un groupe de soldats juifs américains pour mener des actions punitives particulièrement sanglantes contre les nazis. \"Les bâtards\", last_name sous lequel leurs ennemis vont apprendre à les connaître, se joignent à l\\'actrice allemande et agent secret Bridget von Hammersmark pour tenter d\\'éliminer les hauts dignitaires du Troisième Reich. Leurs destins vont se jouer à l\\'entrée du cinéma où Shosanna est décidée à mettre à exécution une vengeance très personnelle... ', 'country': 'USA', 'director': {'_id': 'artist:37'}, 'actors': []}\n",
      "{'_id': 'movie:85', 'title': 'Interstellar', 'year': 2014, 'genre': 'Science-fiction', 'summary': 'Le film raconte les aventures d’un groupe d’explorateurs qui utilisent une faille récemment découverte dans l’espace-temps afin de repousser les limites humaines et partir à la conquête des distances astrolast_nameiques dans un voyage interstellaire.', 'country': 'USA', 'director': {'_id': 'artist:266'}, 'actors': [{'_id': 'artist:267', 'role': 'Cooper'}, {'_id': 'artist:268', 'role': '   Brand '}, {'_id': 'artist:269', 'role': 'Professor Brand'}]}\n",
      "{'_id': 'movie:57', 'title': 'Jackie Brown', 'year': 1997, 'genre': 'crime', 'summary': \"Jackie Brown, hôtesse de l'air, arrondit ses fins de mois en convoyant de l'argent liquide pour le compte d'un trafiquant d'armes, Ordell Robbie. Un jour, un agent federal et un policier de Los Angeles la cueillent à l'aéroport. Ils comptent sur elle pour faire tomber le trafiquant. Jackie échafaude alors un plan audacieux pour doubler tout le monde lors d'un prochain transfert qui porte sur la modeste somme de cinq cent mille dollars. Mais il lui faudra compter avec les complices d'Ordell, qui ont des méthodes plutôt expéditives.\", 'country': 'USA', 'director': {'_id': 'artist:37'}, 'actors': [{'_id': 'artist:167', 'role': 'Luis Gara'}, {'_id': 'artist:168', 'role': 'Jackie Brown'}, {'_id': 'artist:169', 'role': 'Melanie'}, {'_id': 'artist:170', 'role': 'Ray Nicolette'}, {'_id': 'artist:212', 'role': 'Ordell Robbie'}]}\n"
     ]
    }
   ],
   "source": [
    "# Q : Trier les documents (de la dernière qry) sur le titre du film ds un ordre croissant (ensuite décroissant) ?\n",
    "\n",
    "for movie in colMovies.find().sort(\"title\").skip(12).limit(10):\n",
    "    print(movie)"
   ]
  },
  {
   "cell_type": "code",
   "execution_count": 9,
   "metadata": {},
   "outputs": [
    {
     "name": "stdout",
     "output_type": "stream",
     "text": [
      "{'title': 'Alien', 'genre': 'Science-fiction', 'summary': 'Près d\\'un vaisseau spatial échoué sur une lointaine planète, des Terriens en mission découvrent de bien étranges \"oeufs\". Ils en ramènent un à bord, ignorant qu\\'ils viennent d\\'introduire parmi eux un huitième passager particulièrement féroce et meurtrier. '}\n"
     ]
    }
   ],
   "source": [
    "# Q : Afficher les infos du film dont l'id est 2 ? Se limiter aux infos relatives au titre, au genre et au summary ?\n",
    "\n",
    "print(colMovies.find_one({\"_id\": \"movie:2\"}, {\"_id\": 0, \"year\": 0, \"country\": 0, \"director\": 0, \"actors\": 0}))"
   ]
  },
  {
   "cell_type": "code",
   "execution_count": 12,
   "metadata": {},
   "outputs": [
    {
     "name": "stdout",
     "output_type": "stream",
     "text": [
      "Films sortis en 1979: \n",
      "2\n",
      "{'title': 'Les bronzés font du ski', 'year': 1979, 'genre': 'Comédie', 'actors': [{'_id': 'artist:75', 'role': 'Nathalie Morin'}, {'_id': 'artist:76', 'role': 'Christiane'}, {'_id': 'artist:84', 'role': 'Jean-Claude Dus'}, {'_id': 'artist:85', 'role': 'Jérôme'}, {'_id': 'artist:86', 'role': 'Popeye'}]}\n",
      "{'title': 'Alien', 'year': 1979, 'genre': 'Science-fiction', 'actors': [{'_id': 'artist:5', 'role': 'Ripley'}]}\n"
     ]
    },
    {
     "name": "stderr",
     "output_type": "stream",
     "text": [
      "<ipython-input-12-6542a84c5647>:5: DeprecationWarning: count is deprecated. Use Collection.count_documents instead.\n",
      "  print(request.count())\n"
     ]
    }
   ],
   "source": [
    "# Q : Combien de films ont été produit en en 1979 et les afficher en se limitant aux infos relatives au titre, à l'année et à la liste des acteurs suivant un ordre alphabétique décroissant sur le titre.\n",
    "\n",
    "print(\"Films sortis en 1979: \")\n",
    "request = colMovies.find({\"year\": 1979}, {\"_id\": 0, \"summary\": 0, \"country\": 0, \"director\": 0})\n",
    "print(request.count())\n",
    "for item in request.sort(\"title\", -1):\n",
    "    print(item)"
   ]
  },
  {
   "cell_type": "code",
   "execution_count": 14,
   "metadata": {},
   "outputs": [
    {
     "name": "stdout",
     "output_type": "stream",
     "text": [
      "Info du film du genre SF et de 1979: \n",
      "{'_id': 'movie:2', 'title': 'Alien', 'year': 1979, 'genre': 'Science-fiction', 'summary': 'Près d\\'un vaisseau spatial échoué sur une lointaine planète, des Terriens en mission découvrent de bien étranges \"oeufs\". Ils en ramènent un à bord, ignorant qu\\'ils viennent d\\'introduire parmi eux un huitième passager particulièrement féroce et meurtrier. ', 'country': 'USA', 'director': {'_id': 'artist:4'}, 'actors': [{'_id': 'artist:5', 'role': 'Ripley'}]}\n"
     ]
    }
   ],
   "source": [
    "# Q : Afficher les infos sur le film dont le genre est \"Science-fiction\" et produit en 1979 sans préciser l'_id et le summary ?\n",
    "\n",
    "print(\"Info du film du genre SF et de 1979: \")\n",
    "request = colMovies.find_one({\"genre\": \"Science-fiction\", \"year\": 1979})\n",
    "print(request)"
   ]
  },
  {
   "cell_type": "code",
   "execution_count": 7,
   "metadata": {},
   "outputs": [
    {
     "data": {
      "text/plain": [
       "{'_id': 'movie:2',\n",
       " 'title': 'Alien',\n",
       " 'year': 1979,\n",
       " 'genre': 'Science-fiction',\n",
       " 'summary': 'Près d\\'un vaisseau spatial échoué sur une lointaine planète, des Terriens en mission découvrent de bien étranges \"oeufs\". Ils en ramènent un à bord, ignorant qu\\'ils viennent d\\'introduire parmi eux un huitième passager particulièrement féroce et meurtrier. ',\n",
       " 'country': 'USA',\n",
       " 'director': {'_id': 'artist:4'},\n",
       " 'actors': [{'_id': 'artist:5', 'role': 'Ripley'}]}"
      ]
     },
     "execution_count": 7,
     "metadata": {},
     "output_type": "execute_result"
    }
   ],
   "source": [
    "#Q : Corriger ces Qry ?\n",
    "\n",
    "# db.movies.find({\"titre\": \"Alien\"})\n",
    "# db.movies.find({\"title\": \"alien\"})\n",
    "\n",
    "# Correction:\n",
    "# Ma variable db est dbMA\n",
    "dbMA.movies.find_one({\"title\": \"Alien\"})"
   ]
  },
  {
   "cell_type": "code",
   "execution_count": 31,
   "metadata": {},
   "outputs": [
    {
     "name": "stdout",
     "output_type": "stream",
     "text": [
      "Nombre de film réalisé par director 4:\n",
      "3\n",
      "{'_id': 'movie:9', 'title': 'Gladiator', 'year': 2000, 'director': {'_id': 'artist:4'}, 'actors': [{'_id': 'artist:23', 'role': 'Maximus'}, {'_id': 'artist:147', 'role': 'Commode'}, {'_id': 'artist:148', 'role': 'Lucilla'}, {'_id': 'artist:149', 'role': 'Marc Aurele'}]}\n",
      "{'_id': 'movie:10', 'title': 'Blade Runner', 'year': 1982, 'director': {'_id': 'artist:4'}, 'actors': [{'_id': 'artist:24', 'role': 'Deckard'}, {'_id': 'artist:25', 'role': 'Batty'}]}\n",
      "{'_id': 'movie:2', 'title': 'Alien', 'year': 1979, 'director': {'_id': 'artist:4'}, 'actors': [{'_id': 'artist:5', 'role': 'Ripley'}]}\n"
     ]
    },
    {
     "name": "stderr",
     "output_type": "stream",
     "text": [
      "<ipython-input-31-fb03c062cffa>:3: DeprecationWarning: count is deprecated. Use Collection.count_documents instead.\n",
      "  print(request.count())\n"
     ]
    }
   ],
   "source": [
    "# Q : Combien de films produits par le director dont l'id est 4 et les afficher de plus récent au moins récent (sans le résumé ni le country ni le genre) ?\n",
    "\n",
    "print(\"Nombre de film réalisé par director 4:\")\n",
    "request = colMovies.find({\"director\":  {\"_id\": \"artist:4\"}}, {\"genre\": 0, \"country\": 0, \"summary\": 0})\n",
    "print(request.count())\n",
    "for movie in request.sort(\"year\", -1):\n",
    "    print(movie)"
   ]
  },
  {
   "cell_type": "code",
   "execution_count": 23,
   "metadata": {},
   "outputs": [
    {
     "name": "stdout",
     "output_type": "stream",
     "text": [
      "Nombre de film réalisé par director 4 et acteur de Maximus:\n",
      "1\n",
      "{'_id': 'movie:9', 'title': 'Gladiator', 'year': 2000, 'director': {'_id': 'artist:4'}, 'actors': [{'_id': 'artist:23', 'role': 'Maximus'}, {'_id': 'artist:147', 'role': 'Commode'}, {'_id': 'artist:148', 'role': 'Lucilla'}, {'_id': 'artist:149', 'role': 'Marc Aurele'}]}\n"
     ]
    },
    {
     "name": "stderr",
     "output_type": "stream",
     "text": [
      "<ipython-input-23-bf89089e1980>:5: DeprecationWarning: count is deprecated. Use Collection.count_documents instead.\n",
      "  print(request.count())\n"
     ]
    }
   ],
   "source": [
    "# Q : Combien de films produits par le director qui porte l'id 4 et dont l'un des acteurs a joué le rôle de Maximus et les afficher sans le résumé ni le country ni le genre ?\n",
    "\n",
    "print(\"Nombre de film réalisé par director 4 et acteur de Maximus:\")\n",
    "request = colMovies.find({\"director\":  {\"_id\": \"artist:4\"}, \"actors.role\": {\"$eq\": \"Maximus\"}}, {\"genre\": 0, \"country\": 0, \"summary\": 0})\n",
    "print(request.count())\n",
    "for movie in request:\n",
    "    print(movie)"
   ]
  },
  {
   "cell_type": "code",
   "execution_count": 35,
   "metadata": {},
   "outputs": [
    {
     "name": "stdout",
     "output_type": "stream",
     "text": [
      "Avec variables:\n",
      "{'_id': 'movie:9', 'title': 'Gladiator', 'year': 2000, 'director': {'_id': 'artist:4'}, 'actors': [{'_id': 'artist:23', 'role': 'Maximus'}, {'_id': 'artist:147', 'role': 'Commode'}, {'_id': 'artist:148', 'role': 'Lucilla'}, {'_id': 'artist:149', 'role': 'Marc Aurele'}]}\n"
     ]
    }
   ],
   "source": [
    "# Q : Ecrire la dernière Qry en déclarant des variables ?\n",
    "\n",
    "print(\"Avec variables:\")\n",
    "director = \"artist:4\"\n",
    "role = \"Maximus\"\n",
    "request = colMovies.find({\"director\": {\"_id\": director}, \"actors.role\": {\"$eq\": role}}, {\"genre\": 0, \"country\": 0, \"summary\": 0})\n",
    "for movie in request:\n",
    "    print(movie)\n",
    "    \n",
    "#Pas finie"
   ]
  },
  {
   "cell_type": "code",
   "execution_count": 39,
   "metadata": {},
   "outputs": [
    {
     "ename": "SyntaxError",
     "evalue": "invalid syntax (<ipython-input-39-c4bc63133e18>, line 4)",
     "output_type": "error",
     "traceback": [
      "\u001b[1;36m  File \u001b[1;32m\"<ipython-input-39-c4bc63133e18>\"\u001b[1;36m, line \u001b[1;32m4\u001b[0m\n\u001b[1;33m    request = colMovies.find(\"year\": {\"$range\": [ 2000, 2004, 1]}, {\"_id\": 0, \"genre\": 0, \"country\": 0, \"summary\": 0, \"director\": 0})\u001b[0m\n\u001b[1;37m                                   ^\u001b[0m\n\u001b[1;31mSyntaxError\u001b[0m\u001b[1;31m:\u001b[0m invalid syntax\n"
     ]
    }
   ],
   "source": [
    "# Q : Ts les films produits après 2000 compris et avant 2005 exlus (dans un ordre chronologique) en se limitant au titre du film et son année de production ?\n",
    "\n",
    "print(\"Entre 2000 et 2005(non inclus):\")\n",
    "request = colMovies.find(\"year\": {\"$range\": {2000, 2004, 1}}, {\"_id\": 0, \"genre\": 0, \"country\": 0, \"summary\": 0, \"director\": 0})"
   ]
  },
  {
   "cell_type": "code",
   "execution_count": null,
   "metadata": {},
   "outputs": [],
   "source": []
  }
 ],
 "metadata": {
  "kernelspec": {
   "display_name": "Python 3",
   "language": "python",
   "name": "python3"
  },
  "language_info": {
   "codemirror_mode": {
    "name": "ipython",
    "version": 3
   },
   "file_extension": ".py",
   "mimetype": "text/x-python",
   "name": "python",
   "nbconvert_exporter": "python",
   "pygments_lexer": "ipython3",
   "version": "3.8.5"
  }
 },
 "nbformat": 4,
 "nbformat_minor": 4
}
